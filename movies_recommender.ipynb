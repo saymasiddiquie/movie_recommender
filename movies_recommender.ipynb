{
 "cells": [
  {
   "cell_type": "code",
   "execution_count": 3,
   "id": "d8fe0109",
   "metadata": {
    "_cell_guid": "b1076dfc-b9ad-4769-8c92-a6c4dae69d19",
    "_uuid": "8f2839f25d086af736a60e9eeb907d3b93b6e0e5",
    "execution": {
     "iopub.execute_input": "2023-10-18T17:04:05.332887Z",
     "iopub.status.busy": "2023-10-18T17:04:05.332248Z",
     "iopub.status.idle": "2023-10-18T17:04:05.692771Z",
     "shell.execute_reply": "2023-10-18T17:04:05.691106Z"
    },
    "papermill": {
     "duration": 0.376514,
     "end_time": "2023-10-18T17:04:05.695714",
     "exception": false,
     "start_time": "2023-10-18T17:04:05.319200",
     "status": "completed"
    },
    "tags": []
   },
   "outputs": [],
   "source": [
    "import numpy as np   # linear algebra\n",
    "import pandas as pd"
   ]
  },
  {
   "cell_type": "markdown",
   "id": "4ea42a77",
   "metadata": {},
   "source": [
    "Reading csv files into dataframe"
   ]
  },
  {
   "cell_type": "code",
   "execution_count": null,
   "id": "fef1bdde",
   "metadata": {
    "execution": {
     "iopub.execute_input": "2023-10-18T17:04:05.722766Z",
     "iopub.status.busy": "2023-10-18T17:04:05.722318Z",
     "iopub.status.idle": "2023-10-18T17:04:06.723518Z",
     "shell.execute_reply": "2023-10-18T17:04:06.722593Z"
    },
    "papermill": {
     "duration": 1.016577,
     "end_time": "2023-10-18T17:04:06.725713",
     "exception": false,
     "start_time": "2023-10-18T17:04:05.709136",
     "status": "completed"
    },
    "tags": []
   },
   "outputs": [],
   "source": [
    "movies = pd.read_csv('C:/Users/Sayama Siddiquie/Downloads/movie_recommender_system/movies.csv')\n",
    "\n",
    "credits = pd.read_csv('credits.csv')\n"
   ]
  },
  {
   "cell_type": "code",
   "execution_count": 5,
   "id": "8dece7cc",
   "metadata": {
    "execution": {
     "iopub.execute_input": "2023-10-18T17:04:06.750598Z",
     "iopub.status.busy": "2023-10-18T17:04:06.749389Z",
     "iopub.status.idle": "2023-10-18T17:04:06.778786Z",
     "shell.execute_reply": "2023-10-18T17:04:06.777721Z"
    },
    "papermill": {
     "duration": 0.043655,
     "end_time": "2023-10-18T17:04:06.780717",
     "exception": false,
     "start_time": "2023-10-18T17:04:06.737062",
     "status": "completed"
    },
    "tags": []
   },
   "outputs": [
    {
     "name": "stdout",
     "output_type": "stream",
     "text": [
      "<class 'pandas.core.frame.DataFrame'>\n",
      "RangeIndex: 4803 entries, 0 to 4802\n",
      "Data columns (total 20 columns):\n",
      " #   Column                Non-Null Count  Dtype  \n",
      "---  ------                --------------  -----  \n",
      " 0   budget                4803 non-null   int64  \n",
      " 1   genres                4803 non-null   object \n",
      " 2   homepage              1712 non-null   object \n",
      " 3   id                    4803 non-null   int64  \n",
      " 4   keywords              4803 non-null   object \n",
      " 5   original_language     4803 non-null   object \n",
      " 6   original_title        4803 non-null   object \n",
      " 7   overview              4800 non-null   object \n",
      " 8   popularity            4803 non-null   float64\n",
      " 9   production_companies  4803 non-null   object \n",
      " 10  production_countries  4803 non-null   object \n",
      " 11  release_date          4802 non-null   object \n",
      " 12  revenue               4803 non-null   int64  \n",
      " 13  runtime               4801 non-null   float64\n",
      " 14  spoken_languages      4803 non-null   object \n",
      " 15  status                4803 non-null   object \n",
      " 16  tagline               3959 non-null   object \n",
      " 17  title                 4803 non-null   object \n",
      " 18  vote_average          4803 non-null   float64\n",
      " 19  vote_count            4803 non-null   int64  \n",
      "dtypes: float64(3), int64(4), object(13)\n",
      "memory usage: 750.6+ KB\n"
     ]
    }
   ],
   "source": [
    "movies.info()"
   ]
  },
  {
   "cell_type": "code",
   "execution_count": 6,
   "id": "7677883e",
   "metadata": {},
   "outputs": [
    {
     "name": "stdout",
     "output_type": "stream",
     "text": [
      "<class 'pandas.core.frame.DataFrame'>\n",
      "RangeIndex: 4803 entries, 0 to 4802\n",
      "Data columns (total 4 columns):\n",
      " #   Column    Non-Null Count  Dtype \n",
      "---  ------    --------------  ----- \n",
      " 0   movie_id  4803 non-null   int64 \n",
      " 1   title     4803 non-null   object\n",
      " 2   cast      4803 non-null   object\n",
      " 3   crew      4803 non-null   object\n",
      "dtypes: int64(1), object(3)\n",
      "memory usage: 150.2+ KB\n"
     ]
    }
   ],
   "source": [
    "credits.info()"
   ]
  },
  {
   "cell_type": "code",
   "execution_count": 7,
   "id": "26d473ad",
   "metadata": {
    "execution": {
     "iopub.execute_input": "2023-10-18T17:04:06.804421Z",
     "iopub.status.busy": "2023-10-18T17:04:06.804102Z",
     "iopub.status.idle": "2023-10-18T17:04:06.814502Z",
     "shell.execute_reply": "2023-10-18T17:04:06.813510Z"
    },
    "papermill": {
     "duration": 0.02459,
     "end_time": "2023-10-18T17:04:06.816451",
     "exception": false,
     "start_time": "2023-10-18T17:04:06.791861",
     "status": "completed"
    },
    "tags": []
   },
   "outputs": [
    {
     "data": {
      "text/html": [
       "<div>\n",
       "<style scoped>\n",
       "    .dataframe tbody tr th:only-of-type {\n",
       "        vertical-align: middle;\n",
       "    }\n",
       "\n",
       "    .dataframe tbody tr th {\n",
       "        vertical-align: top;\n",
       "    }\n",
       "\n",
       "    .dataframe thead th {\n",
       "        text-align: right;\n",
       "    }\n",
       "</style>\n",
       "<table border=\"1\" class=\"dataframe\">\n",
       "  <thead>\n",
       "    <tr style=\"text-align: right;\">\n",
       "      <th></th>\n",
       "      <th>movie_id</th>\n",
       "      <th>title</th>\n",
       "      <th>cast</th>\n",
       "      <th>crew</th>\n",
       "    </tr>\n",
       "  </thead>\n",
       "  <tbody>\n",
       "    <tr>\n",
       "      <th>0</th>\n",
       "      <td>19995</td>\n",
       "      <td>Avatar</td>\n",
       "      <td>[{\"cast_id\": 242, \"character\": \"Jake Sully\", \"...</td>\n",
       "      <td>[{\"credit_id\": \"52fe48009251416c750aca23\", \"de...</td>\n",
       "    </tr>\n",
       "    <tr>\n",
       "      <th>1</th>\n",
       "      <td>285</td>\n",
       "      <td>Pirates of the Caribbean: At World's End</td>\n",
       "      <td>[{\"cast_id\": 4, \"character\": \"Captain Jack Spa...</td>\n",
       "      <td>[{\"credit_id\": \"52fe4232c3a36847f800b579\", \"de...</td>\n",
       "    </tr>\n",
       "    <tr>\n",
       "      <th>2</th>\n",
       "      <td>206647</td>\n",
       "      <td>Spectre</td>\n",
       "      <td>[{\"cast_id\": 1, \"character\": \"James Bond\", \"cr...</td>\n",
       "      <td>[{\"credit_id\": \"54805967c3a36829b5002c41\", \"de...</td>\n",
       "    </tr>\n",
       "    <tr>\n",
       "      <th>3</th>\n",
       "      <td>49026</td>\n",
       "      <td>The Dark Knight Rises</td>\n",
       "      <td>[{\"cast_id\": 2, \"character\": \"Bruce Wayne / Ba...</td>\n",
       "      <td>[{\"credit_id\": \"52fe4781c3a36847f81398c3\", \"de...</td>\n",
       "    </tr>\n",
       "    <tr>\n",
       "      <th>4</th>\n",
       "      <td>49529</td>\n",
       "      <td>John Carter</td>\n",
       "      <td>[{\"cast_id\": 5, \"character\": \"John Carter\", \"c...</td>\n",
       "      <td>[{\"credit_id\": \"52fe479ac3a36847f813eaa3\", \"de...</td>\n",
       "    </tr>\n",
       "  </tbody>\n",
       "</table>\n",
       "</div>"
      ],
      "text/plain": [
       "   movie_id                                     title  \\\n",
       "0     19995                                    Avatar   \n",
       "1       285  Pirates of the Caribbean: At World's End   \n",
       "2    206647                                   Spectre   \n",
       "3     49026                     The Dark Knight Rises   \n",
       "4     49529                               John Carter   \n",
       "\n",
       "                                                cast  \\\n",
       "0  [{\"cast_id\": 242, \"character\": \"Jake Sully\", \"...   \n",
       "1  [{\"cast_id\": 4, \"character\": \"Captain Jack Spa...   \n",
       "2  [{\"cast_id\": 1, \"character\": \"James Bond\", \"cr...   \n",
       "3  [{\"cast_id\": 2, \"character\": \"Bruce Wayne / Ba...   \n",
       "4  [{\"cast_id\": 5, \"character\": \"John Carter\", \"c...   \n",
       "\n",
       "                                                crew  \n",
       "0  [{\"credit_id\": \"52fe48009251416c750aca23\", \"de...  \n",
       "1  [{\"credit_id\": \"52fe4232c3a36847f800b579\", \"de...  \n",
       "2  [{\"credit_id\": \"54805967c3a36829b5002c41\", \"de...  \n",
       "3  [{\"credit_id\": \"52fe4781c3a36847f81398c3\", \"de...  \n",
       "4  [{\"credit_id\": \"52fe479ac3a36847f813eaa3\", \"de...  "
      ]
     },
     "execution_count": 7,
     "metadata": {},
     "output_type": "execute_result"
    }
   ],
   "source": [
    "credits.head()"
   ]
  },
  {
   "cell_type": "code",
   "execution_count": 8,
   "id": "09033caa",
   "metadata": {
    "execution": {
     "iopub.execute_input": "2023-10-18T17:04:06.842751Z",
     "iopub.status.busy": "2023-10-18T17:04:06.841882Z",
     "iopub.status.idle": "2023-10-18T17:04:06.873614Z",
     "shell.execute_reply": "2023-10-18T17:04:06.872715Z"
    },
    "papermill": {
     "duration": 0.04791,
     "end_time": "2023-10-18T17:04:06.876021",
     "exception": false,
     "start_time": "2023-10-18T17:04:06.828111",
     "status": "completed"
    },
    "tags": []
   },
   "outputs": [],
   "source": [
    "movies = movies.merge(credits,on='title')"
   ]
  },
  {
   "cell_type": "code",
   "execution_count": 9,
   "id": "ba320ed2",
   "metadata": {
    "execution": {
     "iopub.execute_input": "2023-10-18T17:04:06.901114Z",
     "iopub.status.busy": "2023-10-18T17:04:06.900816Z",
     "iopub.status.idle": "2023-10-18T17:04:06.918513Z",
     "shell.execute_reply": "2023-10-18T17:04:06.917330Z"
    },
    "papermill": {
     "duration": 0.03271,
     "end_time": "2023-10-18T17:04:06.920582",
     "exception": false,
     "start_time": "2023-10-18T17:04:06.887872",
     "status": "completed"
    },
    "tags": []
   },
   "outputs": [
    {
     "data": {
      "text/html": [
       "<div>\n",
       "<style scoped>\n",
       "    .dataframe tbody tr th:only-of-type {\n",
       "        vertical-align: middle;\n",
       "    }\n",
       "\n",
       "    .dataframe tbody tr th {\n",
       "        vertical-align: top;\n",
       "    }\n",
       "\n",
       "    .dataframe thead th {\n",
       "        text-align: right;\n",
       "    }\n",
       "</style>\n",
       "<table border=\"1\" class=\"dataframe\">\n",
       "  <thead>\n",
       "    <tr style=\"text-align: right;\">\n",
       "      <th></th>\n",
       "      <th>budget</th>\n",
       "      <th>genres</th>\n",
       "      <th>homepage</th>\n",
       "      <th>id</th>\n",
       "      <th>keywords</th>\n",
       "      <th>original_language</th>\n",
       "      <th>original_title</th>\n",
       "      <th>overview</th>\n",
       "      <th>popularity</th>\n",
       "      <th>production_companies</th>\n",
       "      <th>...</th>\n",
       "      <th>runtime</th>\n",
       "      <th>spoken_languages</th>\n",
       "      <th>status</th>\n",
       "      <th>tagline</th>\n",
       "      <th>title</th>\n",
       "      <th>vote_average</th>\n",
       "      <th>vote_count</th>\n",
       "      <th>movie_id</th>\n",
       "      <th>cast</th>\n",
       "      <th>crew</th>\n",
       "    </tr>\n",
       "  </thead>\n",
       "  <tbody>\n",
       "    <tr>\n",
       "      <th>0</th>\n",
       "      <td>237000000</td>\n",
       "      <td>[{\"id\": 28, \"name\": \"Action\"}, {\"id\": 12, \"nam...</td>\n",
       "      <td>http://www.avatarmovie.com/</td>\n",
       "      <td>19995</td>\n",
       "      <td>[{\"id\": 1463, \"name\": \"culture clash\"}, {\"id\":...</td>\n",
       "      <td>en</td>\n",
       "      <td>Avatar</td>\n",
       "      <td>In the 22nd century, a paraplegic Marine is di...</td>\n",
       "      <td>150.437577</td>\n",
       "      <td>[{\"name\": \"Ingenious Film Partners\", \"id\": 289...</td>\n",
       "      <td>...</td>\n",
       "      <td>162.0</td>\n",
       "      <td>[{\"iso_639_1\": \"en\", \"name\": \"English\"}, {\"iso...</td>\n",
       "      <td>Released</td>\n",
       "      <td>Enter the World of Pandora.</td>\n",
       "      <td>Avatar</td>\n",
       "      <td>7.2</td>\n",
       "      <td>11800</td>\n",
       "      <td>19995</td>\n",
       "      <td>[{\"cast_id\": 242, \"character\": \"Jake Sully\", \"...</td>\n",
       "      <td>[{\"credit_id\": \"52fe48009251416c750aca23\", \"de...</td>\n",
       "    </tr>\n",
       "  </tbody>\n",
       "</table>\n",
       "<p>1 rows × 23 columns</p>\n",
       "</div>"
      ],
      "text/plain": [
       "      budget                                             genres  \\\n",
       "0  237000000  [{\"id\": 28, \"name\": \"Action\"}, {\"id\": 12, \"nam...   \n",
       "\n",
       "                      homepage     id  \\\n",
       "0  http://www.avatarmovie.com/  19995   \n",
       "\n",
       "                                            keywords original_language  \\\n",
       "0  [{\"id\": 1463, \"name\": \"culture clash\"}, {\"id\":...                en   \n",
       "\n",
       "  original_title                                           overview  \\\n",
       "0         Avatar  In the 22nd century, a paraplegic Marine is di...   \n",
       "\n",
       "   popularity                               production_companies  ... runtime  \\\n",
       "0  150.437577  [{\"name\": \"Ingenious Film Partners\", \"id\": 289...  ...   162.0   \n",
       "\n",
       "                                    spoken_languages    status  \\\n",
       "0  [{\"iso_639_1\": \"en\", \"name\": \"English\"}, {\"iso...  Released   \n",
       "\n",
       "                       tagline   title vote_average vote_count movie_id  \\\n",
       "0  Enter the World of Pandora.  Avatar          7.2      11800    19995   \n",
       "\n",
       "                                                cast  \\\n",
       "0  [{\"cast_id\": 242, \"character\": \"Jake Sully\", \"...   \n",
       "\n",
       "                                                crew  \n",
       "0  [{\"credit_id\": \"52fe48009251416c750aca23\", \"de...  \n",
       "\n",
       "[1 rows x 23 columns]"
      ]
     },
     "execution_count": 9,
     "metadata": {},
     "output_type": "execute_result"
    }
   ],
   "source": [
    "movies.head(1)"
   ]
  },
  {
   "cell_type": "code",
   "execution_count": 10,
   "id": "6968eca1",
   "metadata": {
    "execution": {
     "iopub.execute_input": "2023-10-18T17:04:06.947070Z",
     "iopub.status.busy": "2023-10-18T17:04:06.946311Z",
     "iopub.status.idle": "2023-10-18T17:04:06.956248Z",
     "shell.execute_reply": "2023-10-18T17:04:06.955495Z"
    },
    "papermill": {
     "duration": 0.025449,
     "end_time": "2023-10-18T17:04:06.958221",
     "exception": false,
     "start_time": "2023-10-18T17:04:06.932772",
     "status": "completed"
    },
    "tags": []
   },
   "outputs": [
    {
     "data": {
      "text/plain": [
       "original_language\n",
       "en    4510\n",
       "fr      70\n",
       "es      32\n",
       "zh      27\n",
       "de      27\n",
       "hi      19\n",
       "ja      16\n",
       "it      14\n",
       "ko      12\n",
       "cn      12\n",
       "ru      11\n",
       "pt       9\n",
       "da       7\n",
       "sv       5\n",
       "nl       4\n",
       "fa       4\n",
       "th       3\n",
       "he       3\n",
       "id       2\n",
       "cs       2\n",
       "ta       2\n",
       "ro       2\n",
       "ar       2\n",
       "te       1\n",
       "hu       1\n",
       "xx       1\n",
       "af       1\n",
       "is       1\n",
       "tr       1\n",
       "vi       1\n",
       "pl       1\n",
       "nb       1\n",
       "ky       1\n",
       "no       1\n",
       "sl       1\n",
       "ps       1\n",
       "el       1\n",
       "Name: count, dtype: int64"
      ]
     },
     "execution_count": 10,
     "metadata": {},
     "output_type": "execute_result"
    }
   ],
   "source": [
    "movies['original_language'].value_counts()"
   ]
  },
  {
   "cell_type": "code",
   "execution_count": 11,
   "id": "ea93342a",
   "metadata": {
    "execution": {
     "iopub.execute_input": "2023-10-18T17:04:06.984446Z",
     "iopub.status.busy": "2023-10-18T17:04:06.984119Z",
     "iopub.status.idle": "2023-10-18T17:04:07.006800Z",
     "shell.execute_reply": "2023-10-18T17:04:07.005644Z"
    },
    "papermill": {
     "duration": 0.03912,
     "end_time": "2023-10-18T17:04:07.009696",
     "exception": false,
     "start_time": "2023-10-18T17:04:06.970576",
     "status": "completed"
    },
    "tags": []
   },
   "outputs": [
    {
     "name": "stdout",
     "output_type": "stream",
     "text": [
      "<class 'pandas.core.frame.DataFrame'>\n",
      "RangeIndex: 4809 entries, 0 to 4808\n",
      "Data columns (total 23 columns):\n",
      " #   Column                Non-Null Count  Dtype  \n",
      "---  ------                --------------  -----  \n",
      " 0   budget                4809 non-null   int64  \n",
      " 1   genres                4809 non-null   object \n",
      " 2   homepage              1713 non-null   object \n",
      " 3   id                    4809 non-null   int64  \n",
      " 4   keywords              4809 non-null   object \n",
      " 5   original_language     4809 non-null   object \n",
      " 6   original_title        4809 non-null   object \n",
      " 7   overview              4806 non-null   object \n",
      " 8   popularity            4809 non-null   float64\n",
      " 9   production_companies  4809 non-null   object \n",
      " 10  production_countries  4809 non-null   object \n",
      " 11  release_date          4808 non-null   object \n",
      " 12  revenue               4809 non-null   int64  \n",
      " 13  runtime               4807 non-null   float64\n",
      " 14  spoken_languages      4809 non-null   object \n",
      " 15  status                4809 non-null   object \n",
      " 16  tagline               3965 non-null   object \n",
      " 17  title                 4809 non-null   object \n",
      " 18  vote_average          4809 non-null   float64\n",
      " 19  vote_count            4809 non-null   int64  \n",
      " 20  movie_id              4809 non-null   int64  \n",
      " 21  cast                  4809 non-null   object \n",
      " 22  crew                  4809 non-null   object \n",
      "dtypes: float64(3), int64(5), object(15)\n",
      "memory usage: 864.2+ KB\n"
     ]
    }
   ],
   "source": [
    "movies.info()"
   ]
  },
  {
   "cell_type": "markdown",
   "id": "dc4ade9a",
   "metadata": {
    "execution": {
     "iopub.execute_input": "2023-10-18T17:04:07.035666Z",
     "iopub.status.busy": "2023-10-18T17:04:07.035317Z",
     "iopub.status.idle": "2023-10-18T17:04:07.039563Z",
     "shell.execute_reply": "2023-10-18T17:04:07.038532Z"
    },
    "papermill": {
     "duration": 0.019363,
     "end_time": "2023-10-18T17:04:07.041360",
     "exception": false,
     "start_time": "2023-10-18T17:04:07.021997",
     "status": "completed"
    },
    "tags": []
   },
   "source": [
    "columns which we will keep         \n",
    "genres, id, keywords, title, overview, cast, crew"
   ]
  },
  {
   "cell_type": "code",
   "execution_count": 12,
   "id": "85a53f3f",
   "metadata": {
    "execution": {
     "iopub.execute_input": "2023-10-18T17:04:07.067525Z",
     "iopub.status.busy": "2023-10-18T17:04:07.066443Z",
     "iopub.status.idle": "2023-10-18T17:04:07.073358Z",
     "shell.execute_reply": "2023-10-18T17:04:07.072502Z"
    },
    "papermill": {
     "duration": 0.022071,
     "end_time": "2023-10-18T17:04:07.075555",
     "exception": false,
     "start_time": "2023-10-18T17:04:07.053484",
     "status": "completed"
    },
    "tags": []
   },
   "outputs": [
    {
     "data": {
      "text/html": [
       "<div>\n",
       "<style scoped>\n",
       "    .dataframe tbody tr th:only-of-type {\n",
       "        vertical-align: middle;\n",
       "    }\n",
       "\n",
       "    .dataframe tbody tr th {\n",
       "        vertical-align: top;\n",
       "    }\n",
       "\n",
       "    .dataframe thead th {\n",
       "        text-align: right;\n",
       "    }\n",
       "</style>\n",
       "<table border=\"1\" class=\"dataframe\">\n",
       "  <thead>\n",
       "    <tr style=\"text-align: right;\">\n",
       "      <th></th>\n",
       "      <th>genres</th>\n",
       "      <th>id</th>\n",
       "      <th>keywords</th>\n",
       "      <th>title</th>\n",
       "      <th>overview</th>\n",
       "      <th>cast</th>\n",
       "      <th>crew</th>\n",
       "    </tr>\n",
       "  </thead>\n",
       "  <tbody>\n",
       "    <tr>\n",
       "      <th>0</th>\n",
       "      <td>[{\"id\": 28, \"name\": \"Action\"}, {\"id\": 12, \"nam...</td>\n",
       "      <td>19995</td>\n",
       "      <td>[{\"id\": 1463, \"name\": \"culture clash\"}, {\"id\":...</td>\n",
       "      <td>Avatar</td>\n",
       "      <td>In the 22nd century, a paraplegic Marine is di...</td>\n",
       "      <td>[{\"cast_id\": 242, \"character\": \"Jake Sully\", \"...</td>\n",
       "      <td>[{\"credit_id\": \"52fe48009251416c750aca23\", \"de...</td>\n",
       "    </tr>\n",
       "  </tbody>\n",
       "</table>\n",
       "</div>"
      ],
      "text/plain": [
       "                                              genres     id  \\\n",
       "0  [{\"id\": 28, \"name\": \"Action\"}, {\"id\": 12, \"nam...  19995   \n",
       "\n",
       "                                            keywords   title  \\\n",
       "0  [{\"id\": 1463, \"name\": \"culture clash\"}, {\"id\":...  Avatar   \n",
       "\n",
       "                                            overview  \\\n",
       "0  In the 22nd century, a paraplegic Marine is di...   \n",
       "\n",
       "                                                cast  \\\n",
       "0  [{\"cast_id\": 242, \"character\": \"Jake Sully\", \"...   \n",
       "\n",
       "                                                crew  \n",
       "0  [{\"credit_id\": \"52fe48009251416c750aca23\", \"de...  "
      ]
     },
     "execution_count": 12,
     "metadata": {},
     "output_type": "execute_result"
    }
   ],
   "source": [
    "movies = movies[['genres','id','keywords','title','overview','cast','crew']]\n",
    "movies.head(1)"
   ]
  },
  {
   "cell_type": "code",
   "execution_count": 13,
   "id": "11919745",
   "metadata": {
    "execution": {
     "iopub.execute_input": "2023-10-18T17:04:07.101693Z",
     "iopub.status.busy": "2023-10-18T17:04:07.101365Z",
     "iopub.status.idle": "2023-10-18T17:04:07.112009Z",
     "shell.execute_reply": "2023-10-18T17:04:07.111064Z"
    },
    "papermill": {
     "duration": 0.026114,
     "end_time": "2023-10-18T17:04:07.113947",
     "exception": false,
     "start_time": "2023-10-18T17:04:07.087833",
     "status": "completed"
    },
    "tags": []
   },
   "outputs": [
    {
     "data": {
      "text/plain": [
       "genres      0\n",
       "id          0\n",
       "keywords    0\n",
       "title       0\n",
       "overview    3\n",
       "cast        0\n",
       "crew        0\n",
       "dtype: int64"
      ]
     },
     "execution_count": 13,
     "metadata": {},
     "output_type": "execute_result"
    }
   ],
   "source": [
    "movies.isnull().sum()"
   ]
  },
  {
   "cell_type": "code",
   "execution_count": 14,
   "id": "7a9afa90",
   "metadata": {
    "execution": {
     "iopub.execute_input": "2023-10-18T17:04:07.197294Z",
     "iopub.status.busy": "2023-10-18T17:04:07.196983Z",
     "iopub.status.idle": "2023-10-18T17:04:07.206539Z",
     "shell.execute_reply": "2023-10-18T17:04:07.205669Z"
    },
    "papermill": {
     "duration": 0.024878,
     "end_time": "2023-10-18T17:04:07.208320",
     "exception": false,
     "start_time": "2023-10-18T17:04:07.183442",
     "status": "completed"
    },
    "tags": []
   },
   "outputs": [],
   "source": [
    "movies.dropna(inplace=True)"
   ]
  },
  {
   "cell_type": "code",
   "execution_count": 15,
   "id": "4fca1b7e",
   "metadata": {
    "execution": {
     "iopub.execute_input": "2023-10-18T17:04:07.235176Z",
     "iopub.status.busy": "2023-10-18T17:04:07.234216Z",
     "iopub.status.idle": "2023-10-18T17:04:07.245388Z",
     "shell.execute_reply": "2023-10-18T17:04:07.244385Z"
    },
    "papermill": {
     "duration": 0.026445,
     "end_time": "2023-10-18T17:04:07.247265",
     "exception": false,
     "start_time": "2023-10-18T17:04:07.220820",
     "status": "completed"
    },
    "tags": []
   },
   "outputs": [
    {
     "data": {
      "text/plain": [
       "genres      0\n",
       "id          0\n",
       "keywords    0\n",
       "title       0\n",
       "overview    0\n",
       "cast        0\n",
       "crew        0\n",
       "dtype: int64"
      ]
     },
     "execution_count": 15,
     "metadata": {},
     "output_type": "execute_result"
    }
   ],
   "source": [
    "movies.isnull().sum()"
   ]
  },
  {
   "cell_type": "markdown",
   "id": "27af5999",
   "metadata": {},
   "source": [
    "To calculate sum of duplicate rows"
   ]
  },
  {
   "cell_type": "code",
   "execution_count": 16,
   "id": "0c8159a3",
   "metadata": {
    "execution": {
     "iopub.execute_input": "2023-10-18T17:04:07.274107Z",
     "iopub.status.busy": "2023-10-18T17:04:07.273793Z",
     "iopub.status.idle": "2023-10-18T17:04:07.375772Z",
     "shell.execute_reply": "2023-10-18T17:04:07.374877Z"
    },
    "papermill": {
     "duration": 0.118061,
     "end_time": "2023-10-18T17:04:07.378112",
     "exception": false,
     "start_time": "2023-10-18T17:04:07.260051",
     "status": "completed"
    },
    "tags": []
   },
   "outputs": [
    {
     "data": {
      "text/plain": [
       "np.int64(0)"
      ]
     },
     "execution_count": 16,
     "metadata": {},
     "output_type": "execute_result"
    }
   ],
   "source": [
    "movies.duplicated().sum()"
   ]
  },
  {
   "cell_type": "code",
   "execution_count": 17,
   "id": "be84a45d",
   "metadata": {},
   "outputs": [
    {
     "data": {
      "text/html": [
       "<div>\n",
       "<style scoped>\n",
       "    .dataframe tbody tr th:only-of-type {\n",
       "        vertical-align: middle;\n",
       "    }\n",
       "\n",
       "    .dataframe tbody tr th {\n",
       "        vertical-align: top;\n",
       "    }\n",
       "\n",
       "    .dataframe thead th {\n",
       "        text-align: right;\n",
       "    }\n",
       "</style>\n",
       "<table border=\"1\" class=\"dataframe\">\n",
       "  <thead>\n",
       "    <tr style=\"text-align: right;\">\n",
       "      <th></th>\n",
       "      <th>genres</th>\n",
       "      <th>id</th>\n",
       "      <th>keywords</th>\n",
       "      <th>title</th>\n",
       "      <th>overview</th>\n",
       "      <th>cast</th>\n",
       "      <th>crew</th>\n",
       "    </tr>\n",
       "  </thead>\n",
       "  <tbody>\n",
       "    <tr>\n",
       "      <th>0</th>\n",
       "      <td>[{\"id\": 28, \"name\": \"Action\"}, {\"id\": 12, \"nam...</td>\n",
       "      <td>19995</td>\n",
       "      <td>[{\"id\": 1463, \"name\": \"culture clash\"}, {\"id\":...</td>\n",
       "      <td>Avatar</td>\n",
       "      <td>In the 22nd century, a paraplegic Marine is di...</td>\n",
       "      <td>[{\"cast_id\": 242, \"character\": \"Jake Sully\", \"...</td>\n",
       "      <td>[{\"credit_id\": \"52fe48009251416c750aca23\", \"de...</td>\n",
       "    </tr>\n",
       "    <tr>\n",
       "      <th>1</th>\n",
       "      <td>[{\"id\": 12, \"name\": \"Adventure\"}, {\"id\": 14, \"...</td>\n",
       "      <td>285</td>\n",
       "      <td>[{\"id\": 270, \"name\": \"ocean\"}, {\"id\": 726, \"na...</td>\n",
       "      <td>Pirates of the Caribbean: At World's End</td>\n",
       "      <td>Captain Barbossa, long believed to be dead, ha...</td>\n",
       "      <td>[{\"cast_id\": 4, \"character\": \"Captain Jack Spa...</td>\n",
       "      <td>[{\"credit_id\": \"52fe4232c3a36847f800b579\", \"de...</td>\n",
       "    </tr>\n",
       "    <tr>\n",
       "      <th>2</th>\n",
       "      <td>[{\"id\": 28, \"name\": \"Action\"}, {\"id\": 12, \"nam...</td>\n",
       "      <td>206647</td>\n",
       "      <td>[{\"id\": 470, \"name\": \"spy\"}, {\"id\": 818, \"name...</td>\n",
       "      <td>Spectre</td>\n",
       "      <td>A cryptic message from Bond’s past sends him o...</td>\n",
       "      <td>[{\"cast_id\": 1, \"character\": \"James Bond\", \"cr...</td>\n",
       "      <td>[{\"credit_id\": \"54805967c3a36829b5002c41\", \"de...</td>\n",
       "    </tr>\n",
       "    <tr>\n",
       "      <th>3</th>\n",
       "      <td>[{\"id\": 28, \"name\": \"Action\"}, {\"id\": 80, \"nam...</td>\n",
       "      <td>49026</td>\n",
       "      <td>[{\"id\": 849, \"name\": \"dc comics\"}, {\"id\": 853,...</td>\n",
       "      <td>The Dark Knight Rises</td>\n",
       "      <td>Following the death of District Attorney Harve...</td>\n",
       "      <td>[{\"cast_id\": 2, \"character\": \"Bruce Wayne / Ba...</td>\n",
       "      <td>[{\"credit_id\": \"52fe4781c3a36847f81398c3\", \"de...</td>\n",
       "    </tr>\n",
       "    <tr>\n",
       "      <th>4</th>\n",
       "      <td>[{\"id\": 28, \"name\": \"Action\"}, {\"id\": 12, \"nam...</td>\n",
       "      <td>49529</td>\n",
       "      <td>[{\"id\": 818, \"name\": \"based on novel\"}, {\"id\":...</td>\n",
       "      <td>John Carter</td>\n",
       "      <td>John Carter is a war-weary, former military ca...</td>\n",
       "      <td>[{\"cast_id\": 5, \"character\": \"John Carter\", \"c...</td>\n",
       "      <td>[{\"credit_id\": \"52fe479ac3a36847f813eaa3\", \"de...</td>\n",
       "    </tr>\n",
       "  </tbody>\n",
       "</table>\n",
       "</div>"
      ],
      "text/plain": [
       "                                              genres      id  \\\n",
       "0  [{\"id\": 28, \"name\": \"Action\"}, {\"id\": 12, \"nam...   19995   \n",
       "1  [{\"id\": 12, \"name\": \"Adventure\"}, {\"id\": 14, \"...     285   \n",
       "2  [{\"id\": 28, \"name\": \"Action\"}, {\"id\": 12, \"nam...  206647   \n",
       "3  [{\"id\": 28, \"name\": \"Action\"}, {\"id\": 80, \"nam...   49026   \n",
       "4  [{\"id\": 28, \"name\": \"Action\"}, {\"id\": 12, \"nam...   49529   \n",
       "\n",
       "                                            keywords  \\\n",
       "0  [{\"id\": 1463, \"name\": \"culture clash\"}, {\"id\":...   \n",
       "1  [{\"id\": 270, \"name\": \"ocean\"}, {\"id\": 726, \"na...   \n",
       "2  [{\"id\": 470, \"name\": \"spy\"}, {\"id\": 818, \"name...   \n",
       "3  [{\"id\": 849, \"name\": \"dc comics\"}, {\"id\": 853,...   \n",
       "4  [{\"id\": 818, \"name\": \"based on novel\"}, {\"id\":...   \n",
       "\n",
       "                                      title  \\\n",
       "0                                    Avatar   \n",
       "1  Pirates of the Caribbean: At World's End   \n",
       "2                                   Spectre   \n",
       "3                     The Dark Knight Rises   \n",
       "4                               John Carter   \n",
       "\n",
       "                                            overview  \\\n",
       "0  In the 22nd century, a paraplegic Marine is di...   \n",
       "1  Captain Barbossa, long believed to be dead, ha...   \n",
       "2  A cryptic message from Bond’s past sends him o...   \n",
       "3  Following the death of District Attorney Harve...   \n",
       "4  John Carter is a war-weary, former military ca...   \n",
       "\n",
       "                                                cast  \\\n",
       "0  [{\"cast_id\": 242, \"character\": \"Jake Sully\", \"...   \n",
       "1  [{\"cast_id\": 4, \"character\": \"Captain Jack Spa...   \n",
       "2  [{\"cast_id\": 1, \"character\": \"James Bond\", \"cr...   \n",
       "3  [{\"cast_id\": 2, \"character\": \"Bruce Wayne / Ba...   \n",
       "4  [{\"cast_id\": 5, \"character\": \"John Carter\", \"c...   \n",
       "\n",
       "                                                crew  \n",
       "0  [{\"credit_id\": \"52fe48009251416c750aca23\", \"de...  \n",
       "1  [{\"credit_id\": \"52fe4232c3a36847f800b579\", \"de...  \n",
       "2  [{\"credit_id\": \"54805967c3a36829b5002c41\", \"de...  \n",
       "3  [{\"credit_id\": \"52fe4781c3a36847f81398c3\", \"de...  \n",
       "4  [{\"credit_id\": \"52fe479ac3a36847f813eaa3\", \"de...  "
      ]
     },
     "execution_count": 17,
     "metadata": {},
     "output_type": "execute_result"
    }
   ],
   "source": [
    "movies.head()"
   ]
  },
  {
   "cell_type": "code",
   "execution_count": 18,
   "id": "4a0bbbc9",
   "metadata": {
    "execution": {
     "iopub.execute_input": "2023-10-18T17:04:07.404781Z",
     "iopub.status.busy": "2023-10-18T17:04:07.404422Z",
     "iopub.status.idle": "2023-10-18T17:04:07.411458Z",
     "shell.execute_reply": "2023-10-18T17:04:07.410385Z"
    },
    "papermill": {
     "duration": 0.022796,
     "end_time": "2023-10-18T17:04:07.413640",
     "exception": false,
     "start_time": "2023-10-18T17:04:07.390844",
     "status": "completed"
    },
    "tags": []
   },
   "outputs": [
    {
     "data": {
      "text/plain": [
       "'[{\"id\": 1463, \"name\": \"culture clash\"}, {\"id\": 2964, \"name\": \"future\"}, {\"id\": 3386, \"name\": \"space war\"}, {\"id\": 3388, \"name\": \"space colony\"}, {\"id\": 3679, \"name\": \"society\"}, {\"id\": 3801, \"name\": \"space travel\"}, {\"id\": 9685, \"name\": \"futuristic\"}, {\"id\": 9840, \"name\": \"romance\"}, {\"id\": 9882, \"name\": \"space\"}, {\"id\": 9951, \"name\": \"alien\"}, {\"id\": 10148, \"name\": \"tribe\"}, {\"id\": 10158, \"name\": \"alien planet\"}, {\"id\": 10987, \"name\": \"cgi\"}, {\"id\": 11399, \"name\": \"marine\"}, {\"id\": 13065, \"name\": \"soldier\"}, {\"id\": 14643, \"name\": \"battle\"}, {\"id\": 14720, \"name\": \"love affair\"}, {\"id\": 165431, \"name\": \"anti war\"}, {\"id\": 193554, \"name\": \"power relations\"}, {\"id\": 206690, \"name\": \"mind and soul\"}, {\"id\": 209714, \"name\": \"3d\"}]'"
      ]
     },
     "execution_count": 18,
     "metadata": {},
     "output_type": "execute_result"
    }
   ],
   "source": [
    "movies.iloc[0]['keywords']"
   ]
  },
  {
   "cell_type": "markdown",
   "id": "44f7a294",
   "metadata": {
    "execution": {
     "iopub.execute_input": "2023-10-18T17:04:07.441242Z",
     "iopub.status.busy": "2023-10-18T17:04:07.440673Z",
     "iopub.status.idle": "2023-10-18T17:04:07.444722Z",
     "shell.execute_reply": "2023-10-18T17:04:07.444038Z"
    },
    "papermill": {
     "duration": 0.020142,
     "end_time": "2023-10-18T17:04:07.446563",
     "exception": false,
     "start_time": "2023-10-18T17:04:07.426421",
     "status": "completed"
    },
    "tags": []
   },
   "source": [
    "A module in python to convert a string of list INTO list          \n",
    "example : '[{\"name\": \"Alice\"}, {\"name\": \"Bob\"}]'-->[{\"name\": \"Alice\"}, {\"name\": \"Bob\"}]"
   ]
  },
  {
   "cell_type": "code",
   "execution_count": 19,
   "id": "2fa8ce59",
   "metadata": {
    "execution": {
     "iopub.execute_input": "2023-10-18T17:04:07.473461Z",
     "iopub.status.busy": "2023-10-18T17:04:07.473109Z",
     "iopub.status.idle": "2023-10-18T17:04:07.476781Z",
     "shell.execute_reply": "2023-10-18T17:04:07.475778Z"
    },
    "papermill": {
     "duration": 0.019511,
     "end_time": "2023-10-18T17:04:07.478697",
     "exception": false,
     "start_time": "2023-10-18T17:04:07.459186",
     "status": "completed"
    },
    "tags": []
   },
   "outputs": [],
   "source": [
    "import ast"
   ]
  },
  {
   "cell_type": "code",
   "execution_count": 20,
   "id": "8b9d7588",
   "metadata": {
    "execution": {
     "iopub.execute_input": "2023-10-18T17:04:07.505661Z",
     "iopub.status.busy": "2023-10-18T17:04:07.505275Z",
     "iopub.status.idle": "2023-10-18T17:04:07.510235Z",
     "shell.execute_reply": "2023-10-18T17:04:07.509271Z"
    },
    "papermill": {
     "duration": 0.020742,
     "end_time": "2023-10-18T17:04:07.512276",
     "exception": false,
     "start_time": "2023-10-18T17:04:07.491534",
     "status": "completed"
    },
    "tags": []
   },
   "outputs": [],
   "source": [
    "def convert(obj):\n",
    "    L = []\n",
    "    for i in ast.literal_eval(obj):\n",
    "        L.append(i['name'])\n",
    "    return L\n"
   ]
  },
  {
   "cell_type": "code",
   "execution_count": 21,
   "id": "a527b0c3",
   "metadata": {
    "execution": {
     "iopub.execute_input": "2023-10-18T17:04:07.540499Z",
     "iopub.status.busy": "2023-10-18T17:04:07.540114Z",
     "iopub.status.idle": "2023-10-18T17:04:07.692766Z",
     "shell.execute_reply": "2023-10-18T17:04:07.691695Z"
    },
    "papermill": {
     "duration": 0.169107,
     "end_time": "2023-10-18T17:04:07.695059",
     "exception": false,
     "start_time": "2023-10-18T17:04:07.525952",
     "status": "completed"
    },
    "tags": []
   },
   "outputs": [],
   "source": [
    "movies['genres'] = movies['genres'].apply(convert)"
   ]
  },
  {
   "cell_type": "code",
   "execution_count": 22,
   "id": "5cf0364a",
   "metadata": {
    "execution": {
     "iopub.execute_input": "2023-10-18T17:04:07.722819Z",
     "iopub.status.busy": "2023-10-18T17:04:07.721914Z",
     "iopub.status.idle": "2023-10-18T17:04:07.728120Z",
     "shell.execute_reply": "2023-10-18T17:04:07.727387Z"
    },
    "papermill": {
     "duration": 0.021779,
     "end_time": "2023-10-18T17:04:07.729837",
     "exception": false,
     "start_time": "2023-10-18T17:04:07.708058",
     "status": "completed"
    },
    "tags": []
   },
   "outputs": [
    {
     "data": {
      "text/plain": [
       "['Action', 'Adventure', 'Fantasy']"
      ]
     },
     "execution_count": 22,
     "metadata": {},
     "output_type": "execute_result"
    }
   ],
   "source": [
    "movies.iloc[19].genres"
   ]
  },
  {
   "cell_type": "code",
   "execution_count": 23,
   "id": "ca0d2721",
   "metadata": {
    "execution": {
     "iopub.execute_input": "2023-10-18T17:04:07.757917Z",
     "iopub.status.busy": "2023-10-18T17:04:07.757338Z",
     "iopub.status.idle": "2023-10-18T17:04:08.137248Z",
     "shell.execute_reply": "2023-10-18T17:04:08.136545Z"
    },
    "papermill": {
     "duration": 0.396601,
     "end_time": "2023-10-18T17:04:08.139703",
     "exception": false,
     "start_time": "2023-10-18T17:04:07.743102",
     "status": "completed"
    },
    "tags": []
   },
   "outputs": [],
   "source": [
    "movies['keywords'] = movies['keywords'].apply(convert)"
   ]
  },
  {
   "cell_type": "code",
   "execution_count": 24,
   "id": "fa0c0c99",
   "metadata": {
    "execution": {
     "iopub.execute_input": "2023-10-18T17:04:08.168692Z",
     "iopub.status.busy": "2023-10-18T17:04:08.167843Z",
     "iopub.status.idle": "2023-10-18T17:04:08.174559Z",
     "shell.execute_reply": "2023-10-18T17:04:08.173651Z"
    },
    "papermill": {
     "duration": 0.023352,
     "end_time": "2023-10-18T17:04:08.176819",
     "exception": false,
     "start_time": "2023-10-18T17:04:08.153467",
     "status": "completed"
    },
    "tags": []
   },
   "outputs": [
    {
     "data": {
      "text/plain": [
       "'[{\"cast_id\": 242, \"character\": \"Jake Sully\", \"credit_id\": \"5602a8a7c3a3685532001c9a\", \"gender\": 2, \"id\": 65731, \"name\": \"Sam Worthington\", \"order\": 0}, {\"cast_id\": 3, \"character\": \"Neytiri\", \"credit_id\": \"52fe48009251416c750ac9cb\", \"gender\": 1, \"id\": 8691, \"name\": \"Zoe Saldana\", \"order\": 1}, {\"cast_id\": 25, \"character\": \"Dr. Grace Augustine\", \"credit_id\": \"52fe48009251416c750aca39\", \"gender\": 1, \"id\": 10205, \"name\": \"Sigourney Weaver\", \"order\": 2}, {\"cast_id\": 4, \"character\": \"Col. Quaritch\", \"credit_id\": \"52fe48009251416c750ac9cf\", \"gender\": 2, \"id\": 32747, \"name\": \"Stephen Lang\", \"order\": 3}, {\"cast_id\": 5, \"character\": \"Trudy Chacon\", \"credit_id\": \"52fe48009251416c750ac9d3\", \"gender\": 1, \"id\": 17647, \"name\": \"Michelle Rodriguez\", \"order\": 4}, {\"cast_id\": 8, \"character\": \"Selfridge\", \"credit_id\": \"52fe48009251416c750ac9e1\", \"gender\": 2, \"id\": 1771, \"name\": \"Giovanni Ribisi\", \"order\": 5}, {\"cast_id\": 7, \"character\": \"Norm Spellman\", \"credit_id\": \"52fe48009251416c750ac9dd\", \"gender\": 2, \"id\": 59231, \"name\": \"Joel David Moore\", \"order\": 6}, {\"cast_id\": 9, \"character\": \"Moat\", \"credit_id\": \"52fe48009251416c750ac9e5\", \"gender\": 1, \"id\": 30485, \"name\": \"CCH Pounder\", \"order\": 7}, {\"cast_id\": 11, \"character\": \"Eytukan\", \"credit_id\": \"52fe48009251416c750ac9ed\", \"gender\": 2, \"id\": 15853, \"name\": \"Wes Studi\", \"order\": 8}, {\"cast_id\": 10, \"character\": \"Tsu\\'Tey\", \"credit_id\": \"52fe48009251416c750ac9e9\", \"gender\": 2, \"id\": 10964, \"name\": \"Laz Alonso\", \"order\": 9}, {\"cast_id\": 12, \"character\": \"Dr. Max Patel\", \"credit_id\": \"52fe48009251416c750ac9f1\", \"gender\": 2, \"id\": 95697, \"name\": \"Dileep Rao\", \"order\": 10}, {\"cast_id\": 13, \"character\": \"Lyle Wainfleet\", \"credit_id\": \"52fe48009251416c750ac9f5\", \"gender\": 2, \"id\": 98215, \"name\": \"Matt Gerald\", \"order\": 11}, {\"cast_id\": 32, \"character\": \"Private Fike\", \"credit_id\": \"52fe48009251416c750aca5b\", \"gender\": 2, \"id\": 154153, \"name\": \"Sean Anthony Moran\", \"order\": 12}, {\"cast_id\": 33, \"character\": \"Cryo Vault Med Tech\", \"credit_id\": \"52fe48009251416c750aca5f\", \"gender\": 2, \"id\": 397312, \"name\": \"Jason Whyte\", \"order\": 13}, {\"cast_id\": 34, \"character\": \"Venture Star Crew Chief\", \"credit_id\": \"52fe48009251416c750aca63\", \"gender\": 2, \"id\": 42317, \"name\": \"Scott Lawrence\", \"order\": 14}, {\"cast_id\": 35, \"character\": \"Lock Up Trooper\", \"credit_id\": \"52fe48009251416c750aca67\", \"gender\": 2, \"id\": 986734, \"name\": \"Kelly Kilgour\", \"order\": 15}, {\"cast_id\": 36, \"character\": \"Shuttle Pilot\", \"credit_id\": \"52fe48009251416c750aca6b\", \"gender\": 0, \"id\": 1207227, \"name\": \"James Patrick Pitt\", \"order\": 16}, {\"cast_id\": 37, \"character\": \"Shuttle Co-Pilot\", \"credit_id\": \"52fe48009251416c750aca6f\", \"gender\": 0, \"id\": 1180936, \"name\": \"Sean Patrick Murphy\", \"order\": 17}, {\"cast_id\": 38, \"character\": \"Shuttle Crew Chief\", \"credit_id\": \"52fe48009251416c750aca73\", \"gender\": 2, \"id\": 1019578, \"name\": \"Peter Dillon\", \"order\": 18}, {\"cast_id\": 39, \"character\": \"Tractor Operator / Troupe\", \"credit_id\": \"52fe48009251416c750aca77\", \"gender\": 0, \"id\": 91443, \"name\": \"Kevin Dorman\", \"order\": 19}, {\"cast_id\": 40, \"character\": \"Dragon Gunship Pilot\", \"credit_id\": \"52fe48009251416c750aca7b\", \"gender\": 2, \"id\": 173391, \"name\": \"Kelson Henderson\", \"order\": 20}, {\"cast_id\": 41, \"character\": \"Dragon Gunship Gunner\", \"credit_id\": \"52fe48009251416c750aca7f\", \"gender\": 0, \"id\": 1207236, \"name\": \"David Van Horn\", \"order\": 21}, {\"cast_id\": 42, \"character\": \"Dragon Gunship Navigator\", \"credit_id\": \"52fe48009251416c750aca83\", \"gender\": 0, \"id\": 215913, \"name\": \"Jacob Tomuri\", \"order\": 22}, {\"cast_id\": 43, \"character\": \"Suit #1\", \"credit_id\": \"52fe48009251416c750aca87\", \"gender\": 0, \"id\": 143206, \"name\": \"Michael Blain-Rozgay\", \"order\": 23}, {\"cast_id\": 44, \"character\": \"Suit #2\", \"credit_id\": \"52fe48009251416c750aca8b\", \"gender\": 2, \"id\": 169676, \"name\": \"Jon Curry\", \"order\": 24}, {\"cast_id\": 46, \"character\": \"Ambient Room Tech\", \"credit_id\": \"52fe48009251416c750aca8f\", \"gender\": 0, \"id\": 1048610, \"name\": \"Luke Hawker\", \"order\": 25}, {\"cast_id\": 47, \"character\": \"Ambient Room Tech / Troupe\", \"credit_id\": \"52fe48009251416c750aca93\", \"gender\": 0, \"id\": 42288, \"name\": \"Woody Schultz\", \"order\": 26}, {\"cast_id\": 48, \"character\": \"Horse Clan Leader\", \"credit_id\": \"52fe48009251416c750aca97\", \"gender\": 2, \"id\": 68278, \"name\": \"Peter Mensah\", \"order\": 27}, {\"cast_id\": 49, \"character\": \"Link Room Tech\", \"credit_id\": \"52fe48009251416c750aca9b\", \"gender\": 0, \"id\": 1207247, \"name\": \"Sonia Yee\", \"order\": 28}, {\"cast_id\": 50, \"character\": \"Basketball Avatar / Troupe\", \"credit_id\": \"52fe48009251416c750aca9f\", \"gender\": 1, \"id\": 1207248, \"name\": \"Jahnel Curfman\", \"order\": 29}, {\"cast_id\": 51, \"character\": \"Basketball Avatar\", \"credit_id\": \"52fe48009251416c750acaa3\", \"gender\": 0, \"id\": 89714, \"name\": \"Ilram Choi\", \"order\": 30}, {\"cast_id\": 52, \"character\": \"Na\\'vi Child\", \"credit_id\": \"52fe48009251416c750acaa7\", \"gender\": 0, \"id\": 1207249, \"name\": \"Kyla Warren\", \"order\": 31}, {\"cast_id\": 53, \"character\": \"Troupe\", \"credit_id\": \"52fe48009251416c750acaab\", \"gender\": 0, \"id\": 1207250, \"name\": \"Lisa Roumain\", \"order\": 32}, {\"cast_id\": 54, \"character\": \"Troupe\", \"credit_id\": \"52fe48009251416c750acaaf\", \"gender\": 1, \"id\": 83105, \"name\": \"Debra Wilson\", \"order\": 33}, {\"cast_id\": 57, \"character\": \"Troupe\", \"credit_id\": \"52fe48009251416c750acabb\", \"gender\": 0, \"id\": 1207253, \"name\": \"Chris Mala\", \"order\": 34}, {\"cast_id\": 55, \"character\": \"Troupe\", \"credit_id\": \"52fe48009251416c750acab3\", \"gender\": 0, \"id\": 1207251, \"name\": \"Taylor Kibby\", \"order\": 35}, {\"cast_id\": 56, \"character\": \"Troupe\", \"credit_id\": \"52fe48009251416c750acab7\", \"gender\": 0, \"id\": 1207252, \"name\": \"Jodie Landau\", \"order\": 36}, {\"cast_id\": 58, \"character\": \"Troupe\", \"credit_id\": \"52fe48009251416c750acabf\", \"gender\": 0, \"id\": 1207254, \"name\": \"Julie Lamm\", \"order\": 37}, {\"cast_id\": 59, \"character\": \"Troupe\", \"credit_id\": \"52fe48009251416c750acac3\", \"gender\": 0, \"id\": 1207257, \"name\": \"Cullen B. Madden\", \"order\": 38}, {\"cast_id\": 60, \"character\": \"Troupe\", \"credit_id\": \"52fe48009251416c750acac7\", \"gender\": 0, \"id\": 1207259, \"name\": \"Joseph Brady Madden\", \"order\": 39}, {\"cast_id\": 61, \"character\": \"Troupe\", \"credit_id\": \"52fe48009251416c750acacb\", \"gender\": 0, \"id\": 1207262, \"name\": \"Frankie Torres\", \"order\": 40}, {\"cast_id\": 62, \"character\": \"Troupe\", \"credit_id\": \"52fe48009251416c750acacf\", \"gender\": 1, \"id\": 1158600, \"name\": \"Austin Wilson\", \"order\": 41}, {\"cast_id\": 63, \"character\": \"Troupe\", \"credit_id\": \"52fe48019251416c750acad3\", \"gender\": 1, \"id\": 983705, \"name\": \"Sara Wilson\", \"order\": 42}, {\"cast_id\": 64, \"character\": \"Troupe\", \"credit_id\": \"52fe48019251416c750acad7\", \"gender\": 0, \"id\": 1207263, \"name\": \"Tamica Washington-Miller\", \"order\": 43}, {\"cast_id\": 65, \"character\": \"Op Center Staff\", \"credit_id\": \"52fe48019251416c750acadb\", \"gender\": 1, \"id\": 1145098, \"name\": \"Lucy Briant\", \"order\": 44}, {\"cast_id\": 66, \"character\": \"Op Center Staff\", \"credit_id\": \"52fe48019251416c750acadf\", \"gender\": 2, \"id\": 33305, \"name\": \"Nathan Meister\", \"order\": 45}, {\"cast_id\": 67, \"character\": \"Op Center Staff\", \"credit_id\": \"52fe48019251416c750acae3\", \"gender\": 0, \"id\": 1207264, \"name\": \"Gerry Blair\", \"order\": 46}, {\"cast_id\": 68, \"character\": \"Op Center Staff\", \"credit_id\": \"52fe48019251416c750acae7\", \"gender\": 2, \"id\": 33311, \"name\": \"Matthew Chamberlain\", \"order\": 47}, {\"cast_id\": 69, \"character\": \"Op Center Staff\", \"credit_id\": \"52fe48019251416c750acaeb\", \"gender\": 0, \"id\": 1207265, \"name\": \"Paul Yates\", \"order\": 48}, {\"cast_id\": 70, \"character\": \"Op Center Duty Officer\", \"credit_id\": \"52fe48019251416c750acaef\", \"gender\": 0, \"id\": 1207266, \"name\": \"Wray Wilson\", \"order\": 49}, {\"cast_id\": 71, \"character\": \"Op Center Staff\", \"credit_id\": \"52fe48019251416c750acaf3\", \"gender\": 2, \"id\": 54492, \"name\": \"James Gaylyn\", \"order\": 50}, {\"cast_id\": 72, \"character\": \"Dancer\", \"credit_id\": \"52fe48019251416c750acaf7\", \"gender\": 0, \"id\": 1207267, \"name\": \"Melvin Leno Clark III\", \"order\": 51}, {\"cast_id\": 73, \"character\": \"Dancer\", \"credit_id\": \"52fe48019251416c750acafb\", \"gender\": 0, \"id\": 1207268, \"name\": \"Carvon Futrell\", \"order\": 52}, {\"cast_id\": 74, \"character\": \"Dancer\", \"credit_id\": \"52fe48019251416c750acaff\", \"gender\": 0, \"id\": 1207269, \"name\": \"Brandon Jelkes\", \"order\": 53}, {\"cast_id\": 75, \"character\": \"Dancer\", \"credit_id\": \"52fe48019251416c750acb03\", \"gender\": 0, \"id\": 1207270, \"name\": \"Micah Moch\", \"order\": 54}, {\"cast_id\": 76, \"character\": \"Dancer\", \"credit_id\": \"52fe48019251416c750acb07\", \"gender\": 0, \"id\": 1207271, \"name\": \"Hanniyah Muhammad\", \"order\": 55}, {\"cast_id\": 77, \"character\": \"Dancer\", \"credit_id\": \"52fe48019251416c750acb0b\", \"gender\": 0, \"id\": 1207272, \"name\": \"Christopher Nolen\", \"order\": 56}, {\"cast_id\": 78, \"character\": \"Dancer\", \"credit_id\": \"52fe48019251416c750acb0f\", \"gender\": 0, \"id\": 1207273, \"name\": \"Christa Oliver\", \"order\": 57}, {\"cast_id\": 79, \"character\": \"Dancer\", \"credit_id\": \"52fe48019251416c750acb13\", \"gender\": 0, \"id\": 1207274, \"name\": \"April Marie Thomas\", \"order\": 58}, {\"cast_id\": 80, \"character\": \"Dancer\", \"credit_id\": \"52fe48019251416c750acb17\", \"gender\": 0, \"id\": 1207275, \"name\": \"Bravita A. Threatt\", \"order\": 59}, {\"cast_id\": 81, \"character\": \"Mining Chief (uncredited)\", \"credit_id\": \"52fe48019251416c750acb1b\", \"gender\": 0, \"id\": 1207276, \"name\": \"Colin Bleasdale\", \"order\": 60}, {\"cast_id\": 82, \"character\": \"Veteran Miner (uncredited)\", \"credit_id\": \"52fe48019251416c750acb1f\", \"gender\": 0, \"id\": 107969, \"name\": \"Mike Bodnar\", \"order\": 61}, {\"cast_id\": 83, \"character\": \"Richard (uncredited)\", \"credit_id\": \"52fe48019251416c750acb23\", \"gender\": 0, \"id\": 1207278, \"name\": \"Matt Clayton\", \"order\": 62}, {\"cast_id\": 84, \"character\": \"Nav\\'i (uncredited)\", \"credit_id\": \"52fe48019251416c750acb27\", \"gender\": 1, \"id\": 147898, \"name\": \"Nicole Dionne\", \"order\": 63}, {\"cast_id\": 85, \"character\": \"Trooper (uncredited)\", \"credit_id\": \"52fe48019251416c750acb2b\", \"gender\": 0, \"id\": 1207280, \"name\": \"Jamie Harrison\", \"order\": 64}, {\"cast_id\": 86, \"character\": \"Trooper (uncredited)\", \"credit_id\": \"52fe48019251416c750acb2f\", \"gender\": 0, \"id\": 1207281, \"name\": \"Allan Henry\", \"order\": 65}, {\"cast_id\": 87, \"character\": \"Ground Technician (uncredited)\", \"credit_id\": \"52fe48019251416c750acb33\", \"gender\": 2, \"id\": 1207282, \"name\": \"Anthony Ingruber\", \"order\": 66}, {\"cast_id\": 88, \"character\": \"Flight Crew Mechanic (uncredited)\", \"credit_id\": \"52fe48019251416c750acb37\", \"gender\": 0, \"id\": 1207283, \"name\": \"Ashley Jeffery\", \"order\": 67}, {\"cast_id\": 14, \"character\": \"Samson Pilot\", \"credit_id\": \"52fe48009251416c750ac9f9\", \"gender\": 0, \"id\": 98216, \"name\": \"Dean Knowsley\", \"order\": 68}, {\"cast_id\": 89, \"character\": \"Trooper (uncredited)\", \"credit_id\": \"52fe48019251416c750acb3b\", \"gender\": 0, \"id\": 1201399, \"name\": \"Joseph Mika-Hunt\", \"order\": 69}, {\"cast_id\": 90, \"character\": \"Banshee (uncredited)\", \"credit_id\": \"52fe48019251416c750acb3f\", \"gender\": 0, \"id\": 236696, \"name\": \"Terry Notary\", \"order\": 70}, {\"cast_id\": 91, \"character\": \"Soldier (uncredited)\", \"credit_id\": \"52fe48019251416c750acb43\", \"gender\": 0, \"id\": 1207287, \"name\": \"Kai Pantano\", \"order\": 71}, {\"cast_id\": 92, \"character\": \"Blast Technician (uncredited)\", \"credit_id\": \"52fe48019251416c750acb47\", \"gender\": 0, \"id\": 1207288, \"name\": \"Logan Pithyou\", \"order\": 72}, {\"cast_id\": 93, \"character\": \"Vindum Raah (uncredited)\", \"credit_id\": \"52fe48019251416c750acb4b\", \"gender\": 0, \"id\": 1207289, \"name\": \"Stuart Pollock\", \"order\": 73}, {\"cast_id\": 94, \"character\": \"Hero (uncredited)\", \"credit_id\": \"52fe48019251416c750acb4f\", \"gender\": 0, \"id\": 584868, \"name\": \"Raja\", \"order\": 74}, {\"cast_id\": 95, \"character\": \"Ops Centreworker (uncredited)\", \"credit_id\": \"52fe48019251416c750acb53\", \"gender\": 0, \"id\": 1207290, \"name\": \"Gareth Ruck\", \"order\": 75}, {\"cast_id\": 96, \"character\": \"Engineer (uncredited)\", \"credit_id\": \"52fe48019251416c750acb57\", \"gender\": 0, \"id\": 1062463, \"name\": \"Rhian Sheehan\", \"order\": 76}, {\"cast_id\": 97, \"character\": \"Col. Quaritch\\'s Mech Suit (uncredited)\", \"credit_id\": \"52fe48019251416c750acb5b\", \"gender\": 0, \"id\": 60656, \"name\": \"T. J. Storm\", \"order\": 77}, {\"cast_id\": 98, \"character\": \"Female Marine (uncredited)\", \"credit_id\": \"52fe48019251416c750acb5f\", \"gender\": 0, \"id\": 1207291, \"name\": \"Jodie Taylor\", \"order\": 78}, {\"cast_id\": 99, \"character\": \"Ikran Clan Leader (uncredited)\", \"credit_id\": \"52fe48019251416c750acb63\", \"gender\": 1, \"id\": 1186027, \"name\": \"Alicia Vela-Bailey\", \"order\": 79}, {\"cast_id\": 100, \"character\": \"Geologist (uncredited)\", \"credit_id\": \"52fe48019251416c750acb67\", \"gender\": 0, \"id\": 1207292, \"name\": \"Richard Whiteside\", \"order\": 80}, {\"cast_id\": 101, \"character\": \"Na\\'vi (uncredited)\", \"credit_id\": \"52fe48019251416c750acb6b\", \"gender\": 0, \"id\": 103259, \"name\": \"Nikie Zambo\", \"order\": 81}, {\"cast_id\": 102, \"character\": \"Ambient Room Tech / Troupe\", \"credit_id\": \"52fe48019251416c750acb6f\", \"gender\": 1, \"id\": 42286, \"name\": \"Julene Renee\", \"order\": 82}]'"
      ]
     },
     "execution_count": 24,
     "metadata": {},
     "output_type": "execute_result"
    }
   ],
   "source": [
    "movies['cast'][0]"
   ]
  },
  {
   "cell_type": "code",
   "execution_count": 25,
   "id": "21c08caa",
   "metadata": {
    "execution": {
     "iopub.execute_input": "2023-10-18T17:04:08.204427Z",
     "iopub.status.busy": "2023-10-18T17:04:08.204076Z",
     "iopub.status.idle": "2023-10-18T17:04:08.208803Z",
     "shell.execute_reply": "2023-10-18T17:04:08.207868Z"
    },
    "papermill": {
     "duration": 0.020476,
     "end_time": "2023-10-18T17:04:08.210651",
     "exception": false,
     "start_time": "2023-10-18T17:04:08.190175",
     "status": "completed"
    },
    "tags": []
   },
   "outputs": [],
   "source": [
    "def convert3(obj):\n",
    "    L = []\n",
    "    ct = 0\n",
    "    for i in ast.literal_eval(obj):\n",
    "        if ct!=3:\n",
    "            L.append(i['name'])\n",
    "            ct = ct+1\n",
    "        else:\n",
    "            break\n",
    "    return L"
   ]
  },
  {
   "cell_type": "code",
   "execution_count": 26,
   "id": "a66050ec",
   "metadata": {
    "execution": {
     "iopub.execute_input": "2023-10-18T17:04:08.238865Z",
     "iopub.status.busy": "2023-10-18T17:04:08.238547Z",
     "iopub.status.idle": "2023-10-18T17:04:11.370514Z",
     "shell.execute_reply": "2023-10-18T17:04:11.369391Z"
    },
    "papermill": {
     "duration": 3.148562,
     "end_time": "2023-10-18T17:04:11.372898",
     "exception": false,
     "start_time": "2023-10-18T17:04:08.224336",
     "status": "completed"
    },
    "tags": []
   },
   "outputs": [],
   "source": [
    "movies['cast'] = movies['cast'].apply(convert3)"
   ]
  },
  {
   "cell_type": "code",
   "execution_count": 27,
   "id": "f52b8b94",
   "metadata": {
    "execution": {
     "iopub.execute_input": "2023-10-18T17:04:11.400866Z",
     "iopub.status.busy": "2023-10-18T17:04:11.400495Z",
     "iopub.status.idle": "2023-10-18T17:04:11.407336Z",
     "shell.execute_reply": "2023-10-18T17:04:11.406492Z"
    },
    "papermill": {
     "duration": 0.023581,
     "end_time": "2023-10-18T17:04:11.409659",
     "exception": false,
     "start_time": "2023-10-18T17:04:11.386078",
     "status": "completed"
    },
    "tags": []
   },
   "outputs": [
    {
     "data": {
      "text/plain": [
       "['Sam Worthington', 'Zoe Saldana', 'Sigourney Weaver']"
      ]
     },
     "execution_count": 27,
     "metadata": {},
     "output_type": "execute_result"
    }
   ],
   "source": [
    "movies['cast'][0]"
   ]
  },
  {
   "cell_type": "code",
   "execution_count": 28,
   "id": "c979cf2a",
   "metadata": {},
   "outputs": [
    {
     "data": {
      "text/plain": [
       "'[{\"credit_id\": \"52fe48009251416c750aca23\", \"department\": \"Editing\", \"gender\": 0, \"id\": 1721, \"job\": \"Editor\", \"name\": \"Stephen E. Rivkin\"}, {\"credit_id\": \"539c47ecc3a36810e3001f87\", \"department\": \"Art\", \"gender\": 2, \"id\": 496, \"job\": \"Production Design\", \"name\": \"Rick Carter\"}, {\"credit_id\": \"54491c89c3a3680fb4001cf7\", \"department\": \"Sound\", \"gender\": 0, \"id\": 900, \"job\": \"Sound Designer\", \"name\": \"Christopher Boyes\"}, {\"credit_id\": \"54491cb70e0a267480001bd0\", \"department\": \"Sound\", \"gender\": 0, \"id\": 900, \"job\": \"Supervising Sound Editor\", \"name\": \"Christopher Boyes\"}, {\"credit_id\": \"539c4a4cc3a36810c9002101\", \"department\": \"Production\", \"gender\": 1, \"id\": 1262, \"job\": \"Casting\", \"name\": \"Mali Finn\"}, {\"credit_id\": \"5544ee3b925141499f0008fc\", \"department\": \"Sound\", \"gender\": 2, \"id\": 1729, \"job\": \"Original Music Composer\", \"name\": \"James Horner\"}, {\"credit_id\": \"52fe48009251416c750ac9c3\", \"department\": \"Directing\", \"gender\": 2, \"id\": 2710, \"job\": \"Director\", \"name\": \"James Cameron\"}, {\"credit_id\": \"52fe48009251416c750ac9d9\", \"department\": \"Writing\", \"gender\": 2, \"id\": 2710, \"job\": \"Writer\", \"name\": \"James Cameron\"}, {\"credit_id\": \"52fe48009251416c750aca17\", \"department\": \"Editing\", \"gender\": 2, \"id\": 2710, \"job\": \"Editor\", \"name\": \"James Cameron\"}, {\"credit_id\": \"52fe48009251416c750aca29\", \"department\": \"Production\", \"gender\": 2, \"id\": 2710, \"job\": \"Producer\", \"name\": \"James Cameron\"}, {\"credit_id\": \"52fe48009251416c750aca3f\", \"department\": \"Writing\", \"gender\": 2, \"id\": 2710, \"job\": \"Screenplay\", \"name\": \"James Cameron\"}, {\"credit_id\": \"539c4987c3a36810ba0021a4\", \"department\": \"Art\", \"gender\": 2, \"id\": 7236, \"job\": \"Art Direction\", \"name\": \"Andrew Menzies\"}, {\"credit_id\": \"549598c3c3a3686ae9004383\", \"department\": \"Visual Effects\", \"gender\": 0, \"id\": 6690, \"job\": \"Visual Effects Producer\", \"name\": \"Jill Brooks\"}, {\"credit_id\": \"52fe48009251416c750aca4b\", \"department\": \"Production\", \"gender\": 1, \"id\": 6347, \"job\": \"Casting\", \"name\": \"Margery Simkin\"}, {\"credit_id\": \"570b6f419251417da70032fe\", \"department\": \"Art\", \"gender\": 2, \"id\": 6878, \"job\": \"Supervising Art Director\", \"name\": \"Kevin Ishioka\"}, {\"credit_id\": \"5495a0fac3a3686ae9004468\", \"department\": \"Sound\", \"gender\": 0, \"id\": 6883, \"job\": \"Music Editor\", \"name\": \"Dick Bernstein\"}, {\"credit_id\": \"54959706c3a3686af3003e81\", \"department\": \"Sound\", \"gender\": 0, \"id\": 8159, \"job\": \"Sound Effects Editor\", \"name\": \"Shannon Mills\"}, {\"credit_id\": \"54491d58c3a3680fb1001ccb\", \"department\": \"Sound\", \"gender\": 0, \"id\": 8160, \"job\": \"Foley\", \"name\": \"Dennie Thorpe\"}, {\"credit_id\": \"54491d6cc3a3680fa5001b2c\", \"department\": \"Sound\", \"gender\": 0, \"id\": 8163, \"job\": \"Foley\", \"name\": \"Jana Vance\"}, {\"credit_id\": \"52fe48009251416c750aca57\", \"department\": \"Costume & Make-Up\", \"gender\": 1, \"id\": 8527, \"job\": \"Costume Design\", \"name\": \"Deborah Lynn Scott\"}, {\"credit_id\": \"52fe48009251416c750aca2f\", \"department\": \"Production\", \"gender\": 2, \"id\": 8529, \"job\": \"Producer\", \"name\": \"Jon Landau\"}, {\"credit_id\": \"539c4937c3a36810ba002194\", \"department\": \"Art\", \"gender\": 0, \"id\": 9618, \"job\": \"Art Direction\", \"name\": \"Sean Haworth\"}, {\"credit_id\": \"539c49b6c3a36810c10020e6\", \"department\": \"Art\", \"gender\": 1, \"id\": 12653, \"job\": \"Set Decoration\", \"name\": \"Kim Sinclair\"}, {\"credit_id\": \"570b6f2f9251413a0e00020d\", \"department\": \"Art\", \"gender\": 1, \"id\": 12653, \"job\": \"Supervising Art Director\", \"name\": \"Kim Sinclair\"}, {\"credit_id\": \"54491a6c0e0a26748c001b19\", \"department\": \"Art\", \"gender\": 2, \"id\": 14350, \"job\": \"Set Designer\", \"name\": \"Richard F. Mays\"}, {\"credit_id\": \"56928cf4c3a3684cff0025c4\", \"department\": \"Production\", \"gender\": 1, \"id\": 20294, \"job\": \"Executive Producer\", \"name\": \"Laeta Kalogridis\"}, {\"credit_id\": \"52fe48009251416c750aca51\", \"department\": \"Costume & Make-Up\", \"gender\": 0, \"id\": 17675, \"job\": \"Costume Design\", \"name\": \"Mayes C. Rubeo\"}, {\"credit_id\": \"52fe48009251416c750aca11\", \"department\": \"Camera\", \"gender\": 2, \"id\": 18265, \"job\": \"Director of Photography\", \"name\": \"Mauro Fiore\"}, {\"credit_id\": \"5449194d0e0a26748f001b39\", \"department\": \"Art\", \"gender\": 0, \"id\": 42281, \"job\": \"Set Designer\", \"name\": \"Scott Herbertson\"}, {\"credit_id\": \"52fe48009251416c750aca05\", \"department\": \"Crew\", \"gender\": 0, \"id\": 42288, \"job\": \"Stunts\", \"name\": \"Woody Schultz\"}, {\"credit_id\": \"5592aefb92514152de0010f5\", \"department\": \"Costume & Make-Up\", \"gender\": 0, \"id\": 29067, \"job\": \"Makeup Artist\", \"name\": \"Linda DeVetta\"}, {\"credit_id\": \"5592afa492514152de00112c\", \"department\": \"Costume & Make-Up\", \"gender\": 0, \"id\": 29067, \"job\": \"Hairstylist\", \"name\": \"Linda DeVetta\"}, {\"credit_id\": \"54959ed592514130fc002e5d\", \"department\": \"Camera\", \"gender\": 2, \"id\": 33302, \"job\": \"Camera Operator\", \"name\": \"Richard Bluck\"}, {\"credit_id\": \"539c4891c3a36810ba002147\", \"department\": \"Art\", \"gender\": 2, \"id\": 33303, \"job\": \"Art Direction\", \"name\": \"Simon Bright\"}, {\"credit_id\": \"54959c069251417a81001f3a\", \"department\": \"Visual Effects\", \"gender\": 0, \"id\": 113145, \"job\": \"Visual Effects Supervisor\", \"name\": \"Richard Martin\"}, {\"credit_id\": \"54959a0dc3a3680ff5002c8d\", \"department\": \"Crew\", \"gender\": 2, \"id\": 58188, \"job\": \"Visual Effects Editor\", \"name\": \"Steve R. Moore\"}, {\"credit_id\": \"52fe48009251416c750aca1d\", \"department\": \"Editing\", \"gender\": 2, \"id\": 58871, \"job\": \"Editor\", \"name\": \"John Refoua\"}, {\"credit_id\": \"54491a4dc3a3680fc30018ca\", \"department\": \"Art\", \"gender\": 0, \"id\": 92359, \"job\": \"Set Designer\", \"name\": \"Karl J. Martin\"}, {\"credit_id\": \"52fe48009251416c750aca35\", \"department\": \"Camera\", \"gender\": 1, \"id\": 72201, \"job\": \"Director of Photography\", \"name\": \"Chiling Lin\"}, {\"credit_id\": \"52fe48009251416c750ac9ff\", \"department\": \"Crew\", \"gender\": 0, \"id\": 89714, \"job\": \"Stunts\", \"name\": \"Ilram Choi\"}, {\"credit_id\": \"54959c529251416e2b004394\", \"department\": \"Visual Effects\", \"gender\": 2, \"id\": 93214, \"job\": \"Visual Effects Supervisor\", \"name\": \"Steven Quale\"}, {\"credit_id\": \"54491edf0e0a267489001c37\", \"department\": \"Crew\", \"gender\": 1, \"id\": 122607, \"job\": \"Dialect Coach\", \"name\": \"Carla Meyer\"}, {\"credit_id\": \"539c485bc3a368653d001a3a\", \"department\": \"Art\", \"gender\": 2, \"id\": 132585, \"job\": \"Art Direction\", \"name\": \"Nick Bassett\"}, {\"credit_id\": \"539c4903c3a368653d001a74\", \"department\": \"Art\", \"gender\": 0, \"id\": 132596, \"job\": \"Art Direction\", \"name\": \"Jill Cormack\"}, {\"credit_id\": \"539c4967c3a368653d001a94\", \"department\": \"Art\", \"gender\": 0, \"id\": 132604, \"job\": \"Art Direction\", \"name\": \"Andy McLaren\"}, {\"credit_id\": \"52fe48009251416c750aca45\", \"department\": \"Crew\", \"gender\": 0, \"id\": 236696, \"job\": \"Motion Capture Artist\", \"name\": \"Terry Notary\"}, {\"credit_id\": \"54959e02c3a3680fc60027d2\", \"department\": \"Crew\", \"gender\": 2, \"id\": 956198, \"job\": \"Stunt Coordinator\", \"name\": \"Garrett Warren\"}, {\"credit_id\": \"54959ca3c3a3686ae300438c\", \"department\": \"Visual Effects\", \"gender\": 2, \"id\": 957874, \"job\": \"Visual Effects Supervisor\", \"name\": \"Jonathan Rothbart\"}, {\"credit_id\": \"570b6f519251412c74001b2f\", \"department\": \"Art\", \"gender\": 0, \"id\": 957889, \"job\": \"Supervising Art Director\", \"name\": \"Stefan Dechant\"}, {\"credit_id\": \"570b6f62c3a3680b77007460\", \"department\": \"Art\", \"gender\": 2, \"id\": 959555, \"job\": \"Supervising Art Director\", \"name\": \"Todd Cherniawsky\"}, {\"credit_id\": \"539c4a3ac3a36810da0021cc\", \"department\": \"Production\", \"gender\": 0, \"id\": 1016177, \"job\": \"Casting\", \"name\": \"Miranda Rivers\"}, {\"credit_id\": \"539c482cc3a36810c1002062\", \"department\": \"Art\", \"gender\": 0, \"id\": 1032536, \"job\": \"Production Design\", \"name\": \"Robert Stromberg\"}, {\"credit_id\": \"539c4b65c3a36810c9002125\", \"department\": \"Costume & Make-Up\", \"gender\": 2, \"id\": 1071680, \"job\": \"Costume Design\", \"name\": \"John Harding\"}, {\"credit_id\": \"54959e6692514130fc002e4e\", \"department\": \"Camera\", \"gender\": 0, \"id\": 1177364, \"job\": \"Steadicam Operator\", \"name\": \"Roberto De Angelis\"}, {\"credit_id\": \"539c49f1c3a368653d001aac\", \"department\": \"Costume & Make-Up\", \"gender\": 2, \"id\": 1202850, \"job\": \"Makeup Department Head\", \"name\": \"Mike Smithson\"}, {\"credit_id\": \"5495999ec3a3686ae100460c\", \"department\": \"Visual Effects\", \"gender\": 0, \"id\": 1204668, \"job\": \"Visual Effects Producer\", \"name\": \"Alain Lalanne\"}, {\"credit_id\": \"54959cdfc3a3681153002729\", \"department\": \"Visual Effects\", \"gender\": 0, \"id\": 1206410, \"job\": \"Visual Effects Supervisor\", \"name\": \"Lucas Salton\"}, {\"credit_id\": \"549596239251417a81001eae\", \"department\": \"Crew\", \"gender\": 0, \"id\": 1234266, \"job\": \"Post Production Supervisor\", \"name\": \"Janace Tashjian\"}, {\"credit_id\": \"54959c859251416e1e003efe\", \"department\": \"Visual Effects\", \"gender\": 0, \"id\": 1271932, \"job\": \"Visual Effects Supervisor\", \"name\": \"Stephen Rosenbaum\"}, {\"credit_id\": \"5592af28c3a368775a00105f\", \"department\": \"Costume & Make-Up\", \"gender\": 0, \"id\": 1310064, \"job\": \"Makeup Artist\", \"name\": \"Frankie Karena\"}, {\"credit_id\": \"539c4adfc3a36810e300203b\", \"department\": \"Costume & Make-Up\", \"gender\": 1, \"id\": 1319844, \"job\": \"Costume Supervisor\", \"name\": \"Lisa Lovaas\"}, {\"credit_id\": \"54959b579251416e2b004371\", \"department\": \"Visual Effects\", \"gender\": 0, \"id\": 1327028, \"job\": \"Visual Effects Supervisor\", \"name\": \"Jonathan Fawkner\"}, {\"credit_id\": \"539c48a7c3a36810b5001fa7\", \"department\": \"Art\", \"gender\": 0, \"id\": 1330561, \"job\": \"Art Direction\", \"name\": \"Robert Bavin\"}, {\"credit_id\": \"539c4a71c3a36810da0021e0\", \"department\": \"Costume & Make-Up\", \"gender\": 0, \"id\": 1330567, \"job\": \"Costume Supervisor\", \"name\": \"Anthony Almaraz\"}, {\"credit_id\": \"539c4a8ac3a36810ba0021e4\", \"department\": \"Costume & Make-Up\", \"gender\": 0, \"id\": 1330570, \"job\": \"Costume Supervisor\", \"name\": \"Carolyn M. Fenton\"}, {\"credit_id\": \"539c4ab6c3a36810da0021f0\", \"department\": \"Costume & Make-Up\", \"gender\": 0, \"id\": 1330574, \"job\": \"Costume Supervisor\", \"name\": \"Beth Koenigsberg\"}, {\"credit_id\": \"54491ab70e0a267480001ba2\", \"department\": \"Art\", \"gender\": 0, \"id\": 1336191, \"job\": \"Set Designer\", \"name\": \"Sam Page\"}, {\"credit_id\": \"544919d9c3a3680fc30018bd\", \"department\": \"Art\", \"gender\": 0, \"id\": 1339441, \"job\": \"Set Designer\", \"name\": \"Tex Kadonaga\"}, {\"credit_id\": \"54491cf50e0a267483001b0c\", \"department\": \"Editing\", \"gender\": 0, \"id\": 1352422, \"job\": \"Dialogue Editor\", \"name\": \"Kim Foscato\"}, {\"credit_id\": \"544919f40e0a26748c001b09\", \"department\": \"Art\", \"gender\": 0, \"id\": 1352962, \"job\": \"Set Designer\", \"name\": \"Tammy S. Lee\"}, {\"credit_id\": \"5495a115c3a3680ff5002d71\", \"department\": \"Crew\", \"gender\": 0, \"id\": 1357070, \"job\": \"Transportation Coordinator\", \"name\": \"Denny Caira\"}, {\"credit_id\": \"5495a12f92514130fc002e94\", \"department\": \"Crew\", \"gender\": 0, \"id\": 1357071, \"job\": \"Transportation Coordinator\", \"name\": \"James Waitkus\"}, {\"credit_id\": \"5495976fc3a36811530026b0\", \"department\": \"Sound\", \"gender\": 0, \"id\": 1360103, \"job\": \"Supervising Sound Editor\", \"name\": \"Addison Teague\"}, {\"credit_id\": \"54491837c3a3680fb1001c5a\", \"department\": \"Art\", \"gender\": 2, \"id\": 1376887, \"job\": \"Set Designer\", \"name\": \"C. Scott Baker\"}, {\"credit_id\": \"54491878c3a3680fb4001c9d\", \"department\": \"Art\", \"gender\": 0, \"id\": 1376888, \"job\": \"Set Designer\", \"name\": \"Luke Caska\"}, {\"credit_id\": \"544918dac3a3680fa5001ae0\", \"department\": \"Art\", \"gender\": 0, \"id\": 1376889, \"job\": \"Set Designer\", \"name\": \"David Chow\"}, {\"credit_id\": \"544919110e0a267486001b68\", \"department\": \"Art\", \"gender\": 0, \"id\": 1376890, \"job\": \"Set Designer\", \"name\": \"Jonathan Dyer\"}, {\"credit_id\": \"54491967c3a3680faa001b5e\", \"department\": \"Art\", \"gender\": 0, \"id\": 1376891, \"job\": \"Set Designer\", \"name\": \"Joseph Hiura\"}, {\"credit_id\": \"54491997c3a3680fb1001c8a\", \"department\": \"Art\", \"gender\": 0, \"id\": 1376892, \"job\": \"Art Department Coordinator\", \"name\": \"Rebecca Jellie\"}, {\"credit_id\": \"544919ba0e0a26748f001b42\", \"department\": \"Art\", \"gender\": 0, \"id\": 1376893, \"job\": \"Set Designer\", \"name\": \"Robert Andrew Johnson\"}, {\"credit_id\": \"54491b1dc3a3680faa001b8c\", \"department\": \"Art\", \"gender\": 0, \"id\": 1376895, \"job\": \"Assistant Art Director\", \"name\": \"Mike Stassi\"}, {\"credit_id\": \"54491b79c3a3680fbb001826\", \"department\": \"Art\", \"gender\": 0, \"id\": 1376897, \"job\": \"Construction Coordinator\", \"name\": \"John Villarino\"}, {\"credit_id\": \"54491baec3a3680fb4001ce6\", \"department\": \"Art\", \"gender\": 2, \"id\": 1376898, \"job\": \"Assistant Art Director\", \"name\": \"Jeffrey Wisniewski\"}, {\"credit_id\": \"54491d2fc3a3680fb4001d07\", \"department\": \"Editing\", \"gender\": 0, \"id\": 1376899, \"job\": \"Dialogue Editor\", \"name\": \"Cheryl Nardi\"}, {\"credit_id\": \"54491d86c3a3680fa5001b2f\", \"department\": \"Editing\", \"gender\": 0, \"id\": 1376901, \"job\": \"Dialogue Editor\", \"name\": \"Marshall Winn\"}, {\"credit_id\": \"54491d9dc3a3680faa001bb0\", \"department\": \"Sound\", \"gender\": 0, \"id\": 1376902, \"job\": \"Supervising Sound Editor\", \"name\": \"Gwendolyn Yates Whittle\"}, {\"credit_id\": \"54491dc10e0a267486001bce\", \"department\": \"Sound\", \"gender\": 0, \"id\": 1376903, \"job\": \"Sound Re-Recording Mixer\", \"name\": \"William Stein\"}, {\"credit_id\": \"54491f500e0a26747c001c07\", \"department\": \"Crew\", \"gender\": 0, \"id\": 1376909, \"job\": \"Choreographer\", \"name\": \"Lula Washington\"}, {\"credit_id\": \"549599239251412c4e002a2e\", \"department\": \"Visual Effects\", \"gender\": 0, \"id\": 1391692, \"job\": \"Visual Effects Producer\", \"name\": \"Chris Del Conte\"}, {\"credit_id\": \"54959d54c3a36831b8001d9a\", \"department\": \"Visual Effects\", \"gender\": 2, \"id\": 1391695, \"job\": \"Visual Effects Supervisor\", \"name\": \"R. Christopher White\"}, {\"credit_id\": \"54959bdf9251412c4e002a66\", \"department\": \"Visual Effects\", \"gender\": 0, \"id\": 1394070, \"job\": \"Visual Effects Supervisor\", \"name\": \"Dan Lemmon\"}, {\"credit_id\": \"5495971d92514132ed002922\", \"department\": \"Sound\", \"gender\": 0, \"id\": 1394129, \"job\": \"Sound Effects Editor\", \"name\": \"Tim Nielsen\"}, {\"credit_id\": \"5592b25792514152cc0011aa\", \"department\": \"Crew\", \"gender\": 0, \"id\": 1394286, \"job\": \"CG Supervisor\", \"name\": \"Michael Mulholland\"}, {\"credit_id\": \"54959a329251416e2b004355\", \"department\": \"Crew\", \"gender\": 0, \"id\": 1394750, \"job\": \"Visual Effects Editor\", \"name\": \"Thomas Nittmann\"}, {\"credit_id\": \"54959d6dc3a3686ae9004401\", \"department\": \"Visual Effects\", \"gender\": 0, \"id\": 1394755, \"job\": \"Visual Effects Supervisor\", \"name\": \"Edson Williams\"}, {\"credit_id\": \"5495a08fc3a3686ae300441c\", \"department\": \"Editing\", \"gender\": 0, \"id\": 1394953, \"job\": \"Digital Intermediate\", \"name\": \"Christine Carr\"}, {\"credit_id\": \"55402d659251413d6d000249\", \"department\": \"Visual Effects\", \"gender\": 0, \"id\": 1395269, \"job\": \"Visual Effects Supervisor\", \"name\": \"John Bruno\"}, {\"credit_id\": \"54959e7b9251416e1e003f3e\", \"department\": \"Camera\", \"gender\": 0, \"id\": 1398970, \"job\": \"Steadicam Operator\", \"name\": \"David Emmerichs\"}, {\"credit_id\": \"54959734c3a3686ae10045e0\", \"department\": \"Sound\", \"gender\": 0, \"id\": 1400906, \"job\": \"Sound Effects Editor\", \"name\": \"Christopher Scarabosio\"}, {\"credit_id\": \"549595dd92514130fc002d79\", \"department\": \"Production\", \"gender\": 0, \"id\": 1401784, \"job\": \"Production Supervisor\", \"name\": \"Jennifer Teves\"}, {\"credit_id\": \"549596009251413af70028cc\", \"department\": \"Production\", \"gender\": 0, \"id\": 1401785, \"job\": \"Production Manager\", \"name\": \"Brigitte Yorke\"}, {\"credit_id\": \"549596e892514130fc002d99\", \"department\": \"Sound\", \"gender\": 0, \"id\": 1401786, \"job\": \"Sound Effects Editor\", \"name\": \"Ken Fischer\"}, {\"credit_id\": \"549598229251412c4e002a1c\", \"department\": \"Crew\", \"gender\": 0, \"id\": 1401787, \"job\": \"Special Effects Coordinator\", \"name\": \"Iain Hutton\"}, {\"credit_id\": \"549598349251416e2b00432b\", \"department\": \"Crew\", \"gender\": 0, \"id\": 1401788, \"job\": \"Special Effects Coordinator\", \"name\": \"Steve Ingram\"}, {\"credit_id\": \"54959905c3a3686ae3004324\", \"department\": \"Visual Effects\", \"gender\": 0, \"id\": 1401789, \"job\": \"Visual Effects Producer\", \"name\": \"Joyce Cox\"}, {\"credit_id\": \"5495994b92514132ed002951\", \"department\": \"Visual Effects\", \"gender\": 0, \"id\": 1401790, \"job\": \"Visual Effects Producer\", \"name\": \"Jenny Foster\"}, {\"credit_id\": \"549599cbc3a3686ae1004613\", \"department\": \"Crew\", \"gender\": 0, \"id\": 1401791, \"job\": \"Visual Effects Editor\", \"name\": \"Christopher Marino\"}, {\"credit_id\": \"549599f2c3a3686ae100461e\", \"department\": \"Crew\", \"gender\": 0, \"id\": 1401792, \"job\": \"Visual Effects Editor\", \"name\": \"Jim Milton\"}, {\"credit_id\": \"54959a51c3a3686af3003eb5\", \"department\": \"Visual Effects\", \"gender\": 0, \"id\": 1401793, \"job\": \"Visual Effects Producer\", \"name\": \"Cyndi Ochs\"}, {\"credit_id\": \"54959a7cc3a36811530026f4\", \"department\": \"Crew\", \"gender\": 0, \"id\": 1401794, \"job\": \"Visual Effects Editor\", \"name\": \"Lucas Putnam\"}, {\"credit_id\": \"54959b91c3a3680ff5002cb4\", \"department\": \"Visual Effects\", \"gender\": 0, \"id\": 1401795, \"job\": \"Visual Effects Supervisor\", \"name\": \"Anthony \\'Max\\' Ivins\"}, {\"credit_id\": \"54959bb69251412c4e002a5f\", \"department\": \"Visual Effects\", \"gender\": 0, \"id\": 1401796, \"job\": \"Visual Effects Supervisor\", \"name\": \"John Knoll\"}, {\"credit_id\": \"54959cbbc3a3686ae3004391\", \"department\": \"Visual Effects\", \"gender\": 2, \"id\": 1401799, \"job\": \"Visual Effects Supervisor\", \"name\": \"Eric Saindon\"}, {\"credit_id\": \"54959d06c3a3686ae90043f6\", \"department\": \"Visual Effects\", \"gender\": 0, \"id\": 1401800, \"job\": \"Visual Effects Supervisor\", \"name\": \"Wayne Stables\"}, {\"credit_id\": \"54959d259251416e1e003f11\", \"department\": \"Visual Effects\", \"gender\": 0, \"id\": 1401801, \"job\": \"Visual Effects Supervisor\", \"name\": \"David Stinnett\"}, {\"credit_id\": \"54959db49251413af7002975\", \"department\": \"Visual Effects\", \"gender\": 0, \"id\": 1401803, \"job\": \"Visual Effects Supervisor\", \"name\": \"Guy Williams\"}, {\"credit_id\": \"54959de4c3a3681153002750\", \"department\": \"Crew\", \"gender\": 0, \"id\": 1401804, \"job\": \"Stunt Coordinator\", \"name\": \"Stuart Thorp\"}, {\"credit_id\": \"54959ef2c3a3680fc60027f2\", \"department\": \"Lighting\", \"gender\": 0, \"id\": 1401805, \"job\": \"Best Boy Electric\", \"name\": \"Giles Coburn\"}, {\"credit_id\": \"54959f07c3a3680fc60027f9\", \"department\": \"Camera\", \"gender\": 2, \"id\": 1401806, \"job\": \"Still Photographer\", \"name\": \"Mark Fellman\"}, {\"credit_id\": \"54959f47c3a3681153002774\", \"department\": \"Lighting\", \"gender\": 0, \"id\": 1401807, \"job\": \"Lighting Technician\", \"name\": \"Scott Sprague\"}, {\"credit_id\": \"54959f8cc3a36831b8001df2\", \"department\": \"Visual Effects\", \"gender\": 0, \"id\": 1401808, \"job\": \"Animation Director\", \"name\": \"Jeremy Hollobon\"}, {\"credit_id\": \"54959fa0c3a36831b8001dfb\", \"department\": \"Visual Effects\", \"gender\": 0, \"id\": 1401809, \"job\": \"Animation Director\", \"name\": \"Orlando Meunier\"}, {\"credit_id\": \"54959fb6c3a3686af3003f54\", \"department\": \"Visual Effects\", \"gender\": 0, \"id\": 1401810, \"job\": \"Animation Director\", \"name\": \"Taisuke Tanimura\"}, {\"credit_id\": \"54959fd2c3a36831b8001e02\", \"department\": \"Costume & Make-Up\", \"gender\": 0, \"id\": 1401812, \"job\": \"Set Costumer\", \"name\": \"Lilia Mishel Acevedo\"}, {\"credit_id\": \"54959ff9c3a3686ae300440c\", \"department\": \"Costume & Make-Up\", \"gender\": 0, \"id\": 1401814, \"job\": \"Set Costumer\", \"name\": \"Alejandro M. Hernandez\"}, {\"credit_id\": \"5495a0ddc3a3686ae10046fe\", \"department\": \"Editing\", \"gender\": 0, \"id\": 1401815, \"job\": \"Digital Intermediate\", \"name\": \"Marvin Hall\"}, {\"credit_id\": \"5495a1f7c3a3686ae3004443\", \"department\": \"Production\", \"gender\": 0, \"id\": 1401816, \"job\": \"Publicist\", \"name\": \"Judy Alley\"}, {\"credit_id\": \"5592b29fc3a36869d100002f\", \"department\": \"Crew\", \"gender\": 0, \"id\": 1418381, \"job\": \"CG Supervisor\", \"name\": \"Mike Perry\"}, {\"credit_id\": \"5592b23a9251415df8001081\", \"department\": \"Crew\", \"gender\": 0, \"id\": 1426854, \"job\": \"CG Supervisor\", \"name\": \"Andrew Morley\"}, {\"credit_id\": \"55491e1192514104c40002d8\", \"department\": \"Art\", \"gender\": 0, \"id\": 1438901, \"job\": \"Conceptual Design\", \"name\": \"Seth Engstrom\"}, {\"credit_id\": \"5525d5809251417276002b06\", \"department\": \"Crew\", \"gender\": 0, \"id\": 1447362, \"job\": \"Visual Effects Art Director\", \"name\": \"Eric Oliver\"}, {\"credit_id\": \"554427ca925141586500312a\", \"department\": \"Visual Effects\", \"gender\": 0, \"id\": 1447503, \"job\": \"Modeling\", \"name\": \"Matsune Suzuki\"}, {\"credit_id\": \"551906889251415aab001c88\", \"department\": \"Art\", \"gender\": 0, \"id\": 1447524, \"job\": \"Art Department Manager\", \"name\": \"Paul Tobin\"}, {\"credit_id\": \"5592af8492514152cc0010de\", \"department\": \"Costume & Make-Up\", \"gender\": 0, \"id\": 1452643, \"job\": \"Hairstylist\", \"name\": \"Roxane Griffin\"}, {\"credit_id\": \"553d3c109251415852001318\", \"department\": \"Lighting\", \"gender\": 0, \"id\": 1453938, \"job\": \"Lighting Artist\", \"name\": \"Arun Ram-Mohan\"}, {\"credit_id\": \"5592af4692514152d5001355\", \"department\": \"Costume & Make-Up\", \"gender\": 0, \"id\": 1457305, \"job\": \"Makeup Artist\", \"name\": \"Georgia Lockhart-Adams\"}, {\"credit_id\": \"5592b2eac3a36877470012a5\", \"department\": \"Crew\", \"gender\": 0, \"id\": 1466035, \"job\": \"CG Supervisor\", \"name\": \"Thrain Shadbolt\"}, {\"credit_id\": \"5592b032c3a36877450015f1\", \"department\": \"Crew\", \"gender\": 0, \"id\": 1483220, \"job\": \"CG Supervisor\", \"name\": \"Brad Alexander\"}, {\"credit_id\": \"5592b05592514152d80012f6\", \"department\": \"Crew\", \"gender\": 0, \"id\": 1483221, \"job\": \"CG Supervisor\", \"name\": \"Shadi Almassizadeh\"}, {\"credit_id\": \"5592b090c3a36877570010b5\", \"department\": \"Crew\", \"gender\": 0, \"id\": 1483222, \"job\": \"CG Supervisor\", \"name\": \"Simon Clutterbuck\"}, {\"credit_id\": \"5592b0dbc3a368774b00112c\", \"department\": \"Crew\", \"gender\": 0, \"id\": 1483223, \"job\": \"CG Supervisor\", \"name\": \"Graeme Demmocks\"}, {\"credit_id\": \"5592b0fe92514152db0010c1\", \"department\": \"Crew\", \"gender\": 0, \"id\": 1483224, \"job\": \"CG Supervisor\", \"name\": \"Adrian Fernandes\"}, {\"credit_id\": \"5592b11f9251415df8001059\", \"department\": \"Crew\", \"gender\": 0, \"id\": 1483225, \"job\": \"CG Supervisor\", \"name\": \"Mitch Gates\"}, {\"credit_id\": \"5592b15dc3a3687745001645\", \"department\": \"Crew\", \"gender\": 0, \"id\": 1483226, \"job\": \"CG Supervisor\", \"name\": \"Jerry Kung\"}, {\"credit_id\": \"5592b18e925141645a0004ae\", \"department\": \"Crew\", \"gender\": 0, \"id\": 1483227, \"job\": \"CG Supervisor\", \"name\": \"Andy Lomas\"}, {\"credit_id\": \"5592b1bfc3a368775d0010e7\", \"department\": \"Crew\", \"gender\": 0, \"id\": 1483228, \"job\": \"CG Supervisor\", \"name\": \"Sebastian Marino\"}, {\"credit_id\": \"5592b2049251415df8001078\", \"department\": \"Crew\", \"gender\": 0, \"id\": 1483229, \"job\": \"CG Supervisor\", \"name\": \"Matthias Menz\"}, {\"credit_id\": \"5592b27b92514152d800136a\", \"department\": \"Crew\", \"gender\": 0, \"id\": 1483230, \"job\": \"CG Supervisor\", \"name\": \"Sergei Nevshupov\"}, {\"credit_id\": \"5592b2c3c3a36869e800003c\", \"department\": \"Crew\", \"gender\": 0, \"id\": 1483231, \"job\": \"CG Supervisor\", \"name\": \"Philippe Rebours\"}, {\"credit_id\": \"5592b317c3a36877470012af\", \"department\": \"Crew\", \"gender\": 0, \"id\": 1483232, \"job\": \"CG Supervisor\", \"name\": \"Michael Takarangi\"}, {\"credit_id\": \"5592b345c3a36877470012bb\", \"department\": \"Crew\", \"gender\": 0, \"id\": 1483233, \"job\": \"CG Supervisor\", \"name\": \"David Weitzberg\"}, {\"credit_id\": \"5592b37cc3a368775100113b\", \"department\": \"Crew\", \"gender\": 0, \"id\": 1483234, \"job\": \"CG Supervisor\", \"name\": \"Ben White\"}, {\"credit_id\": \"573c8e2f9251413f5d000094\", \"department\": \"Crew\", \"gender\": 1, \"id\": 1621932, \"job\": \"Stunts\", \"name\": \"Min Windle\"}]'"
      ]
     },
     "execution_count": 28,
     "metadata": {},
     "output_type": "execute_result"
    }
   ],
   "source": [
    "movies['crew'][0]"
   ]
  },
  {
   "cell_type": "markdown",
   "id": "646dcae1",
   "metadata": {},
   "source": [
    "This function extracts the name of the first person whose job is 'Director' ."
   ]
  },
  {
   "cell_type": "code",
   "execution_count": 29,
   "id": "7abc8b27",
   "metadata": {
    "execution": {
     "iopub.execute_input": "2023-10-18T17:04:11.437516Z",
     "iopub.status.busy": "2023-10-18T17:04:11.437171Z",
     "iopub.status.idle": "2023-10-18T17:04:11.443333Z",
     "shell.execute_reply": "2023-10-18T17:04:11.442390Z"
    },
    "papermill": {
     "duration": 0.022457,
     "end_time": "2023-10-18T17:04:11.445295",
     "exception": false,
     "start_time": "2023-10-18T17:04:11.422838",
     "status": "completed"
    },
    "tags": []
   },
   "outputs": [],
   "source": [
    "def fetch_director(obj):\n",
    "    L = []\n",
    "    for i in ast.literal_eval(obj):\n",
    "        if i['job']=='Director':\n",
    "            L.append(i['name'])\n",
    "            break\n",
    "    return L"
   ]
  },
  {
   "cell_type": "code",
   "execution_count": 30,
   "id": "e548892b",
   "metadata": {
    "execution": {
     "iopub.execute_input": "2023-10-18T17:04:11.473112Z",
     "iopub.status.busy": "2023-10-18T17:04:11.472812Z",
     "iopub.status.idle": "2023-10-18T17:04:15.036772Z",
     "shell.execute_reply": "2023-10-18T17:04:15.035741Z"
    },
    "papermill": {
     "duration": 3.580195,
     "end_time": "2023-10-18T17:04:15.038969",
     "exception": false,
     "start_time": "2023-10-18T17:04:11.458774",
     "status": "completed"
    },
    "tags": []
   },
   "outputs": [],
   "source": [
    "movies['crew'] = movies['crew'].apply(fetch_director)"
   ]
  },
  {
   "cell_type": "code",
   "execution_count": 31,
   "id": "b3c3e4fa",
   "metadata": {
    "execution": {
     "iopub.execute_input": "2023-10-18T17:04:15.068058Z",
     "iopub.status.busy": "2023-10-18T17:04:15.067749Z",
     "iopub.status.idle": "2023-10-18T17:04:15.083873Z",
     "shell.execute_reply": "2023-10-18T17:04:15.082837Z"
    },
    "papermill": {
     "duration": 0.033105,
     "end_time": "2023-10-18T17:04:15.085764",
     "exception": false,
     "start_time": "2023-10-18T17:04:15.052659",
     "status": "completed"
    },
    "scrolled": true,
    "tags": []
   },
   "outputs": [
    {
     "data": {
      "text/html": [
       "<div>\n",
       "<style scoped>\n",
       "    .dataframe tbody tr th:only-of-type {\n",
       "        vertical-align: middle;\n",
       "    }\n",
       "\n",
       "    .dataframe tbody tr th {\n",
       "        vertical-align: top;\n",
       "    }\n",
       "\n",
       "    .dataframe thead th {\n",
       "        text-align: right;\n",
       "    }\n",
       "</style>\n",
       "<table border=\"1\" class=\"dataframe\">\n",
       "  <thead>\n",
       "    <tr style=\"text-align: right;\">\n",
       "      <th></th>\n",
       "      <th>genres</th>\n",
       "      <th>id</th>\n",
       "      <th>keywords</th>\n",
       "      <th>title</th>\n",
       "      <th>overview</th>\n",
       "      <th>cast</th>\n",
       "      <th>crew</th>\n",
       "    </tr>\n",
       "  </thead>\n",
       "  <tbody>\n",
       "    <tr>\n",
       "      <th>0</th>\n",
       "      <td>[Action, Adventure, Fantasy, Science Fiction]</td>\n",
       "      <td>19995</td>\n",
       "      <td>[culture clash, future, space war, space colon...</td>\n",
       "      <td>Avatar</td>\n",
       "      <td>In the 22nd century, a paraplegic Marine is di...</td>\n",
       "      <td>[Sam Worthington, Zoe Saldana, Sigourney Weaver]</td>\n",
       "      <td>[James Cameron]</td>\n",
       "    </tr>\n",
       "    <tr>\n",
       "      <th>1</th>\n",
       "      <td>[Adventure, Fantasy, Action]</td>\n",
       "      <td>285</td>\n",
       "      <td>[ocean, drug abuse, exotic island, east india ...</td>\n",
       "      <td>Pirates of the Caribbean: At World's End</td>\n",
       "      <td>Captain Barbossa, long believed to be dead, ha...</td>\n",
       "      <td>[Johnny Depp, Orlando Bloom, Keira Knightley]</td>\n",
       "      <td>[Gore Verbinski]</td>\n",
       "    </tr>\n",
       "    <tr>\n",
       "      <th>2</th>\n",
       "      <td>[Action, Adventure, Crime]</td>\n",
       "      <td>206647</td>\n",
       "      <td>[spy, based on novel, secret agent, sequel, mi...</td>\n",
       "      <td>Spectre</td>\n",
       "      <td>A cryptic message from Bond’s past sends him o...</td>\n",
       "      <td>[Daniel Craig, Christoph Waltz, Léa Seydoux]</td>\n",
       "      <td>[Sam Mendes]</td>\n",
       "    </tr>\n",
       "    <tr>\n",
       "      <th>3</th>\n",
       "      <td>[Action, Crime, Drama, Thriller]</td>\n",
       "      <td>49026</td>\n",
       "      <td>[dc comics, crime fighter, terrorist, secret i...</td>\n",
       "      <td>The Dark Knight Rises</td>\n",
       "      <td>Following the death of District Attorney Harve...</td>\n",
       "      <td>[Christian Bale, Michael Caine, Gary Oldman]</td>\n",
       "      <td>[Christopher Nolan]</td>\n",
       "    </tr>\n",
       "    <tr>\n",
       "      <th>4</th>\n",
       "      <td>[Action, Adventure, Science Fiction]</td>\n",
       "      <td>49529</td>\n",
       "      <td>[based on novel, mars, medallion, space travel...</td>\n",
       "      <td>John Carter</td>\n",
       "      <td>John Carter is a war-weary, former military ca...</td>\n",
       "      <td>[Taylor Kitsch, Lynn Collins, Samantha Morton]</td>\n",
       "      <td>[Andrew Stanton]</td>\n",
       "    </tr>\n",
       "    <tr>\n",
       "      <th>5</th>\n",
       "      <td>[Fantasy, Action, Adventure]</td>\n",
       "      <td>559</td>\n",
       "      <td>[dual identity, amnesia, sandstorm, love of on...</td>\n",
       "      <td>Spider-Man 3</td>\n",
       "      <td>The seemingly invincible Spider-Man goes up ag...</td>\n",
       "      <td>[Tobey Maguire, Kirsten Dunst, James Franco]</td>\n",
       "      <td>[Sam Raimi]</td>\n",
       "    </tr>\n",
       "    <tr>\n",
       "      <th>6</th>\n",
       "      <td>[Animation, Family]</td>\n",
       "      <td>38757</td>\n",
       "      <td>[hostage, magic, horse, fairy tale, musical, p...</td>\n",
       "      <td>Tangled</td>\n",
       "      <td>When the kingdom's most wanted-and most charmi...</td>\n",
       "      <td>[Zachary Levi, Mandy Moore, Donna Murphy]</td>\n",
       "      <td>[Byron Howard]</td>\n",
       "    </tr>\n",
       "    <tr>\n",
       "      <th>7</th>\n",
       "      <td>[Action, Adventure, Science Fiction]</td>\n",
       "      <td>99861</td>\n",
       "      <td>[marvel comic, sequel, superhero, based on com...</td>\n",
       "      <td>Avengers: Age of Ultron</td>\n",
       "      <td>When Tony Stark tries to jumpstart a dormant p...</td>\n",
       "      <td>[Robert Downey Jr., Chris Hemsworth, Mark Ruff...</td>\n",
       "      <td>[Joss Whedon]</td>\n",
       "    </tr>\n",
       "    <tr>\n",
       "      <th>8</th>\n",
       "      <td>[Adventure, Fantasy, Family]</td>\n",
       "      <td>767</td>\n",
       "      <td>[witch, magic, broom, school of witchcraft, wi...</td>\n",
       "      <td>Harry Potter and the Half-Blood Prince</td>\n",
       "      <td>As Harry begins his sixth year at Hogwarts, he...</td>\n",
       "      <td>[Daniel Radcliffe, Rupert Grint, Emma Watson]</td>\n",
       "      <td>[David Yates]</td>\n",
       "    </tr>\n",
       "    <tr>\n",
       "      <th>9</th>\n",
       "      <td>[Action, Adventure, Fantasy]</td>\n",
       "      <td>209112</td>\n",
       "      <td>[dc comics, vigilante, superhero, based on com...</td>\n",
       "      <td>Batman v Superman: Dawn of Justice</td>\n",
       "      <td>Fearing the actions of a god-like Super Hero l...</td>\n",
       "      <td>[Ben Affleck, Henry Cavill, Gal Gadot]</td>\n",
       "      <td>[Zack Snyder]</td>\n",
       "    </tr>\n",
       "    <tr>\n",
       "      <th>10</th>\n",
       "      <td>[Adventure, Fantasy, Action, Science Fiction]</td>\n",
       "      <td>1452</td>\n",
       "      <td>[saving the world, dc comics, invulnerability,...</td>\n",
       "      <td>Superman Returns</td>\n",
       "      <td>Superman returns to discover his 5-year absenc...</td>\n",
       "      <td>[Brandon Routh, Kevin Spacey, Kate Bosworth]</td>\n",
       "      <td>[Bryan Singer]</td>\n",
       "    </tr>\n",
       "    <tr>\n",
       "      <th>11</th>\n",
       "      <td>[Adventure, Action, Thriller, Crime]</td>\n",
       "      <td>10764</td>\n",
       "      <td>[killing, undercover, secret agent, british se...</td>\n",
       "      <td>Quantum of Solace</td>\n",
       "      <td>Quantum of Solace continues the adventures of ...</td>\n",
       "      <td>[Daniel Craig, Olga Kurylenko, Mathieu Amalric]</td>\n",
       "      <td>[Marc Forster]</td>\n",
       "    </tr>\n",
       "    <tr>\n",
       "      <th>12</th>\n",
       "      <td>[Adventure, Fantasy, Action]</td>\n",
       "      <td>58</td>\n",
       "      <td>[witch, fortune teller, bondage, exotic island...</td>\n",
       "      <td>Pirates of the Caribbean: Dead Man's Chest</td>\n",
       "      <td>Captain Jack Sparrow works his way out of a bl...</td>\n",
       "      <td>[Johnny Depp, Orlando Bloom, Keira Knightley]</td>\n",
       "      <td>[Gore Verbinski]</td>\n",
       "    </tr>\n",
       "    <tr>\n",
       "      <th>13</th>\n",
       "      <td>[Action, Adventure, Western]</td>\n",
       "      <td>57201</td>\n",
       "      <td>[texas, horse, survivor, texas ranger, partner...</td>\n",
       "      <td>The Lone Ranger</td>\n",
       "      <td>The Texas Rangers chase down a gang of outlaws...</td>\n",
       "      <td>[Johnny Depp, Armie Hammer, William Fichtner]</td>\n",
       "      <td>[Gore Verbinski]</td>\n",
       "    </tr>\n",
       "    <tr>\n",
       "      <th>14</th>\n",
       "      <td>[Action, Adventure, Fantasy, Science Fiction]</td>\n",
       "      <td>49521</td>\n",
       "      <td>[saving the world, dc comics, superhero, based...</td>\n",
       "      <td>Man of Steel</td>\n",
       "      <td>A young boy learns that he has extraordinary p...</td>\n",
       "      <td>[Henry Cavill, Amy Adams, Michael Shannon]</td>\n",
       "      <td>[Zack Snyder]</td>\n",
       "    </tr>\n",
       "    <tr>\n",
       "      <th>15</th>\n",
       "      <td>[Adventure, Family, Fantasy]</td>\n",
       "      <td>2454</td>\n",
       "      <td>[based on novel, fictional place, brother sist...</td>\n",
       "      <td>The Chronicles of Narnia: Prince Caspian</td>\n",
       "      <td>One year after their incredible adventures in ...</td>\n",
       "      <td>[Ben Barnes, William Moseley, Anna Popplewell]</td>\n",
       "      <td>[Andrew Adamson]</td>\n",
       "    </tr>\n",
       "    <tr>\n",
       "      <th>16</th>\n",
       "      <td>[Science Fiction, Action, Adventure]</td>\n",
       "      <td>24428</td>\n",
       "      <td>[new york, shield, marvel comic, superhero, ba...</td>\n",
       "      <td>The Avengers</td>\n",
       "      <td>When an unexpected enemy emerges and threatens...</td>\n",
       "      <td>[Robert Downey Jr., Chris Evans, Mark Ruffalo]</td>\n",
       "      <td>[Joss Whedon]</td>\n",
       "    </tr>\n",
       "    <tr>\n",
       "      <th>17</th>\n",
       "      <td>[Adventure, Action, Fantasy]</td>\n",
       "      <td>1865</td>\n",
       "      <td>[sea, captain, mutiny, sword, prime minister, ...</td>\n",
       "      <td>Pirates of the Caribbean: On Stranger Tides</td>\n",
       "      <td>Captain Jack Sparrow crosses paths with a woma...</td>\n",
       "      <td>[Johnny Depp, Penélope Cruz, Ian McShane]</td>\n",
       "      <td>[Rob Marshall]</td>\n",
       "    </tr>\n",
       "    <tr>\n",
       "      <th>18</th>\n",
       "      <td>[Action, Comedy, Science Fiction]</td>\n",
       "      <td>41154</td>\n",
       "      <td>[time travel, time machine, alien, fictional g...</td>\n",
       "      <td>Men in Black 3</td>\n",
       "      <td>Agents J (Will Smith) and K (Tommy Lee Jones) ...</td>\n",
       "      <td>[Will Smith, Tommy Lee Jones, Josh Brolin]</td>\n",
       "      <td>[Barry Sonnenfeld]</td>\n",
       "    </tr>\n",
       "    <tr>\n",
       "      <th>19</th>\n",
       "      <td>[Action, Adventure, Fantasy]</td>\n",
       "      <td>122917</td>\n",
       "      <td>[corruption, elves, dwarves, orcs, middle-eart...</td>\n",
       "      <td>The Hobbit: The Battle of the Five Armies</td>\n",
       "      <td>Immediately after the events of The Desolation...</td>\n",
       "      <td>[Martin Freeman, Ian McKellen, Richard Armitage]</td>\n",
       "      <td>[Peter Jackson]</td>\n",
       "    </tr>\n",
       "  </tbody>\n",
       "</table>\n",
       "</div>"
      ],
      "text/plain": [
       "                                           genres      id  \\\n",
       "0   [Action, Adventure, Fantasy, Science Fiction]   19995   \n",
       "1                    [Adventure, Fantasy, Action]     285   \n",
       "2                      [Action, Adventure, Crime]  206647   \n",
       "3                [Action, Crime, Drama, Thriller]   49026   \n",
       "4            [Action, Adventure, Science Fiction]   49529   \n",
       "5                    [Fantasy, Action, Adventure]     559   \n",
       "6                             [Animation, Family]   38757   \n",
       "7            [Action, Adventure, Science Fiction]   99861   \n",
       "8                    [Adventure, Fantasy, Family]     767   \n",
       "9                    [Action, Adventure, Fantasy]  209112   \n",
       "10  [Adventure, Fantasy, Action, Science Fiction]    1452   \n",
       "11           [Adventure, Action, Thriller, Crime]   10764   \n",
       "12                   [Adventure, Fantasy, Action]      58   \n",
       "13                   [Action, Adventure, Western]   57201   \n",
       "14  [Action, Adventure, Fantasy, Science Fiction]   49521   \n",
       "15                   [Adventure, Family, Fantasy]    2454   \n",
       "16           [Science Fiction, Action, Adventure]   24428   \n",
       "17                   [Adventure, Action, Fantasy]    1865   \n",
       "18              [Action, Comedy, Science Fiction]   41154   \n",
       "19                   [Action, Adventure, Fantasy]  122917   \n",
       "\n",
       "                                             keywords  \\\n",
       "0   [culture clash, future, space war, space colon...   \n",
       "1   [ocean, drug abuse, exotic island, east india ...   \n",
       "2   [spy, based on novel, secret agent, sequel, mi...   \n",
       "3   [dc comics, crime fighter, terrorist, secret i...   \n",
       "4   [based on novel, mars, medallion, space travel...   \n",
       "5   [dual identity, amnesia, sandstorm, love of on...   \n",
       "6   [hostage, magic, horse, fairy tale, musical, p...   \n",
       "7   [marvel comic, sequel, superhero, based on com...   \n",
       "8   [witch, magic, broom, school of witchcraft, wi...   \n",
       "9   [dc comics, vigilante, superhero, based on com...   \n",
       "10  [saving the world, dc comics, invulnerability,...   \n",
       "11  [killing, undercover, secret agent, british se...   \n",
       "12  [witch, fortune teller, bondage, exotic island...   \n",
       "13  [texas, horse, survivor, texas ranger, partner...   \n",
       "14  [saving the world, dc comics, superhero, based...   \n",
       "15  [based on novel, fictional place, brother sist...   \n",
       "16  [new york, shield, marvel comic, superhero, ba...   \n",
       "17  [sea, captain, mutiny, sword, prime minister, ...   \n",
       "18  [time travel, time machine, alien, fictional g...   \n",
       "19  [corruption, elves, dwarves, orcs, middle-eart...   \n",
       "\n",
       "                                          title  \\\n",
       "0                                        Avatar   \n",
       "1      Pirates of the Caribbean: At World's End   \n",
       "2                                       Spectre   \n",
       "3                         The Dark Knight Rises   \n",
       "4                                   John Carter   \n",
       "5                                  Spider-Man 3   \n",
       "6                                       Tangled   \n",
       "7                       Avengers: Age of Ultron   \n",
       "8        Harry Potter and the Half-Blood Prince   \n",
       "9            Batman v Superman: Dawn of Justice   \n",
       "10                             Superman Returns   \n",
       "11                            Quantum of Solace   \n",
       "12   Pirates of the Caribbean: Dead Man's Chest   \n",
       "13                              The Lone Ranger   \n",
       "14                                 Man of Steel   \n",
       "15     The Chronicles of Narnia: Prince Caspian   \n",
       "16                                 The Avengers   \n",
       "17  Pirates of the Caribbean: On Stranger Tides   \n",
       "18                               Men in Black 3   \n",
       "19    The Hobbit: The Battle of the Five Armies   \n",
       "\n",
       "                                             overview  \\\n",
       "0   In the 22nd century, a paraplegic Marine is di...   \n",
       "1   Captain Barbossa, long believed to be dead, ha...   \n",
       "2   A cryptic message from Bond’s past sends him o...   \n",
       "3   Following the death of District Attorney Harve...   \n",
       "4   John Carter is a war-weary, former military ca...   \n",
       "5   The seemingly invincible Spider-Man goes up ag...   \n",
       "6   When the kingdom's most wanted-and most charmi...   \n",
       "7   When Tony Stark tries to jumpstart a dormant p...   \n",
       "8   As Harry begins his sixth year at Hogwarts, he...   \n",
       "9   Fearing the actions of a god-like Super Hero l...   \n",
       "10  Superman returns to discover his 5-year absenc...   \n",
       "11  Quantum of Solace continues the adventures of ...   \n",
       "12  Captain Jack Sparrow works his way out of a bl...   \n",
       "13  The Texas Rangers chase down a gang of outlaws...   \n",
       "14  A young boy learns that he has extraordinary p...   \n",
       "15  One year after their incredible adventures in ...   \n",
       "16  When an unexpected enemy emerges and threatens...   \n",
       "17  Captain Jack Sparrow crosses paths with a woma...   \n",
       "18  Agents J (Will Smith) and K (Tommy Lee Jones) ...   \n",
       "19  Immediately after the events of The Desolation...   \n",
       "\n",
       "                                                 cast                 crew  \n",
       "0    [Sam Worthington, Zoe Saldana, Sigourney Weaver]      [James Cameron]  \n",
       "1       [Johnny Depp, Orlando Bloom, Keira Knightley]     [Gore Verbinski]  \n",
       "2        [Daniel Craig, Christoph Waltz, Léa Seydoux]         [Sam Mendes]  \n",
       "3        [Christian Bale, Michael Caine, Gary Oldman]  [Christopher Nolan]  \n",
       "4      [Taylor Kitsch, Lynn Collins, Samantha Morton]     [Andrew Stanton]  \n",
       "5        [Tobey Maguire, Kirsten Dunst, James Franco]          [Sam Raimi]  \n",
       "6           [Zachary Levi, Mandy Moore, Donna Murphy]       [Byron Howard]  \n",
       "7   [Robert Downey Jr., Chris Hemsworth, Mark Ruff...        [Joss Whedon]  \n",
       "8       [Daniel Radcliffe, Rupert Grint, Emma Watson]        [David Yates]  \n",
       "9              [Ben Affleck, Henry Cavill, Gal Gadot]        [Zack Snyder]  \n",
       "10       [Brandon Routh, Kevin Spacey, Kate Bosworth]       [Bryan Singer]  \n",
       "11    [Daniel Craig, Olga Kurylenko, Mathieu Amalric]       [Marc Forster]  \n",
       "12      [Johnny Depp, Orlando Bloom, Keira Knightley]     [Gore Verbinski]  \n",
       "13      [Johnny Depp, Armie Hammer, William Fichtner]     [Gore Verbinski]  \n",
       "14         [Henry Cavill, Amy Adams, Michael Shannon]        [Zack Snyder]  \n",
       "15     [Ben Barnes, William Moseley, Anna Popplewell]     [Andrew Adamson]  \n",
       "16     [Robert Downey Jr., Chris Evans, Mark Ruffalo]        [Joss Whedon]  \n",
       "17          [Johnny Depp, Penélope Cruz, Ian McShane]       [Rob Marshall]  \n",
       "18         [Will Smith, Tommy Lee Jones, Josh Brolin]   [Barry Sonnenfeld]  \n",
       "19   [Martin Freeman, Ian McKellen, Richard Armitage]      [Peter Jackson]  "
      ]
     },
     "execution_count": 31,
     "metadata": {},
     "output_type": "execute_result"
    }
   ],
   "source": [
    "movies.head(20)"
   ]
  },
  {
   "cell_type": "markdown",
   "id": "50d5db13",
   "metadata": {},
   "source": [
    "Converting overview (string) into List"
   ]
  },
  {
   "cell_type": "code",
   "execution_count": 32,
   "id": "9a0b9c9a",
   "metadata": {
    "execution": {
     "iopub.execute_input": "2023-10-18T17:04:15.115328Z",
     "iopub.status.busy": "2023-10-18T17:04:15.114738Z",
     "iopub.status.idle": "2023-10-18T17:04:15.151754Z",
     "shell.execute_reply": "2023-10-18T17:04:15.150208Z"
    },
    "papermill": {
     "duration": 0.054586,
     "end_time": "2023-10-18T17:04:15.154203",
     "exception": false,
     "start_time": "2023-10-18T17:04:15.099617",
     "status": "completed"
    },
    "tags": []
   },
   "outputs": [],
   "source": [
    "movies['overview'] = movies['overview'].apply(lambda x:x.split())"
   ]
  },
  {
   "cell_type": "code",
   "execution_count": 33,
   "id": "fb7f3f47",
   "metadata": {
    "execution": {
     "iopub.execute_input": "2023-10-18T17:04:15.183058Z",
     "iopub.status.busy": "2023-10-18T17:04:15.182554Z",
     "iopub.status.idle": "2023-10-18T17:04:15.296730Z",
     "shell.execute_reply": "2023-10-18T17:04:15.295403Z"
    },
    "papermill": {
     "duration": 0.131224,
     "end_time": "2023-10-18T17:04:15.299081",
     "exception": false,
     "start_time": "2023-10-18T17:04:15.167857",
     "status": "completed"
    },
    "tags": []
   },
   "outputs": [],
   "source": [
    "# Removing spaces between words\n",
    "movies['genres'] = movies['genres'].apply(lambda x: [i.replace(\" \",\"\") for i in x])\n",
    "movies['keywords'] = movies['keywords'].apply(lambda x: [i.replace(\" \",\"\") for i in x])\n",
    "movies['cast'] = movies['cast'].apply(lambda x: [i.replace(\" \",\"\") for i in x])\n",
    "movies['crew'] = movies['crew'].apply(lambda x: [i.replace(\" \",\"\") for i in x])"
   ]
  },
  {
   "cell_type": "code",
   "execution_count": 34,
   "id": "0251acf4",
   "metadata": {
    "execution": {
     "iopub.execute_input": "2023-10-18T17:04:15.327816Z",
     "iopub.status.busy": "2023-10-18T17:04:15.327497Z",
     "iopub.status.idle": "2023-10-18T17:04:15.345532Z",
     "shell.execute_reply": "2023-10-18T17:04:15.344522Z"
    },
    "papermill": {
     "duration": 0.034261,
     "end_time": "2023-10-18T17:04:15.347299",
     "exception": false,
     "start_time": "2023-10-18T17:04:15.313038",
     "status": "completed"
    },
    "tags": []
   },
   "outputs": [
    {
     "data": {
      "text/html": [
       "<div>\n",
       "<style scoped>\n",
       "    .dataframe tbody tr th:only-of-type {\n",
       "        vertical-align: middle;\n",
       "    }\n",
       "\n",
       "    .dataframe tbody tr th {\n",
       "        vertical-align: top;\n",
       "    }\n",
       "\n",
       "    .dataframe thead th {\n",
       "        text-align: right;\n",
       "    }\n",
       "</style>\n",
       "<table border=\"1\" class=\"dataframe\">\n",
       "  <thead>\n",
       "    <tr style=\"text-align: right;\">\n",
       "      <th></th>\n",
       "      <th>genres</th>\n",
       "      <th>id</th>\n",
       "      <th>keywords</th>\n",
       "      <th>title</th>\n",
       "      <th>overview</th>\n",
       "      <th>cast</th>\n",
       "      <th>crew</th>\n",
       "    </tr>\n",
       "  </thead>\n",
       "  <tbody>\n",
       "    <tr>\n",
       "      <th>0</th>\n",
       "      <td>[Action, Adventure, Fantasy, ScienceFiction]</td>\n",
       "      <td>19995</td>\n",
       "      <td>[cultureclash, future, spacewar, spacecolony, ...</td>\n",
       "      <td>Avatar</td>\n",
       "      <td>[In, the, 22nd, century,, a, paraplegic, Marin...</td>\n",
       "      <td>[SamWorthington, ZoeSaldana, SigourneyWeaver]</td>\n",
       "      <td>[JamesCameron]</td>\n",
       "    </tr>\n",
       "    <tr>\n",
       "      <th>1</th>\n",
       "      <td>[Adventure, Fantasy, Action]</td>\n",
       "      <td>285</td>\n",
       "      <td>[ocean, drugabuse, exoticisland, eastindiatrad...</td>\n",
       "      <td>Pirates of the Caribbean: At World's End</td>\n",
       "      <td>[Captain, Barbossa,, long, believed, to, be, d...</td>\n",
       "      <td>[JohnnyDepp, OrlandoBloom, KeiraKnightley]</td>\n",
       "      <td>[GoreVerbinski]</td>\n",
       "    </tr>\n",
       "    <tr>\n",
       "      <th>2</th>\n",
       "      <td>[Action, Adventure, Crime]</td>\n",
       "      <td>206647</td>\n",
       "      <td>[spy, basedonnovel, secretagent, sequel, mi6, ...</td>\n",
       "      <td>Spectre</td>\n",
       "      <td>[A, cryptic, message, from, Bond’s, past, send...</td>\n",
       "      <td>[DanielCraig, ChristophWaltz, LéaSeydoux]</td>\n",
       "      <td>[SamMendes]</td>\n",
       "    </tr>\n",
       "    <tr>\n",
       "      <th>3</th>\n",
       "      <td>[Action, Crime, Drama, Thriller]</td>\n",
       "      <td>49026</td>\n",
       "      <td>[dccomics, crimefighter, terrorist, secretiden...</td>\n",
       "      <td>The Dark Knight Rises</td>\n",
       "      <td>[Following, the, death, of, District, Attorney...</td>\n",
       "      <td>[ChristianBale, MichaelCaine, GaryOldman]</td>\n",
       "      <td>[ChristopherNolan]</td>\n",
       "    </tr>\n",
       "    <tr>\n",
       "      <th>4</th>\n",
       "      <td>[Action, Adventure, ScienceFiction]</td>\n",
       "      <td>49529</td>\n",
       "      <td>[basedonnovel, mars, medallion, spacetravel, p...</td>\n",
       "      <td>John Carter</td>\n",
       "      <td>[John, Carter, is, a, war-weary,, former, mili...</td>\n",
       "      <td>[TaylorKitsch, LynnCollins, SamanthaMorton]</td>\n",
       "      <td>[AndrewStanton]</td>\n",
       "    </tr>\n",
       "  </tbody>\n",
       "</table>\n",
       "</div>"
      ],
      "text/plain": [
       "                                         genres      id  \\\n",
       "0  [Action, Adventure, Fantasy, ScienceFiction]   19995   \n",
       "1                  [Adventure, Fantasy, Action]     285   \n",
       "2                    [Action, Adventure, Crime]  206647   \n",
       "3              [Action, Crime, Drama, Thriller]   49026   \n",
       "4           [Action, Adventure, ScienceFiction]   49529   \n",
       "\n",
       "                                            keywords  \\\n",
       "0  [cultureclash, future, spacewar, spacecolony, ...   \n",
       "1  [ocean, drugabuse, exoticisland, eastindiatrad...   \n",
       "2  [spy, basedonnovel, secretagent, sequel, mi6, ...   \n",
       "3  [dccomics, crimefighter, terrorist, secretiden...   \n",
       "4  [basedonnovel, mars, medallion, spacetravel, p...   \n",
       "\n",
       "                                      title  \\\n",
       "0                                    Avatar   \n",
       "1  Pirates of the Caribbean: At World's End   \n",
       "2                                   Spectre   \n",
       "3                     The Dark Knight Rises   \n",
       "4                               John Carter   \n",
       "\n",
       "                                            overview  \\\n",
       "0  [In, the, 22nd, century,, a, paraplegic, Marin...   \n",
       "1  [Captain, Barbossa,, long, believed, to, be, d...   \n",
       "2  [A, cryptic, message, from, Bond’s, past, send...   \n",
       "3  [Following, the, death, of, District, Attorney...   \n",
       "4  [John, Carter, is, a, war-weary,, former, mili...   \n",
       "\n",
       "                                            cast                crew  \n",
       "0  [SamWorthington, ZoeSaldana, SigourneyWeaver]      [JamesCameron]  \n",
       "1     [JohnnyDepp, OrlandoBloom, KeiraKnightley]     [GoreVerbinski]  \n",
       "2      [DanielCraig, ChristophWaltz, LéaSeydoux]         [SamMendes]  \n",
       "3      [ChristianBale, MichaelCaine, GaryOldman]  [ChristopherNolan]  \n",
       "4    [TaylorKitsch, LynnCollins, SamanthaMorton]     [AndrewStanton]  "
      ]
     },
     "execution_count": 34,
     "metadata": {},
     "output_type": "execute_result"
    }
   ],
   "source": [
    "movies.head()"
   ]
  },
  {
   "cell_type": "markdown",
   "id": "85019e77",
   "metadata": {},
   "source": [
    "cooncatinating 'overview' , 'genres' ,'keywords' + 'cast' + 'crew' into a one column"
   ]
  },
  {
   "cell_type": "code",
   "execution_count": 35,
   "id": "9532b015",
   "metadata": {
    "execution": {
     "iopub.execute_input": "2023-10-18T17:04:15.376462Z",
     "iopub.status.busy": "2023-10-18T17:04:15.376126Z",
     "iopub.status.idle": "2023-10-18T17:04:15.424400Z",
     "shell.execute_reply": "2023-10-18T17:04:15.423434Z"
    },
    "papermill": {
     "duration": 0.064983,
     "end_time": "2023-10-18T17:04:15.426308",
     "exception": false,
     "start_time": "2023-10-18T17:04:15.361325",
     "status": "completed"
    },
    "tags": []
   },
   "outputs": [],
   "source": [
    "movies['tags'] = movies['overview'] + movies['genres'] + movies['keywords'] + movies['cast'] + movies['crew']"
   ]
  },
  {
   "cell_type": "code",
   "execution_count": 36,
   "id": "02d2eb3a",
   "metadata": {
    "execution": {
     "iopub.execute_input": "2023-10-18T17:04:15.455873Z",
     "iopub.status.busy": "2023-10-18T17:04:15.455548Z",
     "iopub.status.idle": "2023-10-18T17:04:15.460891Z",
     "shell.execute_reply": "2023-10-18T17:04:15.459787Z"
    },
    "papermill": {
     "duration": 0.022262,
     "end_time": "2023-10-18T17:04:15.462696",
     "exception": false,
     "start_time": "2023-10-18T17:04:15.440434",
     "status": "completed"
    },
    "tags": []
   },
   "outputs": [],
   "source": [
    "new_df = movies[['id','title','tags']]"
   ]
  },
  {
   "cell_type": "code",
   "execution_count": 37,
   "id": "a0db5083",
   "metadata": {
    "execution": {
     "iopub.execute_input": "2023-10-18T17:04:15.491715Z",
     "iopub.status.busy": "2023-10-18T17:04:15.491331Z",
     "iopub.status.idle": "2023-10-18T17:04:15.506259Z",
     "shell.execute_reply": "2023-10-18T17:04:15.505419Z"
    },
    "papermill": {
     "duration": 0.031597,
     "end_time": "2023-10-18T17:04:15.508008",
     "exception": false,
     "start_time": "2023-10-18T17:04:15.476411",
     "status": "completed"
    },
    "tags": []
   },
   "outputs": [
    {
     "data": {
      "text/html": [
       "<div>\n",
       "<style scoped>\n",
       "    .dataframe tbody tr th:only-of-type {\n",
       "        vertical-align: middle;\n",
       "    }\n",
       "\n",
       "    .dataframe tbody tr th {\n",
       "        vertical-align: top;\n",
       "    }\n",
       "\n",
       "    .dataframe thead th {\n",
       "        text-align: right;\n",
       "    }\n",
       "</style>\n",
       "<table border=\"1\" class=\"dataframe\">\n",
       "  <thead>\n",
       "    <tr style=\"text-align: right;\">\n",
       "      <th></th>\n",
       "      <th>id</th>\n",
       "      <th>title</th>\n",
       "      <th>tags</th>\n",
       "    </tr>\n",
       "  </thead>\n",
       "  <tbody>\n",
       "    <tr>\n",
       "      <th>0</th>\n",
       "      <td>19995</td>\n",
       "      <td>Avatar</td>\n",
       "      <td>[In, the, 22nd, century,, a, paraplegic, Marin...</td>\n",
       "    </tr>\n",
       "    <tr>\n",
       "      <th>1</th>\n",
       "      <td>285</td>\n",
       "      <td>Pirates of the Caribbean: At World's End</td>\n",
       "      <td>[Captain, Barbossa,, long, believed, to, be, d...</td>\n",
       "    </tr>\n",
       "    <tr>\n",
       "      <th>2</th>\n",
       "      <td>206647</td>\n",
       "      <td>Spectre</td>\n",
       "      <td>[A, cryptic, message, from, Bond’s, past, send...</td>\n",
       "    </tr>\n",
       "    <tr>\n",
       "      <th>3</th>\n",
       "      <td>49026</td>\n",
       "      <td>The Dark Knight Rises</td>\n",
       "      <td>[Following, the, death, of, District, Attorney...</td>\n",
       "    </tr>\n",
       "    <tr>\n",
       "      <th>4</th>\n",
       "      <td>49529</td>\n",
       "      <td>John Carter</td>\n",
       "      <td>[John, Carter, is, a, war-weary,, former, mili...</td>\n",
       "    </tr>\n",
       "    <tr>\n",
       "      <th>...</th>\n",
       "      <td>...</td>\n",
       "      <td>...</td>\n",
       "      <td>...</td>\n",
       "    </tr>\n",
       "    <tr>\n",
       "      <th>4804</th>\n",
       "      <td>9367</td>\n",
       "      <td>El Mariachi</td>\n",
       "      <td>[El, Mariachi, just, wants, to, play, his, gui...</td>\n",
       "    </tr>\n",
       "    <tr>\n",
       "      <th>4805</th>\n",
       "      <td>72766</td>\n",
       "      <td>Newlyweds</td>\n",
       "      <td>[A, newlywed, couple's, honeymoon, is, upended...</td>\n",
       "    </tr>\n",
       "    <tr>\n",
       "      <th>4806</th>\n",
       "      <td>231617</td>\n",
       "      <td>Signed, Sealed, Delivered</td>\n",
       "      <td>[\"Signed,, Sealed,, Delivered\", introduces, a,...</td>\n",
       "    </tr>\n",
       "    <tr>\n",
       "      <th>4807</th>\n",
       "      <td>126186</td>\n",
       "      <td>Shanghai Calling</td>\n",
       "      <td>[When, ambitious, New, York, attorney, Sam, is...</td>\n",
       "    </tr>\n",
       "    <tr>\n",
       "      <th>4808</th>\n",
       "      <td>25975</td>\n",
       "      <td>My Date with Drew</td>\n",
       "      <td>[Ever, since, the, second, grade, when, he, fi...</td>\n",
       "    </tr>\n",
       "  </tbody>\n",
       "</table>\n",
       "<p>4806 rows × 3 columns</p>\n",
       "</div>"
      ],
      "text/plain": [
       "          id                                     title  \\\n",
       "0      19995                                    Avatar   \n",
       "1        285  Pirates of the Caribbean: At World's End   \n",
       "2     206647                                   Spectre   \n",
       "3      49026                     The Dark Knight Rises   \n",
       "4      49529                               John Carter   \n",
       "...      ...                                       ...   \n",
       "4804    9367                               El Mariachi   \n",
       "4805   72766                                 Newlyweds   \n",
       "4806  231617                 Signed, Sealed, Delivered   \n",
       "4807  126186                          Shanghai Calling   \n",
       "4808   25975                         My Date with Drew   \n",
       "\n",
       "                                                   tags  \n",
       "0     [In, the, 22nd, century,, a, paraplegic, Marin...  \n",
       "1     [Captain, Barbossa,, long, believed, to, be, d...  \n",
       "2     [A, cryptic, message, from, Bond’s, past, send...  \n",
       "3     [Following, the, death, of, District, Attorney...  \n",
       "4     [John, Carter, is, a, war-weary,, former, mili...  \n",
       "...                                                 ...  \n",
       "4804  [El, Mariachi, just, wants, to, play, his, gui...  \n",
       "4805  [A, newlywed, couple's, honeymoon, is, upended...  \n",
       "4806  [\"Signed,, Sealed,, Delivered\", introduces, a,...  \n",
       "4807  [When, ambitious, New, York, attorney, Sam, is...  \n",
       "4808  [Ever, since, the, second, grade, when, he, fi...  \n",
       "\n",
       "[4806 rows x 3 columns]"
      ]
     },
     "execution_count": 37,
     "metadata": {},
     "output_type": "execute_result"
    }
   ],
   "source": [
    "new_df"
   ]
  },
  {
   "cell_type": "code",
   "execution_count": null,
   "id": "a5541d91",
   "metadata": {},
   "outputs": [],
   "source": []
  },
  {
   "cell_type": "markdown",
   "id": "f2ade856",
   "metadata": {
    "execution": {
     "iopub.execute_input": "2023-10-18T17:04:15.538178Z",
     "iopub.status.busy": "2023-10-18T17:04:15.537110Z",
     "iopub.status.idle": "2023-10-18T17:04:15.541563Z",
     "shell.execute_reply": "2023-10-18T17:04:15.540642Z"
    },
    "papermill": {
     "duration": 0.021189,
     "end_time": "2023-10-18T17:04:15.543403",
     "exception": false,
     "start_time": "2023-10-18T17:04:15.522214",
     "status": "completed"
    },
    "tags": []
   },
   "source": [
    "Converting this list of tags into a string"
   ]
  },
  {
   "cell_type": "code",
   "execution_count": 38,
   "id": "9cee0633",
   "metadata": {
    "execution": {
     "iopub.execute_input": "2023-10-18T17:04:15.572823Z",
     "iopub.status.busy": "2023-10-18T17:04:15.572476Z",
     "iopub.status.idle": "2023-10-18T17:04:15.589747Z",
     "shell.execute_reply": "2023-10-18T17:04:15.588307Z"
    },
    "papermill": {
     "duration": 0.034294,
     "end_time": "2023-10-18T17:04:15.591931",
     "exception": false,
     "start_time": "2023-10-18T17:04:15.557637",
     "status": "completed"
    },
    "tags": []
   },
   "outputs": [
    {
     "name": "stderr",
     "output_type": "stream",
     "text": [
      "C:\\Users\\Sayama Siddiquie\\AppData\\Local\\Temp\\ipykernel_7972\\3089450492.py:1: SettingWithCopyWarning: \n",
      "A value is trying to be set on a copy of a slice from a DataFrame.\n",
      "Try using .loc[row_indexer,col_indexer] = value instead\n",
      "\n",
      "See the caveats in the documentation: https://pandas.pydata.org/pandas-docs/stable/user_guide/indexing.html#returning-a-view-versus-a-copy\n",
      "  new_df['tags'] = new_df['tags'].apply(lambda x:\" \".join(x))\n"
     ]
    }
   ],
   "source": [
    "new_df['tags'] = new_df['tags'].apply(lambda x:\" \".join(x))"
   ]
  },
  {
   "cell_type": "code",
   "execution_count": 39,
   "id": "8cdf0e26",
   "metadata": {
    "execution": {
     "iopub.execute_input": "2023-10-18T17:04:15.621242Z",
     "iopub.status.busy": "2023-10-18T17:04:15.620911Z",
     "iopub.status.idle": "2023-10-18T17:04:15.627172Z",
     "shell.execute_reply": "2023-10-18T17:04:15.626271Z"
    },
    "papermill": {
     "duration": 0.022894,
     "end_time": "2023-10-18T17:04:15.628995",
     "exception": false,
     "start_time": "2023-10-18T17:04:15.606101",
     "status": "completed"
    },
    "tags": []
   },
   "outputs": [
    {
     "data": {
      "text/plain": [
       "'In the 22nd century, a paraplegic Marine is dispatched to the moon Pandora on a unique mission, but becomes torn between following orders and protecting an alien civilization. Action Adventure Fantasy ScienceFiction cultureclash future spacewar spacecolony society spacetravel futuristic romance space alien tribe alienplanet cgi marine soldier battle loveaffair antiwar powerrelations mindandsoul 3d SamWorthington ZoeSaldana SigourneyWeaver JamesCameron'"
      ]
     },
     "execution_count": 39,
     "metadata": {},
     "output_type": "execute_result"
    }
   ],
   "source": [
    "new_df['tags'][0]"
   ]
  },
  {
   "cell_type": "markdown",
   "id": "5cca967a",
   "metadata": {
    "execution": {
     "iopub.execute_input": "2023-10-18T17:04:15.659267Z",
     "iopub.status.busy": "2023-10-18T17:04:15.658703Z",
     "iopub.status.idle": "2023-10-18T17:04:15.662020Z",
     "shell.execute_reply": "2023-10-18T17:04:15.661396Z"
    },
    "papermill": {
     "duration": 0.020443,
     "end_time": "2023-10-18T17:04:15.663672",
     "exception": false,
     "start_time": "2023-10-18T17:04:15.643229",
     "status": "completed"
    },
    "tags": []
   },
   "source": [
    "Converting all uppercase letters into lowercase"
   ]
  },
  {
   "cell_type": "code",
   "execution_count": 40,
   "id": "05cdebcc",
   "metadata": {
    "execution": {
     "iopub.execute_input": "2023-10-18T17:04:15.694058Z",
     "iopub.status.busy": "2023-10-18T17:04:15.693450Z",
     "iopub.status.idle": "2023-10-18T17:04:15.708305Z",
     "shell.execute_reply": "2023-10-18T17:04:15.707616Z"
    },
    "papermill": {
     "duration": 0.032213,
     "end_time": "2023-10-18T17:04:15.710370",
     "exception": false,
     "start_time": "2023-10-18T17:04:15.678157",
     "status": "completed"
    },
    "tags": []
   },
   "outputs": [
    {
     "name": "stderr",
     "output_type": "stream",
     "text": [
      "C:\\Users\\Sayama Siddiquie\\AppData\\Local\\Temp\\ipykernel_7972\\3214958533.py:1: SettingWithCopyWarning: \n",
      "A value is trying to be set on a copy of a slice from a DataFrame.\n",
      "Try using .loc[row_indexer,col_indexer] = value instead\n",
      "\n",
      "See the caveats in the documentation: https://pandas.pydata.org/pandas-docs/stable/user_guide/indexing.html#returning-a-view-versus-a-copy\n",
      "  new_df['tags'] = new_df['tags'].apply(lambda x:x.lower())\n"
     ]
    }
   ],
   "source": [
    "new_df['tags'] = new_df['tags'].apply(lambda x:x.lower())"
   ]
  },
  {
   "cell_type": "code",
   "execution_count": 41,
   "id": "69d00d0b",
   "metadata": {
    "execution": {
     "iopub.execute_input": "2023-10-18T17:04:15.740386Z",
     "iopub.status.busy": "2023-10-18T17:04:15.739781Z",
     "iopub.status.idle": "2023-10-18T17:04:15.748239Z",
     "shell.execute_reply": "2023-10-18T17:04:15.747617Z"
    },
    "papermill": {
     "duration": 0.025146,
     "end_time": "2023-10-18T17:04:15.749845",
     "exception": false,
     "start_time": "2023-10-18T17:04:15.724699",
     "status": "completed"
    },
    "tags": []
   },
   "outputs": [
    {
     "data": {
      "text/html": [
       "<div>\n",
       "<style scoped>\n",
       "    .dataframe tbody tr th:only-of-type {\n",
       "        vertical-align: middle;\n",
       "    }\n",
       "\n",
       "    .dataframe tbody tr th {\n",
       "        vertical-align: top;\n",
       "    }\n",
       "\n",
       "    .dataframe thead th {\n",
       "        text-align: right;\n",
       "    }\n",
       "</style>\n",
       "<table border=\"1\" class=\"dataframe\">\n",
       "  <thead>\n",
       "    <tr style=\"text-align: right;\">\n",
       "      <th></th>\n",
       "      <th>id</th>\n",
       "      <th>title</th>\n",
       "      <th>tags</th>\n",
       "    </tr>\n",
       "  </thead>\n",
       "  <tbody>\n",
       "    <tr>\n",
       "      <th>0</th>\n",
       "      <td>19995</td>\n",
       "      <td>Avatar</td>\n",
       "      <td>in the 22nd century, a paraplegic marine is di...</td>\n",
       "    </tr>\n",
       "    <tr>\n",
       "      <th>1</th>\n",
       "      <td>285</td>\n",
       "      <td>Pirates of the Caribbean: At World's End</td>\n",
       "      <td>captain barbossa, long believed to be dead, ha...</td>\n",
       "    </tr>\n",
       "    <tr>\n",
       "      <th>2</th>\n",
       "      <td>206647</td>\n",
       "      <td>Spectre</td>\n",
       "      <td>a cryptic message from bond’s past sends him o...</td>\n",
       "    </tr>\n",
       "    <tr>\n",
       "      <th>3</th>\n",
       "      <td>49026</td>\n",
       "      <td>The Dark Knight Rises</td>\n",
       "      <td>following the death of district attorney harve...</td>\n",
       "    </tr>\n",
       "    <tr>\n",
       "      <th>4</th>\n",
       "      <td>49529</td>\n",
       "      <td>John Carter</td>\n",
       "      <td>john carter is a war-weary, former military ca...</td>\n",
       "    </tr>\n",
       "  </tbody>\n",
       "</table>\n",
       "</div>"
      ],
      "text/plain": [
       "       id                                     title  \\\n",
       "0   19995                                    Avatar   \n",
       "1     285  Pirates of the Caribbean: At World's End   \n",
       "2  206647                                   Spectre   \n",
       "3   49026                     The Dark Knight Rises   \n",
       "4   49529                               John Carter   \n",
       "\n",
       "                                                tags  \n",
       "0  in the 22nd century, a paraplegic marine is di...  \n",
       "1  captain barbossa, long believed to be dead, ha...  \n",
       "2  a cryptic message from bond’s past sends him o...  \n",
       "3  following the death of district attorney harve...  \n",
       "4  john carter is a war-weary, former military ca...  "
      ]
     },
     "execution_count": 41,
     "metadata": {},
     "output_type": "execute_result"
    }
   ],
   "source": [
    "new_df.head()"
   ]
  },
  {
   "cell_type": "markdown",
   "id": "2465b90e",
   "metadata": {
    "execution": {
     "iopub.execute_input": "2023-10-18T17:04:15.780424Z",
     "iopub.status.busy": "2023-10-18T17:04:15.779451Z",
     "iopub.status.idle": "2023-10-18T17:04:15.784007Z",
     "shell.execute_reply": "2023-10-18T17:04:15.783058Z"
    },
    "papermill": {
     "duration": 0.021709,
     "end_time": "2023-10-18T17:04:15.785877",
     "exception": false,
     "start_time": "2023-10-18T17:04:15.764168",
     "status": "completed"
    },
    "tags": []
   },
   "source": [
    "Now we will use stemming using nltk library to remove same words like love, loving, loved"
   ]
  },
  {
   "cell_type": "code",
   "execution_count": 42,
   "id": "afc30a7c",
   "metadata": {},
   "outputs": [
    {
     "data": {
      "text/plain": [
       "id                                                   32740\n",
       "title                                               Krrish\n",
       "tags     krishna (roshan) is born with magical powers -...\n",
       "Name: 3092, dtype: object"
      ]
     },
     "execution_count": 42,
     "metadata": {},
     "output_type": "execute_result"
    }
   ],
   "source": [
    "new_df.iloc[3091]"
   ]
  },
  {
   "cell_type": "markdown",
   "id": "5600093c",
   "metadata": {},
   "source": [
    "29    when bond' latest assign goe grave wrong and a...\n",
    "Name: tags, dtype: object\n"
   ]
  },
  {
   "cell_type": "code",
   "execution_count": 43,
   "id": "45a63be2",
   "metadata": {
    "execution": {
     "iopub.execute_input": "2023-10-18T17:04:15.815713Z",
     "iopub.status.busy": "2023-10-18T17:04:15.815330Z",
     "iopub.status.idle": "2023-10-18T17:04:17.491861Z",
     "shell.execute_reply": "2023-10-18T17:04:17.490775Z"
    },
    "papermill": {
     "duration": 1.693769,
     "end_time": "2023-10-18T17:04:17.494144",
     "exception": false,
     "start_time": "2023-10-18T17:04:15.800375",
     "status": "completed"
    },
    "tags": []
   },
   "outputs": [],
   "source": [
    "import nltk"
   ]
  },
  {
   "cell_type": "code",
   "execution_count": 44,
   "id": "b61becad",
   "metadata": {
    "execution": {
     "iopub.execute_input": "2023-10-18T17:04:17.525704Z",
     "iopub.status.busy": "2023-10-18T17:04:17.524752Z",
     "iopub.status.idle": "2023-10-18T17:04:17.528948Z",
     "shell.execute_reply": "2023-10-18T17:04:17.528128Z"
    },
    "papermill": {
     "duration": 0.021596,
     "end_time": "2023-10-18T17:04:17.530674",
     "exception": false,
     "start_time": "2023-10-18T17:04:17.509078",
     "status": "completed"
    },
    "tags": []
   },
   "outputs": [],
   "source": [
    "from nltk.stem.porter import PorterStemmer\n",
    "ps = PorterStemmer()"
   ]
  },
  {
   "cell_type": "code",
   "execution_count": 45,
   "id": "ccef5913",
   "metadata": {
    "execution": {
     "iopub.execute_input": "2023-10-18T17:04:17.561329Z",
     "iopub.status.busy": "2023-10-18T17:04:17.560636Z",
     "iopub.status.idle": "2023-10-18T17:04:17.566726Z",
     "shell.execute_reply": "2023-10-18T17:04:17.565771Z"
    },
    "papermill": {
     "duration": 0.023355,
     "end_time": "2023-10-18T17:04:17.568563",
     "exception": false,
     "start_time": "2023-10-18T17:04:17.545208",
     "status": "completed"
    },
    "tags": []
   },
   "outputs": [
    {
     "data": {
      "text/plain": [
       "'walk'"
      ]
     },
     "execution_count": 45,
     "metadata": {},
     "output_type": "execute_result"
    }
   ],
   "source": [
    "ps.stem('walking')"
   ]
  },
  {
   "cell_type": "code",
   "execution_count": 46,
   "id": "304f0658",
   "metadata": {
    "execution": {
     "iopub.execute_input": "2023-10-18T17:04:17.600449Z",
     "iopub.status.busy": "2023-10-18T17:04:17.599551Z",
     "iopub.status.idle": "2023-10-18T17:04:17.603904Z",
     "shell.execute_reply": "2023-10-18T17:04:17.603286Z"
    },
    "papermill": {
     "duration": 0.022103,
     "end_time": "2023-10-18T17:04:17.605559",
     "exception": false,
     "start_time": "2023-10-18T17:04:17.583456",
     "status": "completed"
    },
    "tags": []
   },
   "outputs": [],
   "source": [
    "def stem(text):\n",
    "    y = []\n",
    "    \n",
    "    # Converting string into list\n",
    "    \n",
    "    for i in text.split():\n",
    "        y.append(ps.stem(i))\n",
    "        \n",
    "    # Again converting list into string\n",
    "    return \" \".join(y)"
   ]
  },
  {
   "cell_type": "code",
   "execution_count": 47,
   "id": "a738dd8a",
   "metadata": {
    "execution": {
     "iopub.execute_input": "2023-10-18T17:04:17.636329Z",
     "iopub.status.busy": "2023-10-18T17:04:17.635780Z",
     "iopub.status.idle": "2023-10-18T17:04:23.156419Z",
     "shell.execute_reply": "2023-10-18T17:04:23.155472Z"
    },
    "papermill": {
     "duration": 5.5382,
     "end_time": "2023-10-18T17:04:23.158428",
     "exception": false,
     "start_time": "2023-10-18T17:04:17.620228",
     "status": "completed"
    },
    "tags": []
   },
   "outputs": [
    {
     "name": "stderr",
     "output_type": "stream",
     "text": [
      "C:\\Users\\Sayama Siddiquie\\AppData\\Local\\Temp\\ipykernel_7972\\3213734980.py:1: SettingWithCopyWarning: \n",
      "A value is trying to be set on a copy of a slice from a DataFrame.\n",
      "Try using .loc[row_indexer,col_indexer] = value instead\n",
      "\n",
      "See the caveats in the documentation: https://pandas.pydata.org/pandas-docs/stable/user_guide/indexing.html#returning-a-view-versus-a-copy\n",
      "  new_df['tags'] = new_df['tags'].apply(stem)\n"
     ]
    }
   ],
   "source": [
    "new_df['tags'] = new_df['tags'].apply(stem)"
   ]
  },
  {
   "cell_type": "code",
   "execution_count": 48,
   "id": "bb21b9c0",
   "metadata": {},
   "outputs": [
    {
     "data": {
      "text/html": [
       "<div>\n",
       "<style scoped>\n",
       "    .dataframe tbody tr th:only-of-type {\n",
       "        vertical-align: middle;\n",
       "    }\n",
       "\n",
       "    .dataframe tbody tr th {\n",
       "        vertical-align: top;\n",
       "    }\n",
       "\n",
       "    .dataframe thead th {\n",
       "        text-align: right;\n",
       "    }\n",
       "</style>\n",
       "<table border=\"1\" class=\"dataframe\">\n",
       "  <thead>\n",
       "    <tr style=\"text-align: right;\">\n",
       "      <th></th>\n",
       "      <th>id</th>\n",
       "      <th>title</th>\n",
       "      <th>tags</th>\n",
       "    </tr>\n",
       "  </thead>\n",
       "  <tbody>\n",
       "    <tr>\n",
       "      <th>0</th>\n",
       "      <td>19995</td>\n",
       "      <td>Avatar</td>\n",
       "      <td>in the 22nd century, a parapleg marin is dispa...</td>\n",
       "    </tr>\n",
       "    <tr>\n",
       "      <th>1</th>\n",
       "      <td>285</td>\n",
       "      <td>Pirates of the Caribbean: At World's End</td>\n",
       "      <td>captain barbossa, long believ to be dead, ha c...</td>\n",
       "    </tr>\n",
       "    <tr>\n",
       "      <th>2</th>\n",
       "      <td>206647</td>\n",
       "      <td>Spectre</td>\n",
       "      <td>a cryptic messag from bond’ past send him on a...</td>\n",
       "    </tr>\n",
       "    <tr>\n",
       "      <th>3</th>\n",
       "      <td>49026</td>\n",
       "      <td>The Dark Knight Rises</td>\n",
       "      <td>follow the death of district attorney harvey d...</td>\n",
       "    </tr>\n",
       "    <tr>\n",
       "      <th>4</th>\n",
       "      <td>49529</td>\n",
       "      <td>John Carter</td>\n",
       "      <td>john carter is a war-weary, former militari ca...</td>\n",
       "    </tr>\n",
       "    <tr>\n",
       "      <th>...</th>\n",
       "      <td>...</td>\n",
       "      <td>...</td>\n",
       "      <td>...</td>\n",
       "    </tr>\n",
       "    <tr>\n",
       "      <th>4804</th>\n",
       "      <td>9367</td>\n",
       "      <td>El Mariachi</td>\n",
       "      <td>el mariachi just want to play hi guitar and ca...</td>\n",
       "    </tr>\n",
       "    <tr>\n",
       "      <th>4805</th>\n",
       "      <td>72766</td>\n",
       "      <td>Newlyweds</td>\n",
       "      <td>a newlyw couple' honeymoon is upend by the arr...</td>\n",
       "    </tr>\n",
       "    <tr>\n",
       "      <th>4806</th>\n",
       "      <td>231617</td>\n",
       "      <td>Signed, Sealed, Delivered</td>\n",
       "      <td>\"signed, sealed, delivered\" introduc a dedic q...</td>\n",
       "    </tr>\n",
       "    <tr>\n",
       "      <th>4807</th>\n",
       "      <td>126186</td>\n",
       "      <td>Shanghai Calling</td>\n",
       "      <td>when ambiti new york attorney sam is sent to s...</td>\n",
       "    </tr>\n",
       "    <tr>\n",
       "      <th>4808</th>\n",
       "      <td>25975</td>\n",
       "      <td>My Date with Drew</td>\n",
       "      <td>ever sinc the second grade when he first saw h...</td>\n",
       "    </tr>\n",
       "  </tbody>\n",
       "</table>\n",
       "<p>4806 rows × 3 columns</p>\n",
       "</div>"
      ],
      "text/plain": [
       "          id                                     title  \\\n",
       "0      19995                                    Avatar   \n",
       "1        285  Pirates of the Caribbean: At World's End   \n",
       "2     206647                                   Spectre   \n",
       "3      49026                     The Dark Knight Rises   \n",
       "4      49529                               John Carter   \n",
       "...      ...                                       ...   \n",
       "4804    9367                               El Mariachi   \n",
       "4805   72766                                 Newlyweds   \n",
       "4806  231617                 Signed, Sealed, Delivered   \n",
       "4807  126186                          Shanghai Calling   \n",
       "4808   25975                         My Date with Drew   \n",
       "\n",
       "                                                   tags  \n",
       "0     in the 22nd century, a parapleg marin is dispa...  \n",
       "1     captain barbossa, long believ to be dead, ha c...  \n",
       "2     a cryptic messag from bond’ past send him on a...  \n",
       "3     follow the death of district attorney harvey d...  \n",
       "4     john carter is a war-weary, former militari ca...  \n",
       "...                                                 ...  \n",
       "4804  el mariachi just want to play hi guitar and ca...  \n",
       "4805  a newlyw couple' honeymoon is upend by the arr...  \n",
       "4806  \"signed, sealed, delivered\" introduc a dedic q...  \n",
       "4807  when ambiti new york attorney sam is sent to s...  \n",
       "4808  ever sinc the second grade when he first saw h...  \n",
       "\n",
       "[4806 rows x 3 columns]"
      ]
     },
     "execution_count": 48,
     "metadata": {},
     "output_type": "execute_result"
    }
   ],
   "source": [
    "new_df"
   ]
  },
  {
   "cell_type": "markdown",
   "id": "1a6e4b54",
   "metadata": {
    "execution": {
     "iopub.execute_input": "2023-10-18T17:04:23.189047Z",
     "iopub.status.busy": "2023-10-18T17:04:23.188728Z",
     "iopub.status.idle": "2023-10-18T17:04:23.192022Z",
     "shell.execute_reply": "2023-10-18T17:04:23.191419Z"
    },
    "papermill": {
     "duration": 0.020691,
     "end_time": "2023-10-18T17:04:23.193784",
     "exception": false,
     "start_time": "2023-10-18T17:04:23.173093",
     "status": "completed"
    },
    "tags": []
   },
   "source": [
    "Now we will do vectorization of data in tags column            \n",
    "First we'll combine all the tags and calculate 5000 words whose frequency is maximum"
   ]
  },
  {
   "cell_type": "code",
   "execution_count": 49,
   "id": "89ff9e17",
   "metadata": {
    "execution": {
     "iopub.execute_input": "2023-10-18T17:04:23.224007Z",
     "iopub.status.busy": "2023-10-18T17:04:23.223474Z",
     "iopub.status.idle": "2023-10-18T17:04:23.227796Z",
     "shell.execute_reply": "2023-10-18T17:04:23.227187Z"
    },
    "papermill": {
     "duration": 0.021411,
     "end_time": "2023-10-18T17:04:23.229485",
     "exception": false,
     "start_time": "2023-10-18T17:04:23.208074",
     "status": "completed"
    },
    "tags": []
   },
   "outputs": [],
   "source": [
    "\n",
    "from sklearn.feature_extraction.text import CountVectorizer\n",
    "cv = CountVectorizer(max_features=5000, stop_words='english')"
   ]
  },
  {
   "cell_type": "code",
   "execution_count": 50,
   "id": "5c8481e5",
   "metadata": {
    "execution": {
     "iopub.execute_input": "2023-10-18T17:04:23.260395Z",
     "iopub.status.busy": "2023-10-18T17:04:23.259782Z",
     "iopub.status.idle": "2023-10-18T17:04:23.779662Z",
     "shell.execute_reply": "2023-10-18T17:04:23.778702Z"
    },
    "papermill": {
     "duration": 0.538262,
     "end_time": "2023-10-18T17:04:23.782452",
     "exception": false,
     "start_time": "2023-10-18T17:04:23.244190",
     "status": "completed"
    },
    "tags": []
   },
   "outputs": [],
   "source": [
    "vectors = cv.fit_transform(new_df['tags']).toarray()"
   ]
  },
  {
   "cell_type": "code",
   "execution_count": 51,
   "id": "d51bf7b4",
   "metadata": {
    "execution": {
     "iopub.execute_input": "2023-10-18T17:04:23.814014Z",
     "iopub.status.busy": "2023-10-18T17:04:23.813689Z",
     "iopub.status.idle": "2023-10-18T17:04:23.819317Z",
     "shell.execute_reply": "2023-10-18T17:04:23.818289Z"
    },
    "papermill": {
     "duration": 0.023446,
     "end_time": "2023-10-18T17:04:23.821193",
     "exception": false,
     "start_time": "2023-10-18T17:04:23.797747",
     "status": "completed"
    },
    "tags": []
   },
   "outputs": [
    {
     "data": {
      "text/plain": [
       "(4806, 5000)"
      ]
     },
     "execution_count": 51,
     "metadata": {},
     "output_type": "execute_result"
    }
   ],
   "source": [
    "vectors.shape #vector containing top  5000 features from every 4806 rows"
   ]
  },
  {
   "cell_type": "code",
   "execution_count": 52,
   "id": "8323585a",
   "metadata": {
    "execution": {
     "iopub.execute_input": "2023-10-18T17:04:23.851811Z",
     "iopub.status.busy": "2023-10-18T17:04:23.851454Z",
     "iopub.status.idle": "2023-10-18T17:04:23.857747Z",
     "shell.execute_reply": "2023-10-18T17:04:23.856702Z"
    },
    "papermill": {
     "duration": 0.02361,
     "end_time": "2023-10-18T17:04:23.859412",
     "exception": false,
     "start_time": "2023-10-18T17:04:23.835802",
     "status": "completed"
    },
    "tags": []
   },
   "outputs": [
    {
     "data": {
      "text/plain": [
       "array([0, 0, 0, ..., 0, 0, 0], shape=(5000,))"
      ]
     },
     "execution_count": 52,
     "metadata": {},
     "output_type": "execute_result"
    }
   ],
   "source": [
    "vectors[0] # Vector of movie Avatar"
   ]
  },
  {
   "cell_type": "code",
   "execution_count": 53,
   "id": "92e7f40a",
   "metadata": {
    "execution": {
     "iopub.execute_input": "2023-10-18T17:04:23.890800Z",
     "iopub.status.busy": "2023-10-18T17:04:23.889829Z",
     "iopub.status.idle": "2023-10-18T17:04:23.899809Z",
     "shell.execute_reply": "2023-10-18T17:04:23.898837Z"
    },
    "papermill": {
     "duration": 0.027763,
     "end_time": "2023-10-18T17:04:23.901853",
     "exception": false,
     "start_time": "2023-10-18T17:04:23.874090",
     "status": "completed"
    },
    "tags": []
   },
   "outputs": [
    {
     "data": {
      "text/plain": [
       "array(['000', '007', '10', ..., 'zone', 'zoo', 'zooeydeschanel'],\n",
       "      shape=(5000,), dtype=object)"
      ]
     },
     "execution_count": 53,
     "metadata": {},
     "output_type": "execute_result"
    }
   ],
   "source": [
    "cv.get_feature_names_out()"
   ]
  },
  {
   "cell_type": "code",
   "execution_count": 54,
   "id": "dbcf6c46",
   "metadata": {
    "execution": {
     "iopub.execute_input": "2023-10-18T17:04:23.934241Z",
     "iopub.status.busy": "2023-10-18T17:04:23.933689Z",
     "iopub.status.idle": "2023-10-18T17:04:23.940924Z",
     "shell.execute_reply": "2023-10-18T17:04:23.940124Z"
    },
    "papermill": {
     "duration": 0.025647,
     "end_time": "2023-10-18T17:04:23.942702",
     "exception": false,
     "start_time": "2023-10-18T17:04:23.917055",
     "status": "completed"
    },
    "tags": []
   },
   "outputs": [
    {
     "data": {
      "text/plain": [
       "'in the 22nd century, a parapleg marin is dispatch to the moon pandora on a uniqu mission, but becom torn between follow order and protect an alien civilization. action adventur fantasi sciencefict cultureclash futur spacewar spacecoloni societi spacetravel futurist romanc space alien tribe alienplanet cgi marin soldier battl loveaffair antiwar powerrel mindandsoul 3d samworthington zoesaldana sigourneyweav jamescameron'"
      ]
     },
     "execution_count": 54,
     "metadata": {},
     "output_type": "execute_result"
    }
   ],
   "source": [
    "stem('In the 22nd century, a paraplegic Marine is dispatched to the moon Pandora on a unique mission, but becomes torn between following orders and protecting an alien civilization. Action Adventure Fantasy ScienceFiction cultureclash future spacewar spacecolony society spacetravel futuristic romance space alien tribe alienplanet cgi marine soldier battle loveaffair antiwar powerrelations mindandsoul 3d SamWorthington ZoeSaldana SigourneyWeaver JamesCameron')"
   ]
  },
  {
   "cell_type": "markdown",
   "id": "9f391bcb",
   "metadata": {
    "execution": {
     "iopub.execute_input": "2023-10-18T17:04:23.974374Z",
     "iopub.status.busy": "2023-10-18T17:04:23.973803Z",
     "iopub.status.idle": "2023-10-18T17:04:23.977881Z",
     "shell.execute_reply": "2023-10-18T17:04:23.977192Z"
    },
    "papermill": {
     "duration": 0.021974,
     "end_time": "2023-10-18T17:04:23.979629",
     "exception": false,
     "start_time": "2023-10-18T17:04:23.957655",
     "status": "completed"
    },
    "tags": []
   },
   "source": [
    "Now we have 4806 vectors (one for each movie)       \n",
    "Now we will calculate distance between two vectors to find similarity between movies          \n",
    "We will calculate cosine distance (angle b/w vectors) rather than euclidean distance           \n",
    "As the dimension of data increases, the performance of euclidean distance decreases        "
   ]
  },
  {
   "cell_type": "code",
   "execution_count": 55,
   "id": "011d90a5",
   "metadata": {
    "execution": {
     "iopub.execute_input": "2023-10-18T17:04:24.010750Z",
     "iopub.status.busy": "2023-10-18T17:04:24.010165Z",
     "iopub.status.idle": "2023-10-18T17:04:24.014287Z",
     "shell.execute_reply": "2023-10-18T17:04:24.013707Z"
    },
    "papermill": {
     "duration": 0.021672,
     "end_time": "2023-10-18T17:04:24.016094",
     "exception": false,
     "start_time": "2023-10-18T17:04:23.994422",
     "status": "completed"
    },
    "tags": []
   },
   "outputs": [],
   "source": [
    "from sklearn.metrics.pairwise import cosine_similarity"
   ]
  },
  {
   "cell_type": "code",
   "execution_count": 56,
   "id": "c6de6263",
   "metadata": {
    "execution": {
     "iopub.execute_input": "2023-10-18T17:04:24.047193Z",
     "iopub.status.busy": "2023-10-18T17:04:24.046782Z",
     "iopub.status.idle": "2023-10-18T17:04:26.582852Z",
     "shell.execute_reply": "2023-10-18T17:04:26.581922Z"
    },
    "papermill": {
     "duration": 2.554121,
     "end_time": "2023-10-18T17:04:26.584789",
     "exception": false,
     "start_time": "2023-10-18T17:04:24.030668",
     "status": "completed"
    },
    "tags": []
   },
   "outputs": [
    {
     "data": {
      "text/plain": [
       "(4806, 4806)"
      ]
     },
     "execution_count": 56,
     "metadata": {},
     "output_type": "execute_result"
    }
   ],
   "source": [
    "#This calculates the cosine similarity between vectors which tells how similar each vector to \n",
    "#each other this will help to get similar movies w.r.t to our feed\n",
    "cosine_similarity(vectors).shape"
   ]
  },
  {
   "cell_type": "code",
   "execution_count": 57,
   "id": "a8fd5662",
   "metadata": {
    "execution": {
     "iopub.execute_input": "2023-10-18T17:04:26.617165Z",
     "iopub.status.busy": "2023-10-18T17:04:26.616784Z",
     "iopub.status.idle": "2023-10-18T17:04:29.043889Z",
     "shell.execute_reply": "2023-10-18T17:04:29.042461Z"
    },
    "papermill": {
     "duration": 2.44772,
     "end_time": "2023-10-18T17:04:29.048416",
     "exception": false,
     "start_time": "2023-10-18T17:04:26.600696",
     "status": "completed"
    },
    "tags": []
   },
   "outputs": [],
   "source": [
    "\n",
    "similarity = cosine_similarity(vectors)"
   ]
  },
  {
   "cell_type": "code",
   "execution_count": 58,
   "id": "6bef5938",
   "metadata": {},
   "outputs": [
    {
     "name": "stdout",
     "output_type": "stream",
     "text": [
      "(4806, 4806)\n"
     ]
    }
   ],
   "source": [
    "\n",
    "print(similarity.shape)"
   ]
  },
  {
   "cell_type": "code",
   "execution_count": 59,
   "id": "8bf57067",
   "metadata": {},
   "outputs": [
    {
     "data": {
      "text/plain": [
       "'Spectre'"
      ]
     },
     "execution_count": 59,
     "metadata": {},
     "output_type": "execute_result"
    }
   ],
   "source": [
    "new_df.iloc[2]['title']"
   ]
  },
  {
   "cell_type": "code",
   "execution_count": 60,
   "id": "8ee8219a",
   "metadata": {},
   "outputs": [
    {
     "name": "stdout",
     "output_type": "stream",
     "text": [
      "2\n",
      "[0.0860309  0.06063391 1.         ... 0.02451452 0.         0.        ]\n",
      "[(0, np.float64(0.08603090020146065)), (1, np.float64(0.06063390625908323)), (2, np.float64(0.9999999999999999)), (3, np.float64(0.060048057676907664)), (4, np.float64(0.0773565934694095)), (5, np.float64(0.07086833868923009)), (6, np.float64(0.02192645048267573)), (7, np.float64(0.1332504477222565)), (8, np.float64(0.06454972243679027)), (9, np.float64(0.10660035817780521)), (10, np.float64(0.08385254915624211)), (11, np.float64(0.3609974361905776)), (12, np.float64(0.06565321642986127)), (13, np.float64(0.049029033784546004)), (14, np.float64(0.05661385170722978)), (15, np.float64(0.06846531968814575)), (16, np.float64(0.057353933467640436)), (17, np.float64(0.15231794896123557)), (18, np.float64(0.0827605888602368)), (19, np.float64(0.0679018095318889)), (20, np.float64(0.03162277660168379)), (21, np.float64(0.059761430466719674)), (22, np.float64(0.036084391824351615)), (23, np.float64(0.1270001270001905)), (24, np.float64(0.058123819371909635)), (25, np.float64(0.0)), (26, np.float64(0.11180339887498948)), (27, np.float64(0.0679018095318889)), (28, np.float64(0.09525009525014289)), (29, np.float64(0.3307189138830738)), (30, np.float64(0.07284643967679481)), (31, np.float64(0.06933752452815364)), (32, np.float64(0.04642383454426296)), (33, np.float64(0.07071067811865475)), (34, np.float64(0.0)), (35, np.float64(0.07216878364870323)), (36, np.float64(0.10660035817780521)), (37, np.float64(0.028676966733820218)), (38, np.float64(0.11048543456039804)), (39, np.float64(0.059761430466719674)), (40, np.float64(0.08385254915624211)), (41, np.float64(0.0773565934694095)), (42, np.float64(0.0)), (43, np.float64(0.04950737714883371)), (44, np.float64(0.036860489038724284)), (45, np.float64(0.02245066275334686)), (46, np.float64(0.15158476564770806)), (47, np.float64(0.08574929257125441)), (48, np.float64(0.06904309634237427)), (49, np.float64(0.031750031750047626)), (50, np.float64(0.12309149097933274)), (51, np.float64(0.0870388279778489)), (52, np.float64(0.053300179088902604)), (53, np.float64(0.04682929057908469)), (54, np.float64(0.034020690871988585)), (55, np.float64(0.03834824944236852)), (56, np.float64(0.11306675421666135)), (57, np.float64(0.0)), (58, np.float64(0.147087101353638)), (59, np.float64(0.039528470752104736)), (60, np.float64(0.040032038451271776)), (61, np.float64(0.07216878364870323)), (62, np.float64(0.1369306393762915)), (63, np.float64(0.08908708063747478)), (64, np.float64(0.0)), (65, np.float64(0.06384423980690614)), (66, np.float64(0.024514516892273002)), (67, np.float64(0.08964214570007951)), (68, np.float64(0.06565321642986127)), (69, np.float64(0.04330127018922193)), (70, np.float64(0.05521576303742327)), (71, np.float64(0.053300179088902604)), (72, np.float64(0.08964214570007951)), (73, np.float64(0.0)), (74, np.float64(0.049029033784546004)), (75, np.float64(0.05661385170722978)), (76, np.float64(0.10425720702853737)), (77, np.float64(0.0)), (78, np.float64(0.0828236445561349)), (79, np.float64(0.045267873021259265)), (80, np.float64(0.03666177875533832)), (81, np.float64(0.060048057676907664)), (82, np.float64(0.05521576303742327)), (83, np.float64(0.073543550676819)), (84, np.float64(0.06735198826004059)), (85, np.float64(0.053300179088902604)), (86, np.float64(0.025785531156469834)), (87, np.float64(0.06063390625908323)), (88, np.float64(0.13130643285972254)), (89, np.float64(0.03137279025690793)), (90, np.float64(0.03340765523905304)), (91, np.float64(0.06063390625908323)), (92, np.float64(0.045267873021259265)), (93, np.float64(0.025785531156469834)), (94, np.float64(0.10206207261596575)), (95, np.float64(0.05103103630798288)), (96, np.float64(0.05590169943749474)), (97, np.float64(0.07576144084141578)), (98, np.float64(0.05455447255899809)), (99, np.float64(0.058123819371909635)), (100, np.float64(0.0)), (101, np.float64(0.05590169943749474)), (102, np.float64(0.045267873021259265)), (103, np.float64(0.06527912098338667)), (104, np.float64(0.06063390625908323)), (105, np.float64(0.1507556722888818)), (106, np.float64(0.022633936510629633)), (107, np.float64(0.04490132550669372)), (108, np.float64(0.15811388300841897)), (109, np.float64(0.07071067811865475)), (110, np.float64(0.0)), (111, np.float64(0.05455447255899809)), (112, np.float64(0.05590169943749474)), (113, np.float64(0.0236227795630767)), (114, np.float64(0.024999999999999998)), (115, np.float64(0.04767312946227961)), (116, np.float64(0.052128603514268686)), (117, np.float64(0.06454972243679027)), (118, np.float64(0.0)), (119, np.float64(0.0944911182523068)), (120, np.float64(0.02551551815399144)), (121, np.float64(0.09095085938862485)), (122, np.float64(0.06350006350009525)), (123, np.float64(0.073543550676819)), (124, np.float64(0.049029033784546004)), (125, np.float64(0.04273521617236423)), (126, np.float64(0.08718572905786445)), (127, np.float64(0.07955572841757301)), (128, np.float64(0.05892556509887895)), (129, np.float64(0.12626906806902632)), (130, np.float64(0.029462782549439476)), (131, np.float64(0.08603090020146065)), (132, np.float64(0.024514516892273002)), (133, np.float64(0.0)), (134, np.float64(0.1414213562373095)), (135, np.float64(0.0)), (136, np.float64(0.02551551815399144)), (137, np.float64(0.06565321642986127)), (138, np.float64(0.08385254915624211)), (139, np.float64(0.10963225241337865)), (140, np.float64(0.073543550676819)), (141, np.float64(0.031750031750047626)), (142, np.float64(0.06154574548966637)), (143, np.float64(0.0472455591261534)), (144, np.float64(0.05455447255899809)), (145, np.float64(0.020979533957417223)), (146, np.float64(0.0)), (147, np.float64(0.21221867190679128)), (148, np.float64(0.035355339059327376)), (149, np.float64(0.042257712736425826)), (150, np.float64(0.05966679631317975)), (151, np.float64(0.11058146711617285)), (152, np.float64(0.12126781251816646)), (153, np.float64(0.08574929257125441)), (154, np.float64(0.03340765523905304)), (155, np.float64(0.06681531047810609)), (156, np.float64(0.021759706994462225)), (157, np.float64(0.07216878364870323)), (158, np.float64(0.07284643967679481)), (159, np.float64(0.03466876226407682)), (160, np.float64(0.1093987436234209)), (161, np.float64(0.0)), (162, np.float64(0.07216878364870323)), (163, np.float64(0.08385254915624211)), (164, np.float64(0.11624763874381927)), (165, np.float64(0.049999999999999996)), (166, np.float64(0.19094065395649332)), (167, np.float64(0.09847982464479191)), (168, np.float64(0.08183170883849714)), (169, np.float64(0.04811252243246881)), (170, np.float64(0.16248342090492035)), (171, np.float64(0.024753688574416854)), (172, np.float64(0.03857583749052298)), (173, np.float64(0.0)), (174, np.float64(0.11322770341445956)), (175, np.float64(0.05157106231293967)), (176, np.float64(0.06350006350009525)), (177, np.float64(0.0)), (178, np.float64(0.053300179088902604)), (179, np.float64(0.07905694150420947)), (180, np.float64(0.12028130608117202)), (181, np.float64(0.024514516892273002)), (182, np.float64(0.07654655446197431)), (183, np.float64(0.0958706236059213)), (184, np.float64(0.0)), (185, np.float64(0.027607881518711633)), (186, np.float64(0.08574929257125441)), (187, np.float64(0.11180339887498947)), (188, np.float64(0.09622504486493762)), (189, np.float64(0.041666666666666664)), (190, np.float64(0.11507182723729042)), (191, np.float64(0.026650089544451302)), (192, np.float64(0.025785531156469834)), (193, np.float64(0.05151021148075838)), (194, np.float64(0.0)), (195, np.float64(0.03227486121839514)), (196, np.float64(0.02830692585361489)), (197, np.float64(0.060436722301903514)), (198, np.float64(0.062499999999999986)), (199, np.float64(0.0472455591261534)), (200, np.float64(0.07905694150420947)), (201, np.float64(0.07216878364870323)), (202, np.float64(0.06933752452815364)), (203, np.float64(0.06063390625908323)), (204, np.float64(0.053916386601719206)), (205, np.float64(0.12166606584807188)), (206, np.float64(0.060436722301903514)), (207, np.float64(0.11180339887498948)), (208, np.float64(0.06681531047810609)), (209, np.float64(0.07372097807744857)), (210, np.float64(0.10910894511799618)), (211, np.float64(0.0)), (212, np.float64(0.04811252243246881)), (213, np.float64(0.06431196942844081)), (214, np.float64(0.0)), (215, np.float64(0.07216878364870322)), (216, np.float64(0.07071067811865475)), (217, np.float64(0.02321191727213148)), (218, np.float64(0.16666666666666666)), (219, np.float64(0.10022296571715913)), (220, np.float64(0.06454972243679027)), (221, np.float64(0.05157106231293967)), (222, np.float64(0.021759706994462225)), (223, np.float64(0.08492077756084468)), (224, np.float64(0.044194173824159216)), (225, np.float64(0.02551551815399144)), (226, np.float64(0.032826608214930636)), (227, np.float64(0.17928429140015903)), (228, np.float64(0.07216878364870322)), (229, np.float64(0.11713032141645455)), (230, np.float64(0.040032038451271776)), (231, np.float64(0.025785531156469834)), (232, np.float64(0.06063390625908323)), (233, np.float64(0.0753778361444409)), (234, np.float64(0.04682929057908469)), (235, np.float64(0.027607881518711633)), (236, np.float64(0.062499999999999986)), (237, np.float64(0.07216878364870323)), (238, np.float64(0.04029114820126901)), (239, np.float64(0.0)), (240, np.float64(0.05103103630798288)), (241, np.float64(0.11470786693528087)), (242, np.float64(0.05892556509887895)), (243, np.float64(0.07576144084141578)), (244, np.float64(0.03340765523905304)), (245, np.float64(0.1178511301977579)), (246, np.float64(0.041666666666666664)), (247, np.float64(0.06565321642986127)), (248, np.float64(0.09712858623572641)), (249, np.float64(0.11306675421666135)), (250, np.float64(0.0)), (251, np.float64(0.0)), (252, np.float64(0.11048543456039804)), (253, np.float64(0.06904309634237427)), (254, np.float64(0.025253813613805264)), (255, np.float64(0.027277236279499045)), (256, np.float64(0.12166606584807188)), (257, np.float64(0.029061909685954818)), (258, np.float64(0.01928791874526149)), (259, np.float64(0.06681531047810609)), (260, np.float64(0.09525009525014289)), (261, np.float64(0.07905694150420949)), (262, np.float64(0.06963575181639443)), (263, np.float64(0.10606601717798213)), (264, np.float64(0.0)), (265, np.float64(0.0)), (266, np.float64(0.053916386601719206)), (267, np.float64(0.10606601717798213)), (268, np.float64(0.057353933467640436)), (269, np.float64(0.03227486121839514)), (270, np.float64(0.07216878364870322)), (271, np.float64(0.05157106231293967)), (272, np.float64(0.0)), (273, np.float64(0.06904309634237427)), (274, np.float64(0.0838525491562421)), (275, np.float64(0.062499999999999986)), (276, np.float64(0.034020690871988585)), (277, np.float64(0.1735912687073534)), (278, np.float64(0.05103103630798288)), (279, np.float64(0.05050762722761053)), (280, np.float64(0.05661385170722978)), (281, np.float64(0.0472455591261534)), (282, np.float64(0.14569287935358963)), (283, np.float64(0.059761430466719674)), (284, np.float64(0.0)), (285, np.float64(0.06384423980690614)), (286, np.float64(0.04256282653793742)), (287, np.float64(0.02830692585361489)), (288, np.float64(0.059761430466719674)), (289, np.float64(0.024999999999999998)), (290, np.float64(0.06804138174397717)), (291, np.float64(0.0808745799025788)), (292, np.float64(0.09682458365518541)), (293, np.float64(0.03227486121839514)), (294, np.float64(0.12499999999999997)), (295, np.float64(0.028676966733820218)), (296, np.float64(0.021128856368212913)), (297, np.float64(0.04811252243246881)), (298, np.float64(0.026064301757134343)), (299, np.float64(0.043193421279068)), (300, np.float64(0.053300179088902604)), (301, np.float64(0.061237243569579436)), (302, np.float64(0.02551551815399144)), (303, np.float64(0.06154574548966637)), (304, np.float64(0.07169241683455055)), (305, np.float64(0.06904309634237427)), (306, np.float64(0.029462782549439476)), (307, np.float64(0.10159281922178943)), (308, np.float64(0.07372097807744857)), (309, np.float64(0.034020690871988585)), (310, np.float64(0.0835191380976326)), (311, np.float64(0.027277236279499045)), (312, np.float64(0.05455447255899809)), (313, np.float64(0.0)), (314, np.float64(0.0944911182523068)), (315, np.float64(0.06063390625908323)), (316, np.float64(0.021596710639534)), (317, np.float64(0.0)), (318, np.float64(0.0)), (319, np.float64(0.036084391824351615)), (320, np.float64(0.06681531047810609)), (321, np.float64(0.03857583749052298)), (322, np.float64(0.057353933467640436)), (323, np.float64(0.0)), (324, np.float64(0.026352313834736494)), (325, np.float64(0.10825317547305485)), (326, np.float64(0.0)), (327, np.float64(0.0)), (328, np.float64(0.029880715233359837)), (329, np.float64(0.11470786693528087)), (330, np.float64(0.08183170883849714)), (331, np.float64(0.024514516892273002)), (332, np.float64(0.11624763874381927)), (333, np.float64(0.0)), (334, np.float64(0.05270462766947299)), (335, np.float64(0.025253813613805264)), (336, np.float64(0.03768891807222045)), (337, np.float64(0.04950737714883371)), (338, np.float64(0.036084391824351615)), (339, np.float64(0.0799502686333539)), (340, np.float64(0.053916386601719206)), (341, np.float64(0.029880715233359837)), (342, np.float64(0.05856516070822727)), (343, np.float64(0.0)), (344, np.float64(0.03227486121839514)), (345, np.float64(0.05050762722761053)), (346, np.float64(0.029880715233359837)), (347, np.float64(0.0)), (348, np.float64(0.03340765523905304)), (349, np.float64(0.05521576303742327)), (350, np.float64(0.10660035817780521)), (351, np.float64(0.04950737714883371)), (352, np.float64(0.029880715233359837)), (353, np.float64(0.02245066275334686)), (354, np.float64(0.0944911182523068)), (355, np.float64(0.05966679631317975)), (356, np.float64(0.13130643285972254)), (357, np.float64(0.0)), (358, np.float64(0.032826608214930636)), (359, np.float64(0.034020690871988585)), (360, np.float64(0.0)), (361, np.float64(0.027277236279499045)), (362, np.float64(0.03466876226407682)), (363, np.float64(0.043193421279068)), (364, np.float64(0.0)), (365, np.float64(0.05455447255899809)), (366, np.float64(0.030772872744833184)), (367, np.float64(0.11058146711617285)), (368, np.float64(0.07071067811865475)), (369, np.float64(0.0828236445561349)), (370, np.float64(0.11043152607484653)), (371, np.float64(0.10425720702853737)), (372, np.float64(0.12892765578234916)), (373, np.float64(0.0)), (374, np.float64(0.0413802944301184)), (375, np.float64(0.0)), (376, np.float64(0.02551551815399144)), (377, np.float64(0.05050762722761053)), (378, np.float64(0.0)), (379, np.float64(0.036860489038724284)), (380, np.float64(0.0)), (381, np.float64(0.04564354645876383)), (382, np.float64(0.0)), (383, np.float64(0.0472455591261534)), (384, np.float64(0.062499999999999986)), (385, np.float64(0.0)), (386, np.float64(0.09534625892455922)), (387, np.float64(0.025785531156469834)), (388, np.float64(0.024999999999999998)), (389, np.float64(0.06350006350009525)), (390, np.float64(0.0)), (391, np.float64(0.0)), (392, np.float64(0.06565321642986127)), (393, np.float64(0.0)), (394, np.float64(0.0808745799025788)), (395, np.float64(0.0)), (396, np.float64(0.07150969419341942)), (397, np.float64(0.0)), (398, np.float64(0.024056261216234404)), (399, np.float64(0.05157106231293967)), (400, np.float64(0.09847982464479191)), (401, np.float64(0.03340765523905304)), (402, np.float64(0.08964214570007951)), (403, np.float64(0.0679018095318889)), (404, np.float64(0.0)), (405, np.float64(0.06063390625908323)), (406, np.float64(0.0)), (407, np.float64(0.0)), (408, np.float64(0.035355339059327376)), (409, np.float64(0.0)), (410, np.float64(0.053300179088902604)), (411, np.float64(0.058123819371909635)), (412, np.float64(0.07819290527140303)), (413, np.float64(0.030772872744833184)), (414, np.float64(0.03227486121839514)), (415, np.float64(0.01940376314265832)), (416, np.float64(0.0)), (417, np.float64(0.0)), (418, np.float64(0.11572751247156893)), (419, np.float64(0.075)), (420, np.float64(0.049029033784546004)), (421, np.float64(0.05050762722761053)), (422, np.float64(0.031750031750047626)), (423, np.float64(0.0)), (424, np.float64(0.04029114820126901)), (425, np.float64(0.09284766908852592)), (426, np.float64(0.07808688094430302)), (427, np.float64(0.028676966733820218)), (428, np.float64(0.020277677641345315)), (429, np.float64(0.0)), (430, np.float64(0.0)), (431, np.float64(0.0)), (432, np.float64(0.04950737714883371)), (433, np.float64(0.06804138174397717)), (434, np.float64(0.0)), (435, np.float64(0.03857583749052298)), (436, np.float64(0.0)), (437, np.float64(0.11180339887498948)), (438, np.float64(0.0)), (439, np.float64(0.028676966733820218)), (440, np.float64(0.0)), (441, np.float64(0.0)), (442, np.float64(0.04950737714883371)), (443, np.float64(0.0)), (444, np.float64(0.07654655446197431)), (445, np.float64(0.0)), (446, np.float64(0.05050762722761053)), (447, np.float64(0.04682929057908469)), (448, np.float64(0.0)), (449, np.float64(0.059761430466719674)), (450, np.float64(0.0)), (451, np.float64(0.05455447255899809)), (452, np.float64(0.0)), (453, np.float64(0.053300179088902604)), (454, np.float64(0.0)), (455, np.float64(0.06629126073623882)), (456, np.float64(0.0236227795630767)), (457, np.float64(0.09374999999999997)), (458, np.float64(0.0472455591261534)), (459, np.float64(0.03768891807222045)), (460, np.float64(0.0)), (461, np.float64(0.030772872744833184)), (462, np.float64(0.017589938618257295)), (463, np.float64(0.0)), (464, np.float64(0.0)), (465, np.float64(0.041666666666666664)), (466, np.float64(0.11858541225631421)), (467, np.float64(0.04602873089491617)), (468, np.float64(0.09095085938862485)), (469, np.float64(0.064790131918602)), (470, np.float64(0.0)), (471, np.float64(0.04642383454426296)), (472, np.float64(0.058123819371909635)), (473, np.float64(0.0)), (474, np.float64(0.029880715233359837)), (475, np.float64(0.04767312946227961)), (476, np.float64(0.07372097807744857)), (477, np.float64(0.0)), (478, np.float64(0.039283710065919304)), (479, np.float64(0.01917412472118426)), (480, np.float64(0.053300179088902604)), (481, np.float64(0.025785531156469834)), (482, np.float64(0.0)), (483, np.float64(0.10206207261596575)), (484, np.float64(0.031750031750047626)), (485, np.float64(0.028676966733820218)), (486, np.float64(0.05225497607187132)), (487, np.float64(0.06933752452815364)), (488, np.float64(0.01813690625275029)), (489, np.float64(0.0)), (490, np.float64(0.07715167498104596)), (491, np.float64(0.043193421279068)), (492, np.float64(0.05521576303742327)), (493, np.float64(0.0)), (494, np.float64(0.0)), (495, np.float64(0.06933752452815364)), (496, np.float64(0.01853123291652753)), (497, np.float64(0.035355339059327376)), (498, np.float64(0.11058146711617285)), (499, np.float64(0.0)), (500, np.float64(0.05661385170722978)), (501, np.float64(0.04454354031873739)), (502, np.float64(0.024282146558931603)), (503, np.float64(0.08183170883849714)), (504, np.float64(0.0)), (505, np.float64(0.07372097807744857)), (506, np.float64(0.03768891807222045)), (507, np.float64(0.06963575181639443)), (508, np.float64(0.13975424859373686)), (509, np.float64(0.024056261216234404)), (510, np.float64(0.026958193300859603)), (511, np.float64(0.06681531047810609)), (512, np.float64(0.08964214570007951)), (513, np.float64(0.053916386601719206)), (514, np.float64(0.0808745799025788)), (515, np.float64(0.0)), (516, np.float64(0.0)), (517, np.float64(0.04351941398892445)), (518, np.float64(0.04767312946227961)), (519, np.float64(0.05590169943749474)), (520, np.float64(0.0)), (521, np.float64(0.0)), (522, np.float64(0.0)), (523, np.float64(0.07905694150420949)), (524, np.float64(0.0)), (525, np.float64(0.05157106231293967)), (526, np.float64(0.0)), (527, np.float64(0.036084391824351615)), (528, np.float64(0.04856429311786321)), (529, np.float64(0.052128603514268686)), (530, np.float64(0.06063390625908323)), (531, np.float64(0.10101525445522105)), (532, np.float64(0.0)), (533, np.float64(0.032826608214930636)), (534, np.float64(0.09128709291752767)), (535, np.float64(0.053300179088902604)), (536, np.float64(0.024514516892273002)), (537, np.float64(0.036860489038724284)), (538, np.float64(0.032826608214930636)), (539, np.float64(0.06063390625908323)), (540, np.float64(0.05455447255899809)), (541, np.float64(0.023014365447458086)), (542, np.float64(0.020145574100634504)), (543, np.float64(0.0773565934694095)), (544, np.float64(0.09095085938862485)), (545, np.float64(0.0)), (546, np.float64(0.03466876226407682)), (547, np.float64(0.030772872744833184)), (548, np.float64(0.057353933467640436)), (549, np.float64(0.026064301757134343)), (550, np.float64(0.0)), (551, np.float64(0.02054987341316966)), (552, np.float64(0.030772872744833184)), (553, np.float64(0.031249999999999993)), (554, np.float64(0.0)), (555, np.float64(0.0)), (556, np.float64(0.029061909685954818)), (557, np.float64(0.0799502686333539)), (558, np.float64(0.0)), (559, np.float64(0.0)), (560, np.float64(0.019641855032959652)), (561, np.float64(0.06933752452815364)), (562, np.float64(0.06681531047810609)), (563, np.float64(0.0)), (564, np.float64(0.0)), (565, np.float64(0.0236227795630767)), (566, np.float64(0.026064301757134343)), (567, np.float64(0.0)), (568, np.float64(0.06154574548966637)), (569, np.float64(0.05157106231293967)), (570, np.float64(0.036860489038724284)), (571, np.float64(0.04602873089491617)), (572, np.float64(0.04682929057908469)), (573, np.float64(0.0679018095318889)), (574, np.float64(0.07654655446197431)), (575, np.float64(0.0)), (576, np.float64(0.0)), (577, np.float64(0.09231861823449955)), (578, np.float64(0.020412414523193145)), (579, np.float64(0.09525009525014289)), (580, np.float64(0.10540925533894598)), (581, np.float64(0.06350006350009525)), (582, np.float64(0.07284643967679481)), (583, np.float64(0.02054987341316966)), (584, np.float64(0.0)), (585, np.float64(0.053300179088902604)), (586, np.float64(0.049029033784546004)), (587, np.float64(0.0773565934694095)), (588, np.float64(0.02795084971874737)), (589, np.float64(0.09622504486493762)), (590, np.float64(0.09847982464479191)), (591, np.float64(0.06846531968814575)), (592, np.float64(0.023014365447458086)), (593, np.float64(0.062070441645177596)), (594, np.float64(0.0808745799025788)), (595, np.float64(0.049999999999999996)), (596, np.float64(0.12626906806902632)), (597, np.float64(0.03227486121839514)), (598, np.float64(0.0)), (599, np.float64(0.014940357616679919)), (600, np.float64(0.075)), (601, np.float64(0.018233123937236816)), (602, np.float64(0.04950737714883371)), (603, np.float64(0.05892556509887895)), (604, np.float64(0.07216878364870323)), (605, np.float64(0.0)), (606, np.float64(0.029061909685954818)), (607, np.float64(0.06293860187225167)), (608, np.float64(0.032826608214930636)), (609, np.float64(0.05103103630798288)), (610, np.float64(0.06324555320336758)), (611, np.float64(0.07576144084141578)), (612, np.float64(0.04642383454426296)), (613, np.float64(0.07715167498104596)), (614, np.float64(0.0)), (615, np.float64(0.06681531047810609)), (616, np.float64(0.03768891807222045)), (617, np.float64(0.027277236279499045)), (618, np.float64(0.04811252243246881)), (619, np.float64(0.0)), (620, np.float64(0.03768891807222045)), (621, np.float64(0.035355339059327376)), (622, np.float64(0.04602873089491617)), (623, np.float64(0.024514516892273002)), (624, np.float64(0.036860489038724284)), (625, np.float64(0.0)), (626, np.float64(0.059761430466719674)), (627, np.float64(0.07905694150420947)), (628, np.float64(0.0)), (629, np.float64(0.07905694150420949)), (630, np.float64(0.0)), (631, np.float64(0.027607881518711633)), (632, np.float64(0.05590169943749474)), (633, np.float64(0.04856429311786321)), (634, np.float64(0.053916386601719206)), (635, np.float64(0.0)), (636, np.float64(0.05103103630798288)), (637, np.float64(0.0)), (638, np.float64(0.0)), (639, np.float64(0.0)), (640, np.float64(0.06527912098338667)), (641, np.float64(0.0)), (642, np.float64(0.031750031750047626)), (643, np.float64(0.05455447255899809)), (644, np.float64(0.05455447255899809)), (645, np.float64(0.07216878364870322)), (646, np.float64(0.0)), (647, np.float64(0.0)), (648, np.float64(0.0)), (649, np.float64(0.0)), (650, np.float64(0.0)), (651, np.float64(0.0)), (652, np.float64(0.023414645289542346)), (653, np.float64(0.07905694150420947)), (654, np.float64(0.11316968255314816)), (655, np.float64(0.026064301757134343)), (656, np.float64(0.0)), (657, np.float64(0.0753778361444409)), (658, np.float64(0.026352313834736494)), (659, np.float64(0.0828236445561349)), (660, np.float64(0.06804138174397717)), (661, np.float64(0.045267873021259265)), (662, np.float64(0.0)), (663, np.float64(0.031249999999999993)), (664, np.float64(0.06565321642986127)), (665, np.float64(0.07426106572325056)), (666, np.float64(0.0)), (667, np.float64(0.031249999999999993)), (668, np.float64(0.036860489038724284)), (669, np.float64(0.03857583749052298)), (670, np.float64(0.01906232129157558)), (671, np.float64(0.024753688574416854)), (672, np.float64(0.030772872744833184)), (673, np.float64(0.06527912098338667)), (674, np.float64(0.025785531156469834)), (675, np.float64(0.024514516892273002)), (676, np.float64(0.031249999999999993)), (677, np.float64(0.10910894511799618)), (678, np.float64(0.09525009525014289)), (679, np.float64(0.0206901472150592)), (680, np.float64(0.08183170883849714)), (681, np.float64(0.0)), (682, np.float64(0.0)), (683, np.float64(0.10540925533894598)), (684, np.float64(0.035355339059327376)), (685, np.float64(0.035355339059327376)), (686, np.float64(0.0)), (687, np.float64(0.11624763874381927)), (688, np.float64(0.0)), (689, np.float64(0.027607881518711633)), (690, np.float64(0.05455447255899809)), (691, np.float64(0.06454972243679027)), (692, np.float64(0.0)), (693, np.float64(0.036860489038724284)), (694, np.float64(0.07150969419341942)), (695, np.float64(0.14433756729740646)), (696, np.float64(0.09365858115816939)), (697, np.float64(0.0)), (698, np.float64(0.1417366773784602)), (699, np.float64(0.0)), (700, np.float64(0.062499999999999986)), (701, np.float64(0.031249999999999993)), (702, np.float64(0.073543550676819)), (703, np.float64(0.0)), (704, np.float64(0.024753688574416854)), (705, np.float64(0.0)), (706, np.float64(0.0236227795630767)), (707, np.float64(0.0)), (708, np.float64(0.10783277320343841)), (709, np.float64(0.0)), (710, np.float64(0.0)), (711, np.float64(0.11470786693528087)), (712, np.float64(0.026352313834736494)), (713, np.float64(0.0)), (714, np.float64(0.057353933467640436)), (715, np.float64(0.07216878364870323)), (716, np.float64(0.029462782549439476)), (717, np.float64(0.04767312946227961)), (718, np.float64(0.049029033784546004)), (719, np.float64(0.0)), (720, np.float64(0.0)), (721, np.float64(0.10606601717798213)), (722, np.float64(0.0)), (723, np.float64(0.026650089544451302)), (724, np.float64(0.10314212462587934)), (725, np.float64(0.0)), (726, np.float64(0.032826608214930636)), (727, np.float64(0.033557802760701215)), (728, np.float64(0.026352313834736494)), (729, np.float64(0.0)), (730, np.float64(0.03296902366978935)), (731, np.float64(0.08492077756084468)), (732, np.float64(0.04950737714883371)), (733, np.float64(0.022271770159368695)), (734, np.float64(0.04856429311786321)), (735, np.float64(0.07284643967679481)), (736, np.float64(0.03227486121839514)), (737, np.float64(0.05590169943749474)), (738, np.float64(0.0)), (739, np.float64(0.08333333333333333)), (740, np.float64(0.0472455591261534)), (741, np.float64(0.09095085938862485)), (742, np.float64(0.032826608214930636)), (743, np.float64(0.0)), (744, np.float64(0.035355339059327376)), (745, np.float64(0.06350006350009525)), (746, np.float64(0.07024393586862704)), (747, np.float64(0.06431196942844081)), (748, np.float64(0.039528470752104736)), (749, np.float64(0.0)), (750, np.float64(0.09284766908852592)), (751, np.float64(0.10400628679223047)), (752, np.float64(0.0)), (753, np.float64(0.11952286093343935)), (754, np.float64(0.027277236279499045)), (755, np.float64(0.0827605888602368)), (756, np.float64(0.031249999999999993)), (757, np.float64(0.05270462766947299)), (758, np.float64(0.07426106572325056)), (759, np.float64(0.025253813613805264)), (760, np.float64(0.029061909685954818)), (761, np.float64(0.06154574548966637)), (762, np.float64(0.06454972243679027)), (763, np.float64(0.0)), (764, np.float64(0.0)), (765, np.float64(0.0)), (766, np.float64(0.0)), (767, np.float64(0.07654655446197431)), (768, np.float64(0.022097086912079608)), (769, np.float64(0.034020690871988585)), (770, np.float64(0.023414645289542346)), (771, np.float64(0.0)), (772, np.float64(0.0)), (773, np.float64(0.10400628679223047)), (774, np.float64(0.042874646285627205)), (775, np.float64(0.031249999999999993)), (776, np.float64(0.042874646285627205)), (777, np.float64(0.07284643967679481)), (778, np.float64(0.025253813613805264)), (779, np.float64(0.026650089544451302)), (780, np.float64(0.0)), (781, np.float64(0.09847982464479191)), (782, np.float64(0.07576144084141578)), (783, np.float64(0.10606601717798213)), (784, np.float64(0.052128603514268686)), (785, np.float64(0.020145574100634504)), (786, np.float64(0.05892556509887895)), (787, np.float64(0.059761430466719674)), (788, np.float64(0.07654655446197431)), (789, np.float64(0.0)), (790, np.float64(0.019641855032959652)), (791, np.float64(0.06933752452815364)), (792, np.float64(0.05521576303742327)), (793, np.float64(0.0)), (794, np.float64(0.09525009525014289)), (795, np.float64(0.0)), (796, np.float64(0.0)), (797, np.float64(0.0)), (798, np.float64(0.0)), (799, np.float64(0.060048057676907664)), (800, np.float64(0.08111071056538126)), (801, np.float64(0.0)), (802, np.float64(0.0)), (803, np.float64(0.025785531156469834)), (804, np.float64(0.05590169943749474)), (805, np.float64(0.029462782549439476)), (806, np.float64(0.0)), (807, np.float64(0.058123819371909635)), (808, np.float64(0.12166606584807188)), (809, np.float64(0.021128856368212913)), (810, np.float64(0.0)), (811, np.float64(0.0)), (812, np.float64(0.044194173824159216)), (813, np.float64(0.05050762722761053)), (814, np.float64(0.0)), (815, np.float64(0.0)), (816, np.float64(0.026064301757134343)), (817, np.float64(0.0)), (818, np.float64(0.026650089544451302)), (819, np.float64(0.0)), (820, np.float64(0.0)), (821, np.float64(0.05200314339611523)), (822, np.float64(0.0)), (823, np.float64(0.026064301757134343)), (824, np.float64(0.02054987341316966)), (825, np.float64(0.0)), (826, np.float64(0.032826608214930636)), (827, np.float64(0.0)), (828, np.float64(0.05590169943749474)), (829, np.float64(0.0)), (830, np.float64(0.05892556509887895)), (831, np.float64(0.10314212462587934)), (832, np.float64(0.0)), (833, np.float64(0.07905694150420949)), (834, np.float64(0.05103103630798288)), (835, np.float64(0.0)), (836, np.float64(0.04490132550669372)), (837, np.float64(0.030316953129541614)), (838, np.float64(0.04195906791483445)), (839, np.float64(0.0)), (840, np.float64(0.09231861823449955)), (841, np.float64(0.02551551815399144)), (842, np.float64(0.02192645048267573)), (843, np.float64(0.0)), (844, np.float64(0.08492077756084468)), (845, np.float64(0.0)), (846, np.float64(0.0)), (847, np.float64(0.0)), (848, np.float64(0.04029114820126901)), (849, np.float64(0.02795084971874737)), (850, np.float64(0.041666666666666664)), (851, np.float64(0.0)), (852, np.float64(0.0)), (853, np.float64(0.0)), (854, np.float64(0.058123819371909635)), (855, np.float64(0.026650089544451302)), (856, np.float64(0.052128603514268686)), (857, np.float64(0.0)), (858, np.float64(0.07905694150420947)), (859, np.float64(0.11952286093343935)), (860, np.float64(0.03768891807222045)), (861, np.float64(0.0)), (862, np.float64(0.0)), (863, np.float64(0.03340765523905304)), (864, np.float64(0.020979533957417223)), (865, np.float64(0.042874646285627205)), (866, np.float64(0.08838834764831843)), (867, np.float64(0.027607881518711633)), (868, np.float64(0.0)), (869, np.float64(0.0)), (870, np.float64(0.07819290527140303)), (871, np.float64(0.026958193300859603)), (872, np.float64(0.07819290527140303)), (873, np.float64(0.06846531968814575)), (874, np.float64(0.02795084971874737)), (875, np.float64(0.0)), (876, np.float64(0.032826608214930636)), (877, np.float64(0.034020690871988585)), (878, np.float64(0.035355339059327376)), (879, np.float64(0.02830692585361489)), (880, np.float64(0.03466876226407682)), (881, np.float64(0.0)), (882, np.float64(0.0)), (883, np.float64(0.027607881518711633)), (884, np.float64(0.0)), (885, np.float64(0.026958193300859603)), (886, np.float64(0.0)), (887, np.float64(0.0)), (888, np.float64(0.05157106231293967)), (889, np.float64(0.08794969309128647)), (890, np.float64(0.0)), (891, np.float64(0.0)), (892, np.float64(0.044194173824159216)), (893, np.float64(0.03646624787447363)), (894, np.float64(0.030772872744833184)), (895, np.float64(0.0)), (896, np.float64(0.0)), (897, np.float64(0.0)), (898, np.float64(0.026958193300859603)), (899, np.float64(0.029061909685954818)), (900, np.float64(0.026064301757134343)), (901, np.float64(0.08838834764831843)), (902, np.float64(0.0)), (903, np.float64(0.0)), (904, np.float64(0.0)), (905, np.float64(0.0)), (906, np.float64(0.0)), (907, np.float64(0.0)), (908, np.float64(0.053300179088902604)), (909, np.float64(0.0)), (910, np.float64(0.0)), (911, np.float64(0.05157106231293967)), (912, np.float64(0.0)), (913, np.float64(0.0)), (914, np.float64(0.08111071056538126)), (915, np.float64(0.029061909685954818)), (916, np.float64(0.03768891807222045)), (917, np.float64(0.0)), (918, np.float64(0.025253813613805264)), (919, np.float64(0.0472455591261534)), (920, np.float64(0.06804138174397717)), (921, np.float64(0.0)), (922, np.float64(0.05661385170722978)), (923, np.float64(0.024999999999999998)), (924, np.float64(0.07905694150420947)), (925, np.float64(0.0)), (926, np.float64(0.0)), (927, np.float64(0.0)), (928, np.float64(0.032826608214930636)), (929, np.float64(0.02830692585361489)), (930, np.float64(0.07905694150420949)), (931, np.float64(0.06350006350009525)), (932, np.float64(0.052128603514268686)), (933, np.float64(0.052128603514268686)), (934, np.float64(0.03227486121839514)), (935, np.float64(0.036860489038724284)), (936, np.float64(0.03466876226407682)), (937, np.float64(0.05521576303742327)), (938, np.float64(0.0)), (939, np.float64(0.1366520416525303)), (940, np.float64(0.024056261216234404)), (941, np.float64(0.06565321642986127)), (942, np.float64(0.052128603514268686)), (943, np.float64(0.0)), (944, np.float64(0.07905694150420949)), (945, np.float64(0.03340765523905304)), (946, np.float64(0.0)), (947, np.float64(0.0)), (948, np.float64(0.025253813613805264)), (949, np.float64(0.06527912098338667)), (950, np.float64(0.06083303292403594)), (951, np.float64(0.03466876226407682)), (952, np.float64(0.11043152607484653)), (953, np.float64(0.024753688574416854)), (954, np.float64(0.0)), (955, np.float64(0.057353933467640436)), (956, np.float64(0.05455447255899809)), (957, np.float64(0.0)), (958, np.float64(0.0799502686333539)), (959, np.float64(0.027607881518711633)), (960, np.float64(0.09525009525014289)), (961, np.float64(0.027277236279499045)), (962, np.float64(0.0)), (963, np.float64(0.0679018095318889)), (964, np.float64(0.028676966733820218)), (965, np.float64(0.057353933467640436)), (966, np.float64(0.0)), (967, np.float64(0.0)), (968, np.float64(0.0799502686333539)), (969, np.float64(0.06293860187225167)), (970, np.float64(0.032826608214930636)), (971, np.float64(0.0)), (972, np.float64(0.16413304107465318)), (973, np.float64(0.15386436372416593)), (974, np.float64(0.062499999999999986)), (975, np.float64(0.06154574548966637)), (976, np.float64(0.06350006350009525)), (977, np.float64(0.052128603514268686)), (978, np.float64(0.03340765523905304)), (979, np.float64(0.049029033784546004)), (980, np.float64(0.045267873021259265)), (981, np.float64(0.031750031750047626)), (982, np.float64(0.031750031750047626)), (983, np.float64(0.07035975447302918)), (984, np.float64(0.026064301757134343)), (985, np.float64(0.08964214570007951)), (986, np.float64(0.10910894511799618)), (987, np.float64(0.0)), (988, np.float64(0.026352313834736494)), (989, np.float64(0.036084391824351615)), (990, np.float64(0.045267873021259265)), (991, np.float64(0.06565321642986127)), (992, np.float64(0.02551551815399144)), (993, np.float64(0.08111071056538126)), (994, np.float64(0.030316953129541614)), (995, np.float64(0.024753688574416854)), (996, np.float64(0.0)), (997, np.float64(0.02551551815399144)), (998, np.float64(0.039528470752104736)), (999, np.float64(0.06454972243679027)), (1000, np.float64(0.021759706994462225)), (1001, np.float64(0.07576144084141578)), (1002, np.float64(0.13130643285972254)), (1003, np.float64(0.041666666666666664)), (1004, np.float64(0.057353933467640436)), (1005, np.float64(0.0)), (1006, np.float64(0.02128141326896871)), (1007, np.float64(0.05455447255899809)), (1008, np.float64(0.041666666666666664)), (1009, np.float64(0.04682929057908469)), (1010, np.float64(0.029880715233359837)), (1011, np.float64(0.026958193300859603)), (1012, np.float64(0.0)), (1013, np.float64(0.08492077756084468)), (1014, np.float64(0.06454972243679027)), (1015, np.float64(0.024282146558931603)), (1016, np.float64(0.0)), (1017, np.float64(0.023414645289542346)), (1018, np.float64(0.0)), (1019, np.float64(0.041666666666666664)), (1020, np.float64(0.024056261216234404)), (1021, np.float64(0.026352313834736494)), (1022, np.float64(0.030772872744833184)), (1023, np.float64(0.0)), (1024, np.float64(0.08111071056538126)), (1025, np.float64(0.12909944487358055)), (1026, np.float64(0.042874646285627205)), (1027, np.float64(0.0)), (1028, np.float64(0.06735198826004059)), (1029, np.float64(0.059761430466719674)), (1030, np.float64(0.0)), (1031, np.float64(0.0)), (1032, np.float64(0.0)), (1033, np.float64(0.0)), (1034, np.float64(0.02795084971874737)), (1035, np.float64(0.05455447255899809)), (1036, np.float64(0.024999999999999998)), (1037, np.float64(0.0)), (1038, np.float64(0.0)), (1039, np.float64(0.08838834764831843)), (1040, np.float64(0.0)), (1041, np.float64(0.0)), (1042, np.float64(0.06933752452815364)), (1043, np.float64(0.0)), (1044, np.float64(0.05521576303742327)), (1045, np.float64(0.06454972243679027)), (1046, np.float64(0.0)), (1047, np.float64(0.06804138174397717)), (1048, np.float64(0.022271770159368695)), (1049, np.float64(0.0)), (1050, np.float64(0.06681531047810609)), (1051, np.float64(0.0)), (1052, np.float64(0.031750031750047626)), (1053, np.float64(0.07216878364870323)), (1054, np.float64(0.0)), (1055, np.float64(0.03466876226407682)), (1056, np.float64(0.0)), (1057, np.float64(0.03812464258315116)), (1058, np.float64(0.0)), (1059, np.float64(0.07819290527140303)), (1060, np.float64(0.03768891807222045)), (1061, np.float64(0.0)), (1062, np.float64(0.0)), (1063, np.float64(0.030316953129541614)), (1064, np.float64(0.0)), (1065, np.float64(0.02551551815399144)), (1066, np.float64(0.0)), (1067, np.float64(0.0)), (1068, np.float64(0.0)), (1069, np.float64(0.05590169943749474)), (1070, np.float64(0.0)), (1071, np.float64(0.03227486121839514)), (1072, np.float64(0.0)), (1073, np.float64(0.05103103630798288)), (1074, np.float64(0.10400628679223047)), (1075, np.float64(0.07216878364870323)), (1076, np.float64(0.041666666666666664)), (1077, np.float64(0.09682458365518541)), (1078, np.float64(0.1433848336691011)), (1079, np.float64(0.04950737714883371)), (1080, np.float64(0.05590169943749474)), (1081, np.float64(0.026958193300859603)), (1082, np.float64(0.030772872744833184)), (1083, np.float64(0.14433756729740646)), (1084, np.float64(0.11180339887498948)), (1085, np.float64(0.16839382851364085)), (1086, np.float64(0.0)), (1087, np.float64(0.040032038451271776)), (1088, np.float64(0.035355339059327376)), (1089, np.float64(0.0)), (1090, np.float64(0.09847982464479191)), (1091, np.float64(0.023014365447458086)), (1092, np.float64(0.027277236279499045)), (1093, np.float64(0.04856429311786321)), (1094, np.float64(0.10206207261596575)), (1095, np.float64(0.0)), (1096, np.float64(0.025253813613805264)), (1097, np.float64(0.04256282653793742)), (1098, np.float64(0.032826608214930636)), (1099, np.float64(0.0)), (1100, np.float64(0.023836564731139806)), (1101, np.float64(0.17817416127494956)), (1102, np.float64(0.08333333333333333)), (1103, np.float64(0.0)), (1104, np.float64(0.07856742013183861)), (1105, np.float64(0.03340765523905304)), (1106, np.float64(0.027607881518711633)), (1107, np.float64(0.0799502686333539)), (1108, np.float64(0.024999999999999998)), (1109, np.float64(0.018042195912175808)), (1110, np.float64(0.07216878364870322)), (1111, np.float64(0.08492077756084468)), (1112, np.float64(0.0)), (1113, np.float64(0.023414645289542346)), (1114, np.float64(0.0)), (1115, np.float64(0.04811252243246881)), (1116, np.float64(0.0)), (1117, np.float64(0.01833088937766916)), (1118, np.float64(0.033259505261886965)), (1119, np.float64(0.04811252243246881)), (1120, np.float64(0.06846531968814575)), (1121, np.float64(0.0)), (1122, np.float64(0.0)), (1123, np.float64(0.0)), (1124, np.float64(0.0)), (1125, np.float64(0.07426106572325056)), (1126, np.float64(0.0)), (1127, np.float64(0.0)), (1128, np.float64(0.06384423980690614)), (1129, np.float64(0.0)), (1130, np.float64(0.02795084971874737)), (1131, np.float64(0.0)), (1132, np.float64(0.22592402852876595)), (1133, np.float64(0.0)), (1134, np.float64(0.033864273073929814)), (1135, np.float64(0.031750031750047626)), (1136, np.float64(0.029880715233359837)), (1137, np.float64(0.08333333333333333)), (1138, np.float64(0.07654655446197431)), (1139, np.float64(0.031750031750047626)), (1140, np.float64(0.09231861823449955)), (1141, np.float64(0.044348429699181194)), (1142, np.float64(0.0)), (1143, np.float64(0.025785531156469834)), (1144, np.float64(0.05050762722761053)), (1145, np.float64(0.03340765523905304)), (1146, np.float64(0.0)), (1147, np.float64(0.058123819371909635)), (1148, np.float64(0.05892556509887895)), (1149, np.float64(0.0)), (1150, np.float64(0.07372097807744857)), (1151, np.float64(0.03857583749052298)), (1152, np.float64(0.10825317547305485)), (1153, np.float64(0.07024393586862704)), (1154, np.float64(0.035355339059327376)), (1155, np.float64(0.024753688574416854)), (1156, np.float64(0.06804138174397717)), (1157, np.float64(0.02795084971874737)), (1158, np.float64(0.029880715233359837)), (1159, np.float64(0.028676966733820218)), (1160, np.float64(0.0)), (1161, np.float64(0.0)), (1162, np.float64(0.0)), (1163, np.float64(0.0)), (1164, np.float64(0.07715167498104596)), (1165, np.float64(0.031249999999999993)), (1166, np.float64(0.052128603514268686)), (1167, np.float64(0.0)), (1168, np.float64(0.0)), (1169, np.float64(0.0)), (1170, np.float64(0.0)), (1171, np.float64(0.0206901472150592)), (1172, np.float64(0.039528470752104736)), (1173, np.float64(0.023836564731139806)), (1174, np.float64(0.0)), (1175, np.float64(0.062499999999999986)), (1176, np.float64(0.11470786693528087)), (1177, np.float64(0.0)), (1178, np.float64(0.05521576303742327)), (1179, np.float64(0.06454972243679027)), (1180, np.float64(0.0)), (1181, np.float64(0.0)), (1182, np.float64(0.0)), (1183, np.float64(0.057353933467640436)), (1184, np.float64(0.04682929057908469)), (1185, np.float64(0.0)), (1186, np.float64(0.0)), (1187, np.float64(0.0)), (1188, np.float64(0.061237243569579436)), (1189, np.float64(0.045267873021259265)), (1190, np.float64(0.0)), (1191, np.float64(0.0)), (1192, np.float64(0.14744195615489714)), (1193, np.float64(0.08492077756084468)), (1194, np.float64(0.059761430466719674)), (1195, np.float64(0.039528470752104736)), (1196, np.float64(0.027277236279499045)), (1197, np.float64(0.08838834764831843)), (1198, np.float64(0.035355339059327376)), (1199, np.float64(0.03466876226407682)), (1200, np.float64(0.045267873021259265)), (1201, np.float64(0.171601618245911)), (1202, np.float64(0.0799502686333539)), (1203, np.float64(0.07819290527140303)), (1204, np.float64(0.0)), (1205, np.float64(0.0)), (1206, np.float64(0.05661385170722978)), (1207, np.float64(0.0)), (1208, np.float64(0.0)), (1209, np.float64(0.0)), (1210, np.float64(0.029061909685954818)), (1211, np.float64(0.026064301757134343)), (1212, np.float64(0.0)), (1213, np.float64(0.042257712736425826)), (1214, np.float64(0.0625)), (1215, np.float64(0.0)), (1216, np.float64(0.0)), (1217, np.float64(0.0)), (1218, np.float64(0.075)), (1219, np.float64(0.0)), (1220, np.float64(0.0)), (1221, np.float64(0.05157106231293967)), (1222, np.float64(0.0)), (1223, np.float64(0.0)), (1224, np.float64(0.07372097807744857)), (1225, np.float64(0.024282146558931603)), (1226, np.float64(0.03857583749052298)), (1227, np.float64(0.0)), (1228, np.float64(0.0)), (1229, np.float64(0.0)), (1230, np.float64(0.0)), (1231, np.float64(0.04950737714883371)), (1232, np.float64(0.02830692585361489)), (1233, np.float64(0.0)), (1234, np.float64(0.03768891807222045)), (1235, np.float64(0.1453095484297741)), (1236, np.float64(0.0)), (1237, np.float64(0.024514516892273002)), (1238, np.float64(0.03857583749052298)), (1239, np.float64(0.0)), (1240, np.float64(0.062499999999999986)), (1241, np.float64(0.0)), (1242, np.float64(0.0)), (1243, np.float64(0.026064301757134343)), (1244, np.float64(0.042874646285627205)), (1245, np.float64(0.0)), (1246, np.float64(0.053916386601719206)), (1247, np.float64(0.0)), (1248, np.float64(0.09712858623572641)), (1249, np.float64(0.0)), (1250, np.float64(0.02054987341316966)), (1251, np.float64(0.0)), (1252, np.float64(0.0)), (1253, np.float64(0.0)), (1254, np.float64(0.04633515474114116)), (1255, np.float64(0.0472455591261534)), (1256, np.float64(0.0)), (1257, np.float64(0.09525009525014289)), (1258, np.float64(0.027607881518711633)), (1259, np.float64(0.03227486121839514)), (1260, np.float64(0.0)), (1261, np.float64(0.0)), (1262, np.float64(0.0)), (1263, np.float64(0.023414645289542346)), (1264, np.float64(0.027277236279499045)), (1265, np.float64(0.0)), (1266, np.float64(0.0)), (1267, np.float64(0.05892556509887895)), (1268, np.float64(0.044194173824159216)), (1269, np.float64(0.0)), (1270, np.float64(0.05103103630798288)), (1271, np.float64(0.0773565934694095)), (1272, np.float64(0.032826608214930636)), (1273, np.float64(0.06681531047810609)), (1274, np.float64(0.10206207261596575)), (1275, np.float64(0.0236227795630767)), (1276, np.float64(0.0)), (1277, np.float64(0.0)), (1278, np.float64(0.036084391824351615)), (1279, np.float64(0.06904309634237427)), (1280, np.float64(0.06293860187225167)), (1281, np.float64(0.020412414523193145)), (1282, np.float64(0.12166606584807188)), (1283, np.float64(0.075)), (1284, np.float64(0.0)), (1285, np.float64(0.06063390625908323)), (1286, np.float64(0.041666666666666664)), (1287, np.float64(0.02795084971874737)), (1288, np.float64(0.05521576303742327)), (1289, np.float64(0.036860489038724284)), (1290, np.float64(0.036860489038724284)), (1291, np.float64(0.05455447255899809)), (1292, np.float64(0.027607881518711633)), (1293, np.float64(0.0)), (1294, np.float64(0.0)), (1295, np.float64(0.10540925533894598)), (1296, np.float64(0.0)), (1297, np.float64(0.0799502686333539)), (1298, np.float64(0.0)), (1299, np.float64(0.09374999999999997)), (1300, np.float64(0.05590169943749474)), (1301, np.float64(0.0)), (1302, np.float64(0.0)), (1303, np.float64(0.11507182723729042)), (1304, np.float64(0.06565321642986127)), (1305, np.float64(0.0236227795630767)), (1306, np.float64(0.04055535528269063)), (1307, np.float64(0.05718696387472674)), (1308, np.float64(0.0)), (1309, np.float64(0.0)), (1310, np.float64(0.032826608214930636)), (1311, np.float64(0.03227486121839514)), (1312, np.float64(0.0)), (1313, np.float64(0.04490132550669372)), (1314, np.float64(0.0)), (1315, np.float64(0.04767312946227961)), (1316, np.float64(0.0)), (1317, np.float64(0.026352313834736494)), (1318, np.float64(0.036860489038724284)), (1319, np.float64(0.0)), (1320, np.float64(0.020979533957417223)), (1321, np.float64(0.08111071056538126)), (1322, np.float64(0.06063390625908323)), (1323, np.float64(0.058123819371909635)), (1324, np.float64(0.0)), (1325, np.float64(0.0753778361444409)), (1326, np.float64(0.0)), (1327, np.float64(0.06681531047810609)), (1328, np.float64(0.0)), (1329, np.float64(0.04682929057908469)), (1330, np.float64(0.022633936510629633)), (1331, np.float64(0.0)), (1332, np.float64(0.031249999999999993)), (1333, np.float64(0.036084391824351615)), (1334, np.float64(0.0)), (1335, np.float64(0.039528470752104736)), (1336, np.float64(0.03340765523905304)), (1337, np.float64(0.0)), (1338, np.float64(0.05103103630798288)), (1339, np.float64(0.02830692585361489)), (1340, np.float64(0.052128603514268686)), (1341, np.float64(0.036860489038724284)), (1342, np.float64(0.05455447255899809)), (1343, np.float64(0.055290733558086426)), (1344, np.float64(0.32639560491693337)), (1345, np.float64(0.03340765523905304)), (1346, np.float64(0.0)), (1347, np.float64(0.0)), (1348, np.float64(0.03857583749052298)), (1349, np.float64(0.030316953129541614)), (1350, np.float64(0.0)), (1351, np.float64(0.0)), (1352, np.float64(0.030316953129541614)), (1353, np.float64(0.0)), (1354, np.float64(0.0)), (1355, np.float64(0.0)), (1356, np.float64(0.0)), (1357, np.float64(0.0)), (1358, np.float64(0.08574929257125441)), (1359, np.float64(0.06527912098338667)), (1360, np.float64(0.05892556509887895)), (1361, np.float64(0.062499999999999986)), (1362, np.float64(0.08908708063747478)), (1363, np.float64(0.10660035817780521)), (1364, np.float64(0.0)), (1365, np.float64(0.13638618139749523)), (1366, np.float64(0.032826608214930636)), (1367, np.float64(0.04109974682633932)), (1368, np.float64(0.0)), (1369, np.float64(0.036084391824351615)), (1370, np.float64(0.03768891807222045)), (1371, np.float64(0.02321191727213148)), (1372, np.float64(0.042874646285627205)), (1373, np.float64(0.0)), (1374, np.float64(0.0)), (1375, np.float64(0.045267873021259265)), (1376, np.float64(0.11043152607484653)), (1377, np.float64(0.036084391824351615)), (1378, np.float64(0.0)), (1379, np.float64(0.027607881518711633)), (1380, np.float64(0.0)), (1381, np.float64(0.0)), (1382, np.float64(0.05661385170722978)), (1383, np.float64(0.0)), (1384, np.float64(0.028676966733820218)), (1385, np.float64(0.0)), (1386, np.float64(0.0)), (1387, np.float64(0.06804138174397717)), (1388, np.float64(0.0)), (1389, np.float64(0.0)), (1390, np.float64(0.0)), (1391, np.float64(0.0206901472150592)), (1392, np.float64(0.11225331376673431)), (1393, np.float64(0.0)), (1394, np.float64(0.0)), (1395, np.float64(0.0)), (1396, np.float64(0.036084391824351615)), (1397, np.float64(0.10660035817780521)), (1398, np.float64(0.0)), (1399, np.float64(0.035355339059327376)), (1400, np.float64(0.031750031750047626)), (1401, np.float64(0.04385290096535146)), (1402, np.float64(0.0)), (1403, np.float64(0.05621487667468961)), (1404, np.float64(0.032826608214930636)), (1405, np.float64(0.0)), (1406, np.float64(0.07715167498104596)), (1407, np.float64(0.026650089544451302)), (1408, np.float64(0.0)), (1409, np.float64(0.0)), (1410, np.float64(0.0)), (1411, np.float64(0.06350006350009525)), (1412, np.float64(0.02830692585361489)), (1413, np.float64(0.0)), (1414, np.float64(0.07426106572325056)), (1415, np.float64(0.021759706994462225)), (1416, np.float64(0.0)), (1417, np.float64(0.0)), (1418, np.float64(0.0)), (1419, np.float64(0.06933752452815364)), (1420, np.float64(0.041666666666666664)), (1421, np.float64(0.10022296571715913)), (1422, np.float64(0.0)), (1423, np.float64(0.06350006350009525)), (1424, np.float64(0.0)), (1425, np.float64(0.017503501050350125)), (1426, np.float64(0.031249999999999993)), (1427, np.float64(0.09374999999999997)), (1428, np.float64(0.09622504486493762)), (1429, np.float64(0.024514516892273002)), (1430, np.float64(0.03340765523905304)), (1431, np.float64(0.073543550676819)), (1432, np.float64(0.0)), (1433, np.float64(0.08574929257125441)), (1434, np.float64(0.07071067811865475)), (1435, np.float64(0.06577935144802718)), (1436, np.float64(0.06350006350009525)), (1437, np.float64(0.0)), (1438, np.float64(0.0)), (1439, np.float64(0.029462782549439476)), (1440, np.float64(0.08838834764831843)), (1441, np.float64(0.12257258446136501)), (1442, np.float64(0.07576144084141578)), (1443, np.float64(0.0)), (1444, np.float64(0.03227486121839514)), (1445, np.float64(0.058123819371909635)), (1446, np.float64(0.0)), (1447, np.float64(0.05590169943749474)), (1448, np.float64(0.0)), (1449, np.float64(0.06063390625908323)), (1450, np.float64(0.08603090020146065)), (1451, np.float64(0.04490132550669372)), (1452, np.float64(0.07856742013183861)), (1453, np.float64(0.02551551815399144)), (1454, np.float64(0.036860489038724284)), (1455, np.float64(0.023414645289542346)), (1456, np.float64(0.0)), (1457, np.float64(0.0)), (1458, np.float64(0.06904309634237427)), (1459, np.float64(0.11507182723729042)), (1460, np.float64(0.08574929257125441)), (1461, np.float64(0.030772872744833184)), (1462, np.float64(0.036860489038724284)), (1463, np.float64(0.026064301757134343)), (1464, np.float64(0.0)), (1465, np.float64(0.06565321642986127)), (1466, np.float64(0.05103103630798288)), (1467, np.float64(0.0799502686333539)), (1468, np.float64(0.0)), (1469, np.float64(0.0)), (1470, np.float64(0.034020690871988585)), (1471, np.float64(0.02795084971874737)), (1472, np.float64(0.07715167498104596)), (1473, np.float64(0.03812464258315116)), (1474, np.float64(0.041666666666666664)), (1475, np.float64(0.0)), (1476, np.float64(0.032826608214930636)), (1477, np.float64(0.0)), (1478, np.float64(0.0)), (1479, np.float64(0.0)), (1480, np.float64(0.02830692585361489)), (1481, np.float64(0.08718572905786445)), (1482, np.float64(0.07071067811865475)), (1483, np.float64(0.020016019225635888)), (1484, np.float64(0.03857583749052298)), (1485, np.float64(0.0)), (1486, np.float64(0.062499999999999986)), (1487, np.float64(0.01279111275241627)), (1488, np.float64(0.06454972243679027)), (1489, np.float64(0.0)), (1490, np.float64(0.07216878364870323)), (1491, np.float64(0.0)), (1492, np.float64(0.06904309634237427)), (1493, np.float64(0.04195906791483445)), (1494, np.float64(0.05103103630798288)), (1495, np.float64(0.0)), (1496, np.float64(0.0)), (1497, np.float64(0.0)), (1498, np.float64(0.041666666666666664)), (1499, np.float64(0.043193421279068)), (1500, np.float64(0.0)), (1501, np.float64(0.0)), (1502, np.float64(0.029061909685954818)), (1503, np.float64(0.053300179088902604)), (1504, np.float64(0.0)), (1505, np.float64(0.044194173824159216)), (1506, np.float64(0.0679018095318889)), (1507, np.float64(0.0828236445561349)), (1508, np.float64(0.024282146558931603)), (1509, np.float64(0.11952286093343935)), (1510, np.float64(0.027607881518711633)), (1511, np.float64(0.031750031750047626)), (1512, np.float64(0.023014365447458086)), (1513, np.float64(0.0)), (1514, np.float64(0.02795084971874737)), (1515, np.float64(0.05892556509887895)), (1516, np.float64(0.03768891807222045)), (1517, np.float64(0.04055535528269063)), (1518, np.float64(0.0)), (1519, np.float64(0.0828236445561349)), (1520, np.float64(0.039528470752104736)), (1521, np.float64(0.0)), (1522, np.float64(0.0)), (1523, np.float64(0.0)), (1524, np.float64(0.042874646285627205)), (1525, np.float64(0.04029114820126901)), (1526, np.float64(0.0472455591261534)), (1527, np.float64(0.0)), (1528, np.float64(0.0)), (1529, np.float64(0.0)), (1530, np.float64(0.021759706994462225)), (1531, np.float64(0.028676966733820218)), (1532, np.float64(0.021128856368212913)), (1533, np.float64(0.12626906806902632)), (1534, np.float64(0.024753688574416854)), (1535, np.float64(0.0)), (1536, np.float64(0.0)), (1537, np.float64(0.07808688094430302)), (1538, np.float64(0.024753688574416854)), (1539, np.float64(0.05821128942797496)), (1540, np.float64(0.07372097807744857)), (1541, np.float64(0.0)), (1542, np.float64(0.0)), (1543, np.float64(0.0)), (1544, np.float64(0.08603090020146065)), (1545, np.float64(0.0)), (1546, np.float64(0.04256282653793742)), (1547, np.float64(0.0)), (1548, np.float64(0.039528470752104736)), (1549, np.float64(0.03768891807222045)), (1550, np.float64(0.022821773229381916)), (1551, np.float64(0.0)), (1552, np.float64(0.06063390625908323)), (1553, np.float64(0.0)), (1554, np.float64(0.0)), (1555, np.float64(0.0472455591261534)), (1556, np.float64(0.0)), (1557, np.float64(0.0)), (1558, np.float64(0.07071067811865475)), (1559, np.float64(0.0)), (1560, np.float64(0.027607881518711633)), (1561, np.float64(0.0)), (1562, np.float64(0.0)), (1563, np.float64(0.0)), (1564, np.float64(0.031750031750047626)), (1565, np.float64(0.0)), (1566, np.float64(0.06454972243679027)), (1567, np.float64(0.0)), (1568, np.float64(0.0)), (1569, np.float64(0.0)), (1570, np.float64(0.10008009612817945)), (1571, np.float64(0.0)), (1572, np.float64(0.0)), (1573, np.float64(0.0)), (1574, np.float64(0.0)), (1575, np.float64(0.06681531047810609)), (1576, np.float64(0.0)), (1577, np.float64(0.0)), (1578, np.float64(0.0)), (1579, np.float64(0.09999999999999999)), (1580, np.float64(0.0)), (1581, np.float64(0.08964214570007951)), (1582, np.float64(0.06454972243679027)), (1583, np.float64(0.042257712736425826)), (1584, np.float64(0.034020690871988585)), (1585, np.float64(0.06154574548966637)), (1586, np.float64(0.0)), (1587, np.float64(0.025785531156469834)), (1588, np.float64(0.125)), (1589, np.float64(0.02192645048267573)), (1590, np.float64(0.035355339059327376)), (1591, np.float64(0.0)), (1592, np.float64(0.06350006350009525)), (1593, np.float64(0.0)), (1594, np.float64(0.04642383454426296)), (1595, np.float64(0.0)), (1596, np.float64(0.0)), (1597, np.float64(0.0)), (1598, np.float64(0.0828236445561349)), (1599, np.float64(0.021596710639534)), (1600, np.float64(0.0)), (1601, np.float64(0.034020690871988585)), (1602, np.float64(0.034020690871988585)), (1603, np.float64(0.0)), (1604, np.float64(0.026958193300859603)), (1605, np.float64(0.0206901472150592)), (1606, np.float64(0.0)), (1607, np.float64(0.035355339059327376)), (1608, np.float64(0.0)), (1609, np.float64(0.08333333333333333)), (1610, np.float64(0.027277236279499045)), (1611, np.float64(0.0)), (1612, np.float64(0.09231861823449955)), (1613, np.float64(0.10206207261596575)), (1614, np.float64(0.0)), (1615, np.float64(0.02551551815399144)), (1616, np.float64(0.0)), (1617, np.float64(0.125)), (1618, np.float64(0.024514516892273002)), (1619, np.float64(0.053300179088902604)), (1620, np.float64(0.03857583749052298)), (1621, np.float64(0.0)), (1622, np.float64(0.0)), (1623, np.float64(0.0)), (1624, np.float64(0.035355339059327376)), (1625, np.float64(0.0)), (1626, np.float64(0.042874646285627205)), (1627, np.float64(0.06454972243679027)), (1628, np.float64(0.05103103630798288)), (1629, np.float64(0.026064301757134343)), (1630, np.float64(0.09165444688834579)), (1631, np.float64(0.031750031750047626)), (1632, np.float64(0.0)), (1633, np.float64(0.0)), (1634, np.float64(0.044194173824159216)), (1635, np.float64(0.023014365447458086)), (1636, np.float64(0.027607881518711633)), (1637, np.float64(0.07808688094430302)), (1638, np.float64(0.053916386601719206)), (1639, np.float64(0.053916386601719206)), (1640, np.float64(0.0)), (1641, np.float64(0.034020690871988585)), (1642, np.float64(0.058123819371909635)), (1643, np.float64(0.044194173824159216)), (1644, np.float64(0.10314212462587934)), (1645, np.float64(0.0)), (1646, np.float64(0.07150969419341942)), (1647, np.float64(0.052128603514268686)), (1648, np.float64(0.018633899812498245)), (1649, np.float64(0.0)), (1650, np.float64(0.0)), (1651, np.float64(0.0)), (1652, np.float64(0.04950737714883371)), (1653, np.float64(0.030316953129541614)), (1654, np.float64(0.06565321642986127)), (1655, np.float64(0.04256282653793742)), (1656, np.float64(0.0)), (1657, np.float64(0.05661385170722978)), (1658, np.float64(0.036084391824351615)), (1659, np.float64(0.0)), (1660, np.float64(0.044194173824159216)), (1661, np.float64(0.042874646285627205)), (1662, np.float64(0.036860489038724284)), (1663, np.float64(0.09231861823449955)), (1664, np.float64(0.03340765523905304)), (1665, np.float64(0.034020690871988585)), (1666, np.float64(0.11572751247156893)), (1667, np.float64(0.0)), (1668, np.float64(0.036860489038724284)), (1669, np.float64(0.08574929257125441)), (1670, np.float64(0.0)), (1671, np.float64(0.017170070493586126)), (1672, np.float64(0.12028130608117202)), (1673, np.float64(0.04856429311786321)), (1674, np.float64(0.05966679631317975)), (1675, np.float64(0.0)), (1676, np.float64(0.036084391824351615)), (1677, np.float64(0.0753778361444409)), (1678, np.float64(0.05892556509887895)), (1679, np.float64(0.0)), (1680, np.float64(0.0)), (1681, np.float64(0.036084391824351615)), (1682, np.float64(0.06804138174397717)), (1683, np.float64(0.017766726362967535)), (1684, np.float64(0.06063390625908323)), (1685, np.float64(0.059292706128157104)), (1686, np.float64(0.0)), (1687, np.float64(0.0)), (1688, np.float64(0.07654655446197431)), (1689, np.float64(0.04351941398892445)), (1690, np.float64(0.025785531156469834)), (1691, np.float64(0.0)), (1692, np.float64(0.0)), (1693, np.float64(0.0)), (1694, np.float64(0.04564354645876383)), (1695, np.float64(0.0)), (1696, np.float64(0.0)), (1697, np.float64(0.05050762722761053)), (1698, np.float64(0.020277677641345315)), (1699, np.float64(0.12499999999999997)), (1700, np.float64(0.024514516892273002)), (1701, np.float64(0.05270462766947299)), (1702, np.float64(0.03768891807222045)), (1703, np.float64(0.03466876226407682)), (1704, np.float64(0.04767312946227961)), (1705, np.float64(0.032826608214930636)), (1706, np.float64(0.0)), (1707, np.float64(0.0)), (1708, np.float64(0.0)), (1709, np.float64(0.03227486121839514)), (1710, np.float64(0.026650089544451302)), (1711, np.float64(0.0)), (1712, np.float64(0.0)), (1713, np.float64(0.0)), (1714, np.float64(0.0)), (1715, np.float64(0.16984155512168936)), (1716, np.float64(0.0)), (1717, np.float64(0.10206207261596575)), (1718, np.float64(0.0)), (1719, np.float64(0.22613350843332267)), (1720, np.float64(0.0)), (1721, np.float64(0.0)), (1722, np.float64(0.06350006350009525)), (1723, np.float64(0.10606601717798213)), (1724, np.float64(0.029880715233359837)), (1725, np.float64(0.025253813613805264)), (1726, np.float64(0.0)), (1727, np.float64(0.0)), (1728, np.float64(0.053300179088902604)), (1729, np.float64(0.06963575181639443)), (1730, np.float64(0.03768891807222045)), (1731, np.float64(0.0)), (1732, np.float64(0.0)), (1733, np.float64(0.0)), (1734, np.float64(0.0)), (1735, np.float64(0.08718572905786445)), (1736, np.float64(0.02795084971874737)), (1737, np.float64(0.022821773229381916)), (1738, np.float64(0.03857583749052298)), (1739, np.float64(0.041666666666666664)), (1740, np.float64(0.031249999999999993)), (1741, np.float64(0.0)), (1742, np.float64(0.08718572905786445)), (1743, np.float64(0.029061909685954818)), (1744, np.float64(0.07284643967679481)), (1745, np.float64(0.2390457218668787)), (1746, np.float64(0.0)), (1747, np.float64(0.09053574604251853)), (1748, np.float64(0.0)), (1749, np.float64(0.027277236279499045)), (1750, np.float64(0.04682929057908469)), (1751, np.float64(0.04811252243246881)), (1752, np.float64(0.06681531047810609)), (1753, np.float64(0.0)), (1754, np.float64(0.08718572905786445)), (1755, np.float64(0.04682929057908469)), (1756, np.float64(0.031750031750047626)), (1757, np.float64(0.0)), (1758, np.float64(0.0)), (1759, np.float64(0.024753688574416854)), (1760, np.float64(0.026064301757134343)), (1761, np.float64(0.026352313834736494)), (1762, np.float64(0.035355339059327376)), (1763, np.float64(0.04682929057908469)), (1764, np.float64(0.030316953129541614)), (1765, np.float64(0.039528470752104736)), (1766, np.float64(0.04055535528269063)), (1767, np.float64(0.05661385170722978)), (1768, np.float64(0.02192645048267573)), (1769, np.float64(0.041666666666666664)), (1770, np.float64(0.0)), (1771, np.float64(0.15006126199969522)), (1772, np.float64(0.0)), (1773, np.float64(0.042874646285627205)), (1774, np.float64(0.0)), (1775, np.float64(0.04055535528269063)), (1776, np.float64(0.0)), (1777, np.float64(0.02245066275334686)), (1778, np.float64(0.0)), (1779, np.float64(0.04811252243246881)), (1780, np.float64(0.0)), (1781, np.float64(0.0)), (1782, np.float64(0.026650089544451302)), (1783, np.float64(0.07071067811865475)), (1784, np.float64(0.0)), (1785, np.float64(0.07905694150420947)), (1786, np.float64(0.0)), (1787, np.float64(0.042874646285627205)), (1788, np.float64(0.0)), (1789, np.float64(0.0)), (1790, np.float64(0.02054987341316966)), (1791, np.float64(0.0)), (1792, np.float64(0.062499999999999986)), (1793, np.float64(0.027277236279499045)), (1794, np.float64(0.08838834764831843)), (1795, np.float64(0.0)), (1796, np.float64(0.024753688574416854)), (1797, np.float64(0.053300179088902604)), (1798, np.float64(0.0)), (1799, np.float64(0.034020690871988585)), (1800, np.float64(0.0)), (1801, np.float64(0.03466876226407682)), (1802, np.float64(0.03857583749052298)), (1803, np.float64(0.0)), (1804, np.float64(0.05892556509887895)), (1805, np.float64(0.029462782549439476)), (1806, np.float64(0.0)), (1807, np.float64(0.029880715233359837)), (1808, np.float64(0.0)), (1809, np.float64(0.041666666666666664)), (1810, np.float64(0.05050762722761053)), (1811, np.float64(0.0)), (1812, np.float64(0.0)), (1813, np.float64(0.0)), (1814, np.float64(0.0)), (1815, np.float64(0.0)), (1816, np.float64(0.0)), (1817, np.float64(0.08964214570007951)), (1818, np.float64(0.0)), (1819, np.float64(0.0799502686333539)), (1820, np.float64(0.0)), (1821, np.float64(0.016932136536964907)), (1822, np.float64(0.0)), (1823, np.float64(0.029462782549439476)), (1824, np.float64(0.021437323142813602)), (1825, np.float64(0.0)), (1826, np.float64(0.0)), (1827, np.float64(0.07819290527140303)), (1828, np.float64(0.023836564731139806)), (1829, np.float64(0.09682458365518541)), (1830, np.float64(0.03227486121839514)), (1831, np.float64(0.058123819371909635)), (1832, np.float64(0.03666177875533832)), (1833, np.float64(0.0)), (1834, np.float64(0.0)), (1835, np.float64(0.0)), (1836, np.float64(0.0)), (1837, np.float64(0.0)), (1838, np.float64(0.08964214570007951)), (1839, np.float64(0.1670382761952652)), (1840, np.float64(0.0)), (1841, np.float64(0.0)), (1842, np.float64(0.04950737714883371)), (1843, np.float64(0.025785531156469834)), (1844, np.float64(0.023414645289542346)), (1845, np.float64(0.0)), (1846, np.float64(0.029880715233359837)), (1847, np.float64(0.018042195912175808)), (1848, np.float64(0.0)), (1849, np.float64(0.049999999999999996)), (1850, np.float64(0.06933752452815364)), (1851, np.float64(0.0)), (1852, np.float64(0.03706246583305506)), (1853, np.float64(0.043193421279068)), (1854, np.float64(0.0)), (1855, np.float64(0.06154574548966637)), (1856, np.float64(0.07372097807744857)), (1857, np.float64(0.0)), (1858, np.float64(0.04564354645876383)), (1859, np.float64(0.025785531156469834)), (1860, np.float64(0.05050762722761053)), (1861, np.float64(0.0)), (1862, np.float64(0.06454972243679027)), (1863, np.float64(0.0)), (1864, np.float64(0.0)), (1865, np.float64(0.0)), (1866, np.float64(0.0)), (1867, np.float64(0.0)), (1868, np.float64(0.053300179088902604)), (1869, np.float64(0.0)), (1870, np.float64(0.04767312946227961)), (1871, np.float64(0.0)), (1872, np.float64(0.0)), (1873, np.float64(0.0)), (1874, np.float64(0.08908708063747478)), (1875, np.float64(0.09128709291752767)), (1876, np.float64(0.0)), (1877, np.float64(0.0)), (1878, np.float64(0.0)), (1879, np.float64(0.052128603514268686)), (1880, np.float64(0.036084391824351615)), (1881, np.float64(0.026650089544451302)), (1882, np.float64(0.11058146711617285)), (1883, np.float64(0.021437323142813602)), (1884, np.float64(0.027277236279499045)), (1885, np.float64(0.032826608214930636)), (1886, np.float64(0.04195906791483445)), (1887, np.float64(0.0)), (1888, np.float64(0.0)), (1889, np.float64(0.0)), (1890, np.float64(0.0)), (1891, np.float64(0.0)), (1892, np.float64(0.0)), (1893, np.float64(0.02245066275334686)), (1894, np.float64(0.086386842558136)), (1895, np.float64(0.0)), (1896, np.float64(0.08492077756084468)), (1897, np.float64(0.0)), (1898, np.float64(0.03340765523905304)), (1899, np.float64(0.05455447255899809)), (1900, np.float64(0.0)), (1901, np.float64(0.0)), (1902, np.float64(0.04856429311786321)), (1903, np.float64(0.0)), (1904, np.float64(0.017677669529663688)), (1905, np.float64(0.0)), (1906, np.float64(0.026650089544451302)), (1907, np.float64(0.0)), (1908, np.float64(0.0799502686333539)), (1909, np.float64(0.08183170883849714)), (1910, np.float64(0.043193421279068)), (1911, np.float64(0.026958193300859603)), (1912, np.float64(0.025785531156469834)), (1913, np.float64(0.0)), (1914, np.float64(0.0)), (1915, np.float64(0.0)), (1916, np.float64(0.0)), (1917, np.float64(0.11470786693528087)), (1918, np.float64(0.0)), (1919, np.float64(0.0)), (1920, np.float64(0.06338656910463875)), (1921, np.float64(0.0)), (1922, np.float64(0.08574929257125441)), (1923, np.float64(0.0)), (1924, np.float64(0.06154574548966637)), (1925, np.float64(0.0)), (1926, np.float64(0.04767312946227961)), (1927, np.float64(0.0)), (1928, np.float64(0.0)), (1929, np.float64(0.0)), (1930, np.float64(0.0)), (1931, np.float64(0.0)), (1932, np.float64(0.05050762722761053)), (1933, np.float64(0.030772872744833184)), (1934, np.float64(0.13032150878567172)), (1935, np.float64(0.042874646285627205)), (1936, np.float64(0.0)), (1937, np.float64(0.0)), (1938, np.float64(0.035355339059327376)), (1939, np.float64(0.06804138174397717)), (1940, np.float64(0.0)), (1941, np.float64(0.059761430466719674)), (1942, np.float64(0.031750031750047626)), (1943, np.float64(0.0)), (1944, np.float64(0.0)), (1945, np.float64(0.0)), (1946, np.float64(0.03466876226407682)), (1947, np.float64(0.02795084971874737)), (1948, np.float64(0.026650089544451302)), (1949, np.float64(0.0)), (1950, np.float64(0.06350006350009525)), (1951, np.float64(0.0)), (1952, np.float64(0.041666666666666664)), (1953, np.float64(0.0)), (1954, np.float64(0.07150969419341942)), (1955, np.float64(0.05892556509887896)), (1956, np.float64(0.029462782549439476)), (1957, np.float64(0.058123819371909635)), (1958, np.float64(0.024999999999999998)), (1959, np.float64(0.0)), (1960, np.float64(0.06681531047810609)), (1961, np.float64(0.021596710639534)), (1962, np.float64(0.0)), (1963, np.float64(0.0)), (1964, np.float64(0.05892556509887895)), (1965, np.float64(0.0)), (1966, np.float64(0.026352313834736494)), (1967, np.float64(0.0)), (1968, np.float64(0.0)), (1969, np.float64(0.06565321642986127)), (1970, np.float64(0.0)), (1971, np.float64(0.027607881518711633)), (1972, np.float64(0.0)), (1973, np.float64(0.024753688574416854)), (1974, np.float64(0.0)), (1975, np.float64(0.04642383454426296)), (1976, np.float64(0.024753688574416854)), (1977, np.float64(0.0)), (1978, np.float64(0.06154574548966637)), (1979, np.float64(0.029880715233359837)), (1980, np.float64(0.0472455591261534)), (1981, np.float64(0.0)), (1982, np.float64(0.0)), (1983, np.float64(0.0)), (1984, np.float64(0.0)), (1985, np.float64(0.0)), (1986, np.float64(0.04029114820126901)), (1987, np.float64(0.02245066275334686)), (1988, np.float64(0.05384686189633037)), (1989, np.float64(0.02830692585361489)), (1990, np.float64(0.0)), (1991, np.float64(0.0)), (1992, np.float64(0.05270462766947299)), (1993, np.float64(0.05050762722761053)), (1994, np.float64(0.042874646285627205)), (1995, np.float64(0.0)), (1996, np.float64(0.04055535528269063)), (1997, np.float64(0.04454354031873739)), (1998, np.float64(0.024999999999999998)), (1999, np.float64(0.0)), (2000, np.float64(0.0)), (2001, np.float64(0.103450736075296)), (2002, np.float64(0.0)), (2003, np.float64(0.10206207261596575)), (2004, np.float64(0.10783277320343841)), (2005, np.float64(0.053300179088902604)), (2006, np.float64(0.0)), (2007, np.float64(0.0)), (2008, np.float64(0.0)), (2009, np.float64(0.053916386601719206)), (2010, np.float64(0.07905694150420949)), (2011, np.float64(0.0)), (2012, np.float64(0.0)), (2013, np.float64(0.0)), (2014, np.float64(0.0)), (2015, np.float64(0.03340765523905304)), (2016, np.float64(0.0)), (2017, np.float64(0.0)), (2018, np.float64(0.059761430466719674)), (2019, np.float64(0.0)), (2020, np.float64(0.0)), (2021, np.float64(0.0)), (2022, np.float64(0.029988007195203354)), (2023, np.float64(0.0)), (2024, np.float64(0.0)), (2025, np.float64(0.02192645048267573)), (2026, np.float64(0.0)), (2027, np.float64(0.035355339059327376)), (2028, np.float64(0.05685735326841775)), (2029, np.float64(0.0)), (2030, np.float64(0.0)), (2031, np.float64(0.024753688574416854)), (2032, np.float64(0.058123819371909635)), (2033, np.float64(0.034020690871988585)), (2034, np.float64(0.0)), (2035, np.float64(0.0)), (2036, np.float64(0.044194173824159216)), (2037, np.float64(0.032826608214930636)), (2038, np.float64(0.03227486121839514)), (2039, np.float64(0.0)), (2040, np.float64(0.029061909685954818)), (2041, np.float64(0.0)), (2042, np.float64(0.0)), (2043, np.float64(0.0)), (2044, np.float64(0.042257712736425826)), (2045, np.float64(0.058123819371909635)), (2046, np.float64(0.05455447255899809)), (2047, np.float64(0.0)), (2048, np.float64(0.1181138978153835)), (2049, np.float64(0.036084391824351615)), (2050, np.float64(0.044194173824159216)), (2051, np.float64(0.0)), (2052, np.float64(0.1332504477222565)), (2053, np.float64(0.0)), (2054, np.float64(0.0)), (2055, np.float64(0.0)), (2056, np.float64(0.03227486121839514)), (2057, np.float64(0.08838834764831843)), (2058, np.float64(0.09682458365518541)), (2059, np.float64(0.049029033784546004)), (2060, np.float64(0.020016019225635888)), (2061, np.float64(0.0)), (2062, np.float64(0.05521576303742327)), (2063, np.float64(0.07071067811865475)), (2064, np.float64(0.030316953129541614)), (2065, np.float64(0.04682929057908469)), (2066, np.float64(0.01853123291652753)), (2067, np.float64(0.0)), (2068, np.float64(0.08603090020146065)), (2069, np.float64(0.035355339059327376)), (2070, np.float64(0.06154574548966637)), (2071, np.float64(0.06454972243679027)), (2072, np.float64(0.0)), (2073, np.float64(0.028676966733820218)), (2074, np.float64(0.07216878364870323)), (2075, np.float64(0.03340765523905304)), (2076, np.float64(0.12141073279465801)), (2077, np.float64(0.02054987341316966)), (2078, np.float64(0.056533377108330674)), (2079, np.float64(0.025253813613805264)), (2080, np.float64(0.0)), (2081, np.float64(0.0)), (2082, np.float64(0.103450736075296)), (2083, np.float64(0.0)), (2084, np.float64(0.0)), (2085, np.float64(0.0)), (2086, np.float64(0.03340765523905304)), (2087, np.float64(0.05892556509887895)), (2088, np.float64(0.04950737714883371)), (2089, np.float64(0.0)), (2090, np.float64(0.0)), (2091, np.float64(0.10206207261596575)), (2092, np.float64(0.0)), (2093, np.float64(0.05455447255899809)), (2094, np.float64(0.0)), (2095, np.float64(0.02192645048267573)), (2096, np.float64(0.036084391824351615)), (2097, np.float64(0.036084391824351615)), (2098, np.float64(0.03227486121839514)), (2099, np.float64(0.025253813613805264)), (2100, np.float64(0.0)), (2101, np.float64(0.0)), (2102, np.float64(0.08908708063747478)), (2103, np.float64(0.024753688574416854)), (2104, np.float64(0.0)), (2105, np.float64(0.04811252243246881)), (2106, np.float64(0.0)), (2107, np.float64(0.023414645289542346)), (2108, np.float64(0.0)), (2109, np.float64(0.0)), (2110, np.float64(0.0)), (2111, np.float64(0.03880752628531664)), (2112, np.float64(0.03340765523905304)), (2113, np.float64(0.07372097807744857)), (2114, np.float64(0.0)), (2115, np.float64(0.0)), (2116, np.float64(0.06681531047810609)), (2117, np.float64(0.032826608214930636)), (2118, np.float64(0.06350006350009525)), (2119, np.float64(0.0)), (2120, np.float64(0.0)), (2121, np.float64(0.0)), (2122, np.float64(0.03857583749052298)), (2123, np.float64(0.03340765523905304)), (2124, np.float64(0.06063390625908323)), (2125, np.float64(0.026064301757134343)), (2126, np.float64(0.024282146558931603)), (2127, np.float64(0.031750031750047626)), (2128, np.float64(0.0)), (2129, np.float64(0.07150969419341942)), (2130, np.float64(0.029462782549439476)), (2131, np.float64(0.07150969419341942)), (2132, np.float64(0.04055535528269063)), (2133, np.float64(0.0)), (2134, np.float64(0.0)), (2135, np.float64(0.0)), (2136, np.float64(0.027607881518711633)), (2137, np.float64(0.0)), (2138, np.float64(0.06967330142916177)), (2139, np.float64(0.05590169943749474)), (2140, np.float64(0.03466876226407682)), (2141, np.float64(0.032826608214930636)), (2142, np.float64(0.06350006350009525)), (2143, np.float64(0.023014365447458086)), (2144, np.float64(0.02830692585361489)), (2145, np.float64(0.0)), (2146, np.float64(0.02054987341316966)), (2147, np.float64(0.024056261216234404)), (2148, np.float64(0.0)), (2149, np.float64(0.09128709291752767)), (2150, np.float64(0.0)), (2151, np.float64(0.03466876226407682)), (2152, np.float64(0.0)), (2153, np.float64(0.053300179088902604)), (2154, np.float64(0.0)), (2155, np.float64(0.032826608214930636)), (2156, np.float64(0.08183170883849714)), (2157, np.float64(0.03857583749052298)), (2158, np.float64(0.09712858623572641)), (2159, np.float64(0.027277236279499045)), (2160, np.float64(0.0)), (2161, np.float64(0.041666666666666664)), (2162, np.float64(0.036084391824351615)), (2163, np.float64(0.059761430466719674)), (2164, np.float64(0.0)), (2165, np.float64(0.1494035761667992)), (2166, np.float64(0.0)), (2167, np.float64(0.0)), (2168, np.float64(0.0)), (2169, np.float64(0.08770580193070292)), (2170, np.float64(0.03768891807222045)), (2171, np.float64(0.059761430466719674)), (2172, np.float64(0.0)), (2173, np.float64(0.02830692585361489)), (2174, np.float64(0.0)), (2175, np.float64(0.030772872744833184)), (2176, np.float64(0.08183170883849714)), (2177, np.float64(0.02830692585361489)), (2178, np.float64(0.0)), (2179, np.float64(0.0)), (2180, np.float64(0.02830692585361489)), (2181, np.float64(0.0)), (2182, np.float64(0.026650089544451302)), (2183, np.float64(0.05157106231293967)), (2184, np.float64(0.0)), (2185, np.float64(0.0)), (2186, np.float64(0.060436722301903514)), (2187, np.float64(0.022271770159368695)), (2188, np.float64(0.0)), (2189, np.float64(0.06293860187225167)), (2190, np.float64(0.036860489038724284)), (2191, np.float64(0.039528470752104736)), (2192, np.float64(0.0)), (2193, np.float64(0.0)), (2194, np.float64(0.0)), (2195, np.float64(0.036084391824351615)), (2196, np.float64(0.02795084971874737)), (2197, np.float64(0.053300179088902604)), (2198, np.float64(0.09525009525014289)), (2199, np.float64(0.02245066275334686)), (2200, np.float64(0.027277236279499045)), (2201, np.float64(0.0)), (2202, np.float64(0.09095085938862485)), (2203, np.float64(0.01906232129157558)), (2204, np.float64(0.05521576303742327)), (2205, np.float64(0.049999999999999996)), (2206, np.float64(0.0)), (2207, np.float64(0.08492077756084468)), (2208, np.float64(0.0)), (2209, np.float64(0.045267873021259265)), (2210, np.float64(0.0)), (2211, np.float64(0.05270462766947299)), (2212, np.float64(0.0)), (2213, np.float64(0.0)), (2214, np.float64(0.036860489038724284)), (2215, np.float64(0.0)), (2216, np.float64(0.04767312946227961)), (2217, np.float64(0.0)), (2218, np.float64(0.03340765523905304)), (2219, np.float64(0.0)), (2220, np.float64(0.057353933467640436)), (2221, np.float64(0.0)), (2222, np.float64(0.021759706994462225)), (2223, np.float64(0.06565321642986127)), (2224, np.float64(0.06933752452815364)), (2225, np.float64(0.0)), (2226, np.float64(0.0)), (2227, np.float64(0.07071067811865475)), (2228, np.float64(0.0)), (2229, np.float64(0.0)), (2230, np.float64(0.0)), (2231, np.float64(0.06350006350009525)), (2232, np.float64(0.0)), (2233, np.float64(0.0)), (2234, np.float64(0.0)), (2235, np.float64(0.024514516892273002)), (2236, np.float64(0.03227486121839514)), (2237, np.float64(0.026064301757134343)), (2238, np.float64(0.0)), (2239, np.float64(0.075)), (2240, np.float64(0.07216878364870323)), (2241, np.float64(0.024999999999999998)), (2242, np.float64(0.024514516892273002)), (2243, np.float64(0.0828236445561349)), (2244, np.float64(0.0)), (2245, np.float64(0.026958193300859603)), (2246, np.float64(0.10825317547305485)), (2247, np.float64(0.06565321642986127)), (2248, np.float64(0.0)), (2249, np.float64(0.026650089544451302)), (2250, np.float64(0.0)), (2251, np.float64(0.0)), (2252, np.float64(0.061237243569579436)), (2253, np.float64(0.0)), (2254, np.float64(0.049029033784546004)), (2255, np.float64(0.036084391824351615)), (2256, np.float64(0.0)), (2257, np.float64(0.09374999999999997)), (2258, np.float64(0.021128856368212913)), (2259, np.float64(0.0)), (2260, np.float64(0.0)), (2261, np.float64(0.0)), (2262, np.float64(0.032826608214930636)), (2263, np.float64(0.035355339059327376)), (2264, np.float64(0.0)), (2265, np.float64(0.026958193300859603)), (2266, np.float64(0.035355339059327376)), (2267, np.float64(0.0)), (2268, np.float64(0.0)), (2269, np.float64(0.02830692585361489)), (2270, np.float64(0.08333333333333333)), (2271, np.float64(0.039528470752104736)), (2272, np.float64(0.053916386601719206)), (2273, np.float64(0.0)), (2274, np.float64(0.0)), (2275, np.float64(0.0)), (2276, np.float64(0.09231861823449955)), (2277, np.float64(0.03340765523905304)), (2278, np.float64(0.0)), (2279, np.float64(0.10400628679223047)), (2280, np.float64(0.05103103630798288)), (2281, np.float64(0.030772872744833184)), (2282, np.float64(0.04856429311786321)), (2283, np.float64(0.024056261216234404)), (2284, np.float64(0.029061909685954818)), (2285, np.float64(0.016854996561581053)), (2286, np.float64(0.0)), (2287, np.float64(0.021128856368212913)), (2288, np.float64(0.03768891807222045)), (2289, np.float64(0.0)), (2290, np.float64(0.03227486121839514)), (2291, np.float64(0.029061909685954818)), (2292, np.float64(0.0)), (2293, np.float64(0.11858541225631421)), (2294, np.float64(0.028676966733820218)), (2295, np.float64(0.039528470752104736)), (2296, np.float64(0.026958193300859603)), (2297, np.float64(0.11962753722931604)), (2298, np.float64(0.04811252243246881)), (2299, np.float64(0.0)), (2300, np.float64(0.030772872744833184)), (2301, np.float64(0.024514516892273002)), (2302, np.float64(0.0)), (2303, np.float64(0.0)), (2304, np.float64(0.0)), (2305, np.float64(0.0)), (2306, np.float64(0.07071067811865475)), (2307, np.float64(0.036860489038724284)), (2308, np.float64(0.042874646285627205)), (2309, np.float64(0.03857583749052298)), (2310, np.float64(0.0)), (2311, np.float64(0.049029033784546004)), (2312, np.float64(0.031750031750047626)), (2313, np.float64(0.0)), (2314, np.float64(0.036860489038724284)), (2315, np.float64(0.04564354645876383)), (2316, np.float64(0.0)), (2317, np.float64(0.0)), (2318, np.float64(0.0)), (2319, np.float64(0.0753778361444409)), (2320, np.float64(0.05270462766947299)), (2321, np.float64(0.024514516892273002)), (2322, np.float64(0.04055535528269063)), (2323, np.float64(0.0)), (2324, np.float64(0.07654655446197431)), (2325, np.float64(0.02830692585361489)), (2326, np.float64(0.031249999999999993)), (2327, np.float64(0.044194173824159216)), (2328, np.float64(0.13258252147247765)), (2329, np.float64(0.04950737714883371)), (2330, np.float64(0.03466876226407682)), (2331, np.float64(0.08111071056538126)), (2332, np.float64(0.0)), (2333, np.float64(0.0)), (2334, np.float64(0.0)), (2335, np.float64(0.044194173824159216)), (2336, np.float64(0.0)), (2337, np.float64(0.07819290527140303)), (2338, np.float64(0.06804138174397717)), (2339, np.float64(0.0)), (2340, np.float64(0.026352313834736494)), (2341, np.float64(0.026650089544451302)), (2342, np.float64(0.052510503151050374)), (2343, np.float64(0.0)), (2344, np.float64(0.06681531047810609)), (2345, np.float64(0.04966996338993915)), (2346, np.float64(0.0)), (2347, np.float64(0.07284643967679481)), (2348, np.float64(0.0799502686333539)), (2349, np.float64(0.0)), (2350, np.float64(0.09365858115816939)), (2351, np.float64(0.062499999999999986)), (2352, np.float64(0.0)), (2353, np.float64(0.05590169943749474)), (2354, np.float64(0.05050762722761053)), (2355, np.float64(0.0)), (2356, np.float64(0.0)), (2357, np.float64(0.022097086912079608)), (2358, np.float64(0.021437323142813602)), (2359, np.float64(0.049029033784546004)), (2360, np.float64(0.13927150363278887)), (2361, np.float64(0.04564354645876383)), (2362, np.float64(0.05270462766947299)), (2363, np.float64(0.02054987341316966)), (2364, np.float64(0.0)), (2365, np.float64(0.04055535528269063)), (2366, np.float64(0.0)), (2367, np.float64(0.0)), (2368, np.float64(0.0)), (2369, np.float64(0.0)), (2370, np.float64(0.0)), (2371, np.float64(0.0)), (2372, np.float64(0.0)), (2373, np.float64(0.0828236445561349)), (2374, np.float64(0.07216878364870323)), (2375, np.float64(0.0)), (2376, np.float64(0.0)), (2377, np.float64(0.039528470752104736)), (2378, np.float64(0.0)), (2379, np.float64(0.0)), (2380, np.float64(0.029880715233359837)), (2381, np.float64(0.07715167498104596)), (2382, np.float64(0.054410718758250876)), (2383, np.float64(0.027277236279499045)), (2384, np.float64(0.0)), (2385, np.float64(0.0)), (2386, np.float64(0.044194173824159216)), (2387, np.float64(0.0)), (2388, np.float64(0.041666666666666664)), (2389, np.float64(0.0)), (2390, np.float64(0.07905694150420947)), (2391, np.float64(0.134790966504298)), (2392, np.float64(0.06804138174397717)), (2393, np.float64(0.0)), (2394, np.float64(0.0)), (2395, np.float64(0.03227486121839514)), (2396, np.float64(0.09374999999999997)), (2397, np.float64(0.053300179088902604)), (2398, np.float64(0.0)), (2399, np.float64(0.0)), (2400, np.float64(0.11918282365569903)), (2401, np.float64(0.0)), (2402, np.float64(0.036860489038724284)), (2403, np.float64(0.0)), (2404, np.float64(0.0)), (2405, np.float64(0.053300179088902604)), (2406, np.float64(0.0)), (2407, np.float64(0.07284643967679481)), (2408, np.float64(0.0)), (2409, np.float64(0.0)), (2410, np.float64(0.026650089544451302)), (2411, np.float64(0.0)), (2412, np.float64(0.0)), (2413, np.float64(0.0)), (2414, np.float64(0.059761430466719674)), (2415, np.float64(0.08603090020146065)), (2416, np.float64(0.0)), (2417, np.float64(0.0)), (2418, np.float64(0.021759706994462225)), (2419, np.float64(0.0)), (2420, np.float64(0.0)), (2421, np.float64(0.0)), (2422, np.float64(0.0)), (2423, np.float64(0.0)), (2424, np.float64(0.0)), (2425, np.float64(0.0)), (2426, np.float64(0.026064301757134343)), (2427, np.float64(0.0)), (2428, np.float64(0.05590169943749474)), (2429, np.float64(0.041666666666666664)), (2430, np.float64(0.01988893210439325)), (2431, np.float64(0.036860489038724284)), (2432, np.float64(0.0)), (2433, np.float64(0.0)), (2434, np.float64(0.0)), (2435, np.float64(0.09053574604251853)), (2436, np.float64(0.02795084971874737)), (2437, np.float64(0.05050762722761053)), (2438, np.float64(0.0)), (2439, np.float64(0.036860489038724284)), (2440, np.float64(0.0)), (2441, np.float64(0.03857583749052298)), (2442, np.float64(0.029880715233359837)), (2443, np.float64(0.0)), (2444, np.float64(0.0953116064578779)), (2445, np.float64(0.027607881518711633)), (2446, np.float64(0.08183170883849714)), (2447, np.float64(0.0)), (2448, np.float64(0.0)), (2449, np.float64(0.0)), (2450, np.float64(0.031750031750047626)), (2451, np.float64(0.036860489038724284)), (2452, np.float64(0.0)), (2453, np.float64(0.0)), (2454, np.float64(0.022271770159368695)), (2455, np.float64(0.0)), (2456, np.float64(0.0)), (2457, np.float64(0.0)), (2458, np.float64(0.0)), (2459, np.float64(0.06933752452815364)), (2460, np.float64(0.027277236279499045)), (2461, np.float64(0.0)), (2462, np.float64(0.0)), (2463, np.float64(0.026958193300859603)), (2464, np.float64(0.0)), (2465, np.float64(0.0)), (2466, np.float64(0.0)), (2467, np.float64(0.0)), (2468, np.float64(0.04682929057908469)), (2469, np.float64(0.025253813613805264)), (2470, np.float64(0.0)), (2471, np.float64(0.02795084971874737)), (2472, np.float64(0.03790490217894517)), (2473, np.float64(0.05050762722761053)), (2474, np.float64(0.0)), (2475, np.float64(0.0)), (2476, np.float64(0.09128709291752767)), (2477, np.float64(0.0)), (2478, np.float64(0.03768891807222045)), (2479, np.float64(0.0)), (2480, np.float64(0.022821773229381916)), (2481, np.float64(0.0)), (2482, np.float64(0.0)), (2483, np.float64(0.0)), (2484, np.float64(0.02551551815399144)), (2485, np.float64(0.029880715233359837)), (2486, np.float64(0.0)), (2487, np.float64(0.0)), (2488, np.float64(0.053300179088902604)), (2489, np.float64(0.0)), (2490, np.float64(0.0)), (2491, np.float64(0.0)), (2492, np.float64(0.12309149097933274)), (2493, np.float64(0.0)), (2494, np.float64(0.06846531968814575)), (2495, np.float64(0.0)), (2496, np.float64(0.0)), (2497, np.float64(0.06454972243679027)), (2498, np.float64(0.0)), (2499, np.float64(0.0)), (2500, np.float64(0.036860489038724284)), (2501, np.float64(0.01906232129157558)), (2502, np.float64(0.0)), (2503, np.float64(0.06681531047810609)), (2504, np.float64(0.06933752452815364)), (2505, np.float64(0.020277677641345315)), (2506, np.float64(0.0)), (2507, np.float64(0.0)), (2508, np.float64(0.03880752628531664)), (2509, np.float64(0.034020690871988585)), (2510, np.float64(0.05521576303742327)), (2511, np.float64(0.0)), (2512, np.float64(0.05103103630798288)), (2513, np.float64(0.0)), (2514, np.float64(0.04055535528269063)), (2515, np.float64(0.0)), (2516, np.float64(0.022633936510629633)), (2517, np.float64(0.07715167498104596)), (2518, np.float64(0.02830692585361489)), (2519, np.float64(0.0)), (2520, np.float64(0.0)), (2521, np.float64(0.0)), (2522, np.float64(0.0)), (2523, np.float64(0.06963575181639443)), (2524, np.float64(0.027277236279499045)), (2525, np.float64(0.0)), (2526, np.float64(0.0)), (2527, np.float64(0.034020690871988585)), (2528, np.float64(0.0)), (2529, np.float64(0.03768891807222045)), (2530, np.float64(0.0)), (2531, np.float64(0.0)), (2532, np.float64(0.0)), (2533, np.float64(0.05590169943749474)), (2534, np.float64(0.06681531047810609)), (2535, np.float64(0.08111071056538126)), (2536, np.float64(0.0)), (2537, np.float64(0.0679018095318889)), (2538, np.float64(0.0)), (2539, np.float64(0.0)), (2540, np.float64(0.0)), (2541, np.float64(0.0)), (2542, np.float64(0.0)), (2543, np.float64(0.0)), (2544, np.float64(0.0)), (2545, np.float64(0.10798355319767)), (2546, np.float64(0.03227486121839514)), (2547, np.float64(0.04055535528269063)), (2548, np.float64(0.058123819371909635)), (2549, np.float64(0.0)), (2550, np.float64(0.026650089544451302)), (2551, np.float64(0.0)), (2552, np.float64(0.026064301757134343)), (2553, np.float64(0.0)), (2554, np.float64(0.11306675421666135)), (2555, np.float64(0.032826608214930636)), (2556, np.float64(0.026064301757134343)), (2557, np.float64(0.029061909685954818)), (2558, np.float64(0.03466876226407682)), (2559, np.float64(0.03340765523905304)), (2560, np.float64(0.06933752452815364)), (2561, np.float64(0.0)), (2562, np.float64(0.0)), (2563, np.float64(0.042874646285627205)), (2564, np.float64(0.0)), (2565, np.float64(0.05661385170722978)), (2566, np.float64(0.01988893210439325)), (2567, np.float64(0.030772872744833184)), (2568, np.float64(0.0)), (2569, np.float64(0.0)), (2570, np.float64(0.0)), (2571, np.float64(0.024514516892273002)), (2572, np.float64(0.0)), (2573, np.float64(0.0)), (2574, np.float64(0.0)), (2575, np.float64(0.07071067811865475)), (2576, np.float64(0.0)), (2577, np.float64(0.03857583749052298)), (2578, np.float64(0.022097086912079608)), (2579, np.float64(0.0)), (2580, np.float64(0.07216878364870323)), (2581, np.float64(0.039528470752104736)), (2582, np.float64(0.0)), (2583, np.float64(0.021437323142813602)), (2584, np.float64(0.06350006350009525)), (2585, np.float64(0.06154574548966637)), (2586, np.float64(0.039528470752104736)), (2587, np.float64(0.026650089544451302)), (2588, np.float64(0.05103103630798288)), (2589, np.float64(0.06063390625908323)), (2590, np.float64(0.0)), (2591, np.float64(0.0)), (2592, np.float64(0.04767312946227961)), (2593, np.float64(0.0)), (2594, np.float64(0.059292706128157104)), (2595, np.float64(0.026352313834736494)), (2596, np.float64(0.034020690871988585)), (2597, np.float64(0.0)), (2598, np.float64(0.034020690871988585)), (2599, np.float64(0.06681531047810609)), (2600, np.float64(0.0)), (2601, np.float64(0.0)), (2602, np.float64(0.0)), (2603, np.float64(0.0)), (2604, np.float64(0.04055535528269063)), (2605, np.float64(0.0)), (2606, np.float64(0.0)), (2607, np.float64(0.0)), (2608, np.float64(0.0)), (2609, np.float64(0.02830692585361489)), (2610, np.float64(0.0)), (2611, np.float64(0.06350006350009525)), (2612, np.float64(0.0)), (2613, np.float64(0.0)), (2614, np.float64(0.0)), (2615, np.float64(0.0)), (2616, np.float64(0.0)), (2617, np.float64(0.0)), (2618, np.float64(0.07372097807744857)), (2619, np.float64(0.03857583749052298)), (2620, np.float64(0.0)), (2621, np.float64(0.034020690871988585)), (2622, np.float64(0.0)), (2623, np.float64(0.0)), (2624, np.float64(0.03768891807222045)), (2625, np.float64(0.04490132550669372)), (2626, np.float64(0.02830692585361489)), (2627, np.float64(0.052128603514268686)), (2628, np.float64(0.030772872744833184)), (2629, np.float64(0.0)), (2630, np.float64(0.03857583749052298)), (2631, np.float64(0.0)), (2632, np.float64(0.030316953129541614)), (2633, np.float64(0.0)), (2634, np.float64(0.027607881518711633)), (2635, np.float64(0.027277236279499045)), (2636, np.float64(0.0)), (2637, np.float64(0.05590169943749474)), (2638, np.float64(0.02551551815399144)), (2639, np.float64(0.0)), (2640, np.float64(0.0)), (2641, np.float64(0.034020690871988585)), (2642, np.float64(0.026958193300859603)), (2643, np.float64(0.04564354645876383)), (2644, np.float64(0.043193421279068)), (2645, np.float64(0.0)), (2646, np.float64(0.10206207261596575)), (2647, np.float64(0.06681531047810609)), (2648, np.float64(0.13363062095621217)), (2649, np.float64(0.012927192249875478)), (2650, np.float64(0.0)), (2651, np.float64(0.05157106231293967)), (2652, np.float64(0.07715167498104596)), (2653, np.float64(0.0)), (2654, np.float64(0.0)), (2655, np.float64(0.029880715233359837)), (2656, np.float64(0.0)), (2657, np.float64(0.059761430466719674)), (2658, np.float64(0.059761430466719674)), (2659, np.float64(0.0)), (2660, np.float64(0.0)), (2661, np.float64(0.0)), (2662, np.float64(0.0)), (2663, np.float64(0.04811252243246881)), (2664, np.float64(0.032826608214930636)), (2665, np.float64(0.0)), (2666, np.float64(0.0)), (2667, np.float64(0.0)), (2668, np.float64(0.0)), (2669, np.float64(0.0)), (2670, np.float64(0.044194173824159216)), (2671, np.float64(0.147087101353638)), (2672, np.float64(0.029061909685954818)), (2673, np.float64(0.0)), (2674, np.float64(0.0)), (2675, np.float64(0.024282146558931603)), (2676, np.float64(0.14301938838683884)), (2677, np.float64(0.0)), (2678, np.float64(0.0)), (2679, np.float64(0.11624763874381927)), (2680, np.float64(0.0)), (2681, np.float64(0.0)), (2682, np.float64(0.08385254915624211)), (2683, np.float64(0.0)), (2684, np.float64(0.029361010975735173)), (2685, np.float64(0.030316953129541614)), (2686, np.float64(0.0)), (2687, np.float64(0.0)), (2688, np.float64(0.0)), (2689, np.float64(0.024753688574416854)), (2690, np.float64(0.0)), (2691, np.float64(0.0)), (2692, np.float64(0.0)), (2693, np.float64(0.027607881518711633)), (2694, np.float64(0.0)), (2695, np.float64(0.0)), (2696, np.float64(0.0)), (2697, np.float64(0.0)), (2698, np.float64(0.032826608214930636)), (2699, np.float64(0.0)), (2700, np.float64(0.029462782549439476)), (2701, np.float64(0.0)), (2702, np.float64(0.0)), (2703, np.float64(0.0)), (2704, np.float64(0.0)), (2705, np.float64(0.026650089544451302)), (2706, np.float64(0.0)), (2707, np.float64(0.0)), (2708, np.float64(0.0)), (2709, np.float64(0.04811252243246881)), (2710, np.float64(0.0)), (2711, np.float64(0.0)), (2712, np.float64(0.0)), (2713, np.float64(0.052128603514268686)), (2714, np.float64(0.0)), (2715, np.float64(0.030772872744833184)), (2716, np.float64(0.0)), (2717, np.float64(0.036860489038724284)), (2718, np.float64(0.0)), (2719, np.float64(0.0)), (2720, np.float64(0.0)), (2721, np.float64(0.044194173824159216)), (2722, np.float64(0.0)), (2723, np.float64(0.025785531156469834)), (2724, np.float64(0.0)), (2725, np.float64(0.041666666666666664)), (2726, np.float64(0.0)), (2727, np.float64(0.0)), (2728, np.float64(0.0)), (2729, np.float64(0.020412414523193145)), (2730, np.float64(0.0)), (2731, np.float64(0.0)), (2732, np.float64(0.059761430466719674)), (2733, np.float64(0.03857583749052298)), (2734, np.float64(0.024753688574416854)), (2735, np.float64(0.031750031750047626)), (2736, np.float64(0.0)), (2737, np.float64(0.09847982464479191)), (2738, np.float64(0.0)), (2739, np.float64(0.0)), (2740, np.float64(0.0)), (2741, np.float64(0.0)), (2742, np.float64(0.0)), (2743, np.float64(0.0)), (2744, np.float64(0.031249999999999993)), (2745, np.float64(0.0)), (2746, np.float64(0.11180339887498948)), (2747, np.float64(0.0)), (2748, np.float64(0.08770580193070292)), (2749, np.float64(0.1507556722888818)), (2750, np.float64(0.0)), (2751, np.float64(0.026352313834736494)), (2752, np.float64(0.0)), (2753, np.float64(0.0)), (2754, np.float64(0.0)), (2755, np.float64(0.0)), (2756, np.float64(0.11410886614690958)), (2757, np.float64(0.0)), (2758, np.float64(0.11058146711617285)), (2759, np.float64(0.03857583749052298)), (2760, np.float64(0.0)), (2761, np.float64(0.026958193300859603)), (2762, np.float64(0.0)), (2763, np.float64(0.029880715233359837)), (2764, np.float64(0.030316953129541614)), (2765, np.float64(0.0)), (2766, np.float64(0.0)), (2767, np.float64(0.025253813613805264)), (2768, np.float64(0.039528470752104736)), (2769, np.float64(0.0)), (2770, np.float64(0.0)), (2771, np.float64(0.0)), (2772, np.float64(0.0)), (2773, np.float64(0.0)), (2774, np.float64(0.0)), (2775, np.float64(0.04055535528269063)), (2776, np.float64(0.08574929257125441)), (2777, np.float64(0.027607881518711633)), (2778, np.float64(0.05050762722761053)), (2779, np.float64(0.0)), (2780, np.float64(0.02192645048267573)), (2781, np.float64(0.0)), (2782, np.float64(0.06804138174397717)), (2783, np.float64(0.0)), (2784, np.float64(0.025253813613805264)), (2785, np.float64(0.08574929257125441)), (2786, np.float64(0.07761505257063328)), (2787, np.float64(0.0)), (2788, np.float64(0.04351941398892445)), (2789, np.float64(0.062499999999999986)), (2790, np.float64(0.028676966733820218)), (2791, np.float64(0.062499999999999986)), (2792, np.float64(0.049029033784546004)), (2793, np.float64(0.030772872744833184)), (2794, np.float64(0.02795084971874737)), (2795, np.float64(0.057353933467640436)), (2796, np.float64(0.02830692585361489)), (2797, np.float64(0.04055535528269063)), (2798, np.float64(0.0)), (2799, np.float64(0.0)), (2800, np.float64(0.06681531047810609)), (2801, np.float64(0.0)), (2802, np.float64(0.062499999999999986)), (2803, np.float64(0.0)), (2804, np.float64(0.03857583749052298)), (2805, np.float64(0.03857583749052298)), (2806, np.float64(0.03227486121839514)), (2807, np.float64(0.04682929057908469)), (2808, np.float64(0.0)), (2809, np.float64(0.0)), (2810, np.float64(0.032826608214930636)), (2811, np.float64(0.0)), (2812, np.float64(0.030772872744833184)), (2813, np.float64(0.08492077756084468)), (2814, np.float64(0.0)), (2815, np.float64(0.0)), (2816, np.float64(0.05103103630798288)), (2817, np.float64(0.0)), (2818, np.float64(0.0)), (2819, np.float64(0.0828236445561349)), (2820, np.float64(0.062499999999999986)), (2821, np.float64(0.027607881518711633)), (2822, np.float64(0.030316953129541614)), (2823, np.float64(0.028676966733820218)), (2824, np.float64(0.05590169943749474)), (2825, np.float64(0.0)), (2826, np.float64(0.0)), (2827, np.float64(0.025785531156469834)), (2828, np.float64(0.03553345272593507)), (2829, np.float64(0.03340765523905304)), (2830, np.float64(0.0)), (2831, np.float64(0.0)), (2832, np.float64(0.0)), (2833, np.float64(0.0)), (2834, np.float64(0.0)), (2835, np.float64(0.0)), (2836, np.float64(0.06350006350009525)), (2837, np.float64(0.0)), (2838, np.float64(0.025253813613805264)), (2839, np.float64(0.031750031750047626)), (2840, np.float64(0.04055535528269063)), (2841, np.float64(0.0)), (2842, np.float64(0.0)), (2843, np.float64(0.029462782549439476)), (2844, np.float64(0.030316953129541614)), (2845, np.float64(0.0)), (2846, np.float64(0.05103103630798288)), (2847, np.float64(0.0)), (2848, np.float64(0.026064301757134343)), (2849, np.float64(0.04564354645876383)), (2850, np.float64(0.03857583749052298)), (2851, np.float64(0.0)), (2852, np.float64(0.0)), (2853, np.float64(0.0)), (2854, np.float64(0.057353933467640436)), (2855, np.float64(0.0)), (2856, np.float64(0.0)), (2857, np.float64(0.0)), (2858, np.float64(0.042874646285627205)), (2859, np.float64(0.05590169943749474)), (2860, np.float64(0.0)), (2861, np.float64(0.08838834764831843)), (2862, np.float64(0.0)), (2863, np.float64(0.0)), (2864, np.float64(0.06565321642986127)), (2865, np.float64(0.039528470752104736)), (2866, np.float64(0.044194173824159216)), (2867, np.float64(0.0)), (2868, np.float64(0.039528470752104736)), (2869, np.float64(0.023414645289542346)), (2870, np.float64(0.0)), (2871, np.float64(0.0)), (2872, np.float64(0.0)), (2873, np.float64(0.0)), (2874, np.float64(0.0)), (2875, np.float64(0.0)), (2876, np.float64(0.0)), (2877, np.float64(0.017766726362967535)), (2878, np.float64(0.02592379236826063)), (2879, np.float64(0.025383654128340476)), (2880, np.float64(0.07071067811865475)), (2881, np.float64(0.0)), (2882, np.float64(0.0)), (2883, np.float64(0.07819290527140303)), (2884, np.float64(0.0)), (2885, np.float64(0.0)), (2886, np.float64(0.045267873021259265)), (2887, np.float64(0.022821773229381916)), (2888, np.float64(0.036084391824351615)), (2889, np.float64(0.0)), (2890, np.float64(0.027277236279499045)), (2891, np.float64(0.0)), (2892, np.float64(0.024056261216234404)), (2893, np.float64(0.0)), (2894, np.float64(0.0)), (2895, np.float64(0.0773565934694095)), (2896, np.float64(0.026064301757134343)), (2897, np.float64(0.0)), (2898, np.float64(0.020979533957417223)), (2899, np.float64(0.03227486121839514)), (2900, np.float64(0.0)), (2901, np.float64(0.052128603514268686)), (2902, np.float64(0.021437323142813602)), (2903, np.float64(0.0)), (2904, np.float64(0.0)), (2905, np.float64(0.0)), (2906, np.float64(0.024999999999999998)), (2907, np.float64(0.027277236279499045)), (2908, np.float64(0.0)), (2909, np.float64(0.02830692585361489)), (2910, np.float64(0.0)), (2911, np.float64(0.0)), (2912, np.float64(0.05103103630798288)), (2913, np.float64(0.0)), (2914, np.float64(0.0828236445561349)), (2915, np.float64(0.0)), (2916, np.float64(0.0)), (2917, np.float64(0.10606601717798213)), (2918, np.float64(0.0)), (2919, np.float64(0.030316953129541614)), (2920, np.float64(0.034020690871988585)), (2921, np.float64(0.0)), (2922, np.float64(0.026352313834736494)), (2923, np.float64(0.15811388300841894)), (2924, np.float64(0.0)), (2925, np.float64(0.0)), (2926, np.float64(0.0)), (2927, np.float64(0.08964214570007951)), (2928, np.float64(0.0)), (2929, np.float64(0.0)), (2930, np.float64(0.035355339059327376)), (2931, np.float64(0.0)), (2932, np.float64(0.0808745799025788)), (2933, np.float64(0.08111071056538126)), (2934, np.float64(0.030772872744833184)), (2935, np.float64(0.09231861823449955)), (2936, np.float64(0.0)), (2937, np.float64(0.036084391824351615)), (2938, np.float64(0.0)), (2939, np.float64(0.0)), (2940, np.float64(0.024282146558931603)), (2941, np.float64(0.0)), (2942, np.float64(0.0)), (2943, np.float64(0.025253813613805264)), (2944, np.float64(0.0)), (2945, np.float64(0.058123819371909635)), (2946, np.float64(0.034020690871988585)), (2947, np.float64(0.0)), (2948, np.float64(0.0)), (2949, np.float64(0.0)), (2950, np.float64(0.03857583749052298)), (2951, np.float64(0.0)), (2952, np.float64(0.0)), (2953, np.float64(0.0)), (2954, np.float64(0.0)), (2955, np.float64(0.06565321642986127)), (2956, np.float64(0.030316953129541614)), (2957, np.float64(0.0)), (2958, np.float64(0.0)), (2959, np.float64(0.03857583749052298)), (2960, np.float64(0.07715167498104596)), (2961, np.float64(0.045267873021259265)), (2962, np.float64(0.0)), (2963, np.float64(0.023014365447458086)), (2964, np.float64(0.0)), (2965, np.float64(0.027277236279499045)), (2966, np.float64(0.0)), (2967, np.float64(0.03768891807222045)), (2968, np.float64(0.03466876226407682)), (2969, np.float64(0.04195906791483445)), (2970, np.float64(0.0)), (2971, np.float64(0.05590169943749474)), (2972, np.float64(0.0)), (2973, np.float64(0.0)), (2974, np.float64(0.036084391824351615)), (2975, np.float64(0.0)), (2976, np.float64(0.0)), (2977, np.float64(0.0)), (2978, np.float64(0.07715167498104596)), (2979, np.float64(0.029462782549439476)), (2980, np.float64(0.029061909685954818)), (2981, np.float64(0.0)), (2982, np.float64(0.08183170883849714)), (2983, np.float64(0.0)), (2984, np.float64(0.021437323142813602)), (2985, np.float64(0.0)), (2986, np.float64(0.026352313834736494)), (2987, np.float64(0.0)), (2988, np.float64(0.030772872744833184)), (2989, np.float64(0.0)), (2990, np.float64(0.0)), (2991, np.float64(0.0)), (2992, np.float64(0.0)), (2993, np.float64(0.04882084161780895)), (2994, np.float64(0.0)), (2995, np.float64(0.02830692585361489)), (2996, np.float64(0.031249999999999993)), (2997, np.float64(0.11858541225631421)), (2998, np.float64(0.09422229518055111)), (2999, np.float64(0.0)), (3000, np.float64(0.0)), (3001, np.float64(0.0)), (3002, np.float64(0.07715167498104596)), (3003, np.float64(0.062499999999999986)), (3004, np.float64(0.0)), (3005, np.float64(0.0)), (3006, np.float64(0.059761430466719674)), (3007, np.float64(0.053300179088902604)), (3008, np.float64(0.0)), (3009, np.float64(0.029462782549439476)), (3010, np.float64(0.053300179088902604)), (3011, np.float64(0.0)), (3012, np.float64(0.0)), (3013, np.float64(0.0)), (3014, np.float64(0.034020690871988585)), (3015, np.float64(0.04767312946227961)), (3016, np.float64(0.04811252243246881)), (3017, np.float64(0.04564354645876383)), (3018, np.float64(0.0)), (3019, np.float64(0.0)), (3020, np.float64(0.0)), (3021, np.float64(0.0)), (3022, np.float64(0.06350006350009525)), (3023, np.float64(0.11180339887498948)), (3024, np.float64(0.0)), (3025, np.float64(0.0)), (3026, np.float64(0.02830692585361489)), (3027, np.float64(0.0)), (3028, np.float64(0.0)), (3029, np.float64(0.025785531156469834)), (3030, np.float64(0.0)), (3031, np.float64(0.024514516892273002)), (3032, np.float64(0.029880715233359837)), (3033, np.float64(0.0)), (3034, np.float64(0.0)), (3035, np.float64(0.05590169943749474)), (3036, np.float64(0.0)), (3037, np.float64(0.0773565934694095)), (3038, np.float64(0.0)), (3039, np.float64(0.0)), (3040, np.float64(0.0)), (3041, np.float64(0.022821773229381916)), (3042, np.float64(0.04950737714883371)), (3043, np.float64(0.0)), (3044, np.float64(0.10022296571715913)), (3045, np.float64(0.03768891807222045)), (3046, np.float64(0.0)), (3047, np.float64(0.04564354645876383)), (3048, np.float64(0.0)), (3049, np.float64(0.039528470752104736)), (3050, np.float64(0.020412414523193145)), (3051, np.float64(0.031750031750047626)), (3052, np.float64(0.04642383454426296)), (3053, np.float64(0.11306675421666133)), (3054, np.float64(0.022271770159368695)), (3055, np.float64(0.042874646285627205)), (3056, np.float64(0.022097086912079608)), (3057, np.float64(0.0)), (3058, np.float64(0.0)), (3059, np.float64(0.036084391824351615)), (3060, np.float64(0.023836564731139806)), (3061, np.float64(0.042874646285627205)), (3062, np.float64(0.0)), (3063, np.float64(0.0)), (3064, np.float64(0.05270462766947299)), (3065, np.float64(0.024056261216234404)), (3066, np.float64(0.0)), (3067, np.float64(0.0)), (3068, np.float64(0.04564354645876383)), (3069, np.float64(0.0)), (3070, np.float64(0.039528470752104736)), (3071, np.float64(0.0)), (3072, np.float64(0.0)), (3073, np.float64(0.0)), (3074, np.float64(0.01833088937766916)), (3075, np.float64(0.08111071056538126)), (3076, np.float64(0.06735198826004057)), (3077, np.float64(0.0)), (3078, np.float64(0.0)), (3079, np.float64(0.08333333333333333)), (3080, np.float64(0.0)), (3081, np.float64(0.0)), (3082, np.float64(0.0)), (3083, np.float64(0.0)), (3084, np.float64(0.07372097807744857)), (3085, np.float64(0.0)), (3086, np.float64(0.0)), (3087, np.float64(0.062499999999999986)), (3088, np.float64(0.026958193300859603)), (3089, np.float64(0.057353933467640436)), (3090, np.float64(0.03466876226407682)), (3091, np.float64(0.0236227795630767)), (3092, np.float64(0.06565321642986127)), (3093, np.float64(0.029880715233359837)), (3094, np.float64(0.03857583749052298)), (3095, np.float64(0.015386436372416592)), (3096, np.float64(0.0)), (3097, np.float64(0.0)), (3098, np.float64(0.0)), (3099, np.float64(0.0)), (3100, np.float64(0.05661385170722978)), (3101, np.float64(0.039528470752104736)), (3102, np.float64(0.0)), (3103, np.float64(0.03466876226407682)), (3104, np.float64(0.0)), (3105, np.float64(0.0)), (3106, np.float64(0.0)), (3107, np.float64(0.0)), (3108, np.float64(0.06565321642986127)), (3109, np.float64(0.0)), (3110, np.float64(0.0)), (3111, np.float64(0.0)), (3112, np.float64(0.0)), (3113, np.float64(0.03227486121839514)), (3114, np.float64(0.03340765523905304)), (3115, np.float64(0.04055535528269063)), (3116, np.float64(0.0)), (3117, np.float64(0.041666666666666664)), (3118, np.float64(0.052128603514268686)), (3119, np.float64(0.0)), (3120, np.float64(0.0)), (3121, np.float64(0.0)), (3122, np.float64(0.0)), (3123, np.float64(0.0)), (3124, np.float64(0.0)), (3125, np.float64(0.031249999999999993)), (3126, np.float64(0.0)), (3127, np.float64(0.036860489038724284)), (3128, np.float64(0.0)), (3129, np.float64(0.031750031750047626)), (3130, np.float64(0.04767312946227961)), (3131, np.float64(0.06933752452815364)), (3132, np.float64(0.0)), (3133, np.float64(0.031249999999999993)), (3134, np.float64(0.0)), (3135, np.float64(0.030316953129541614)), (3136, np.float64(0.0)), (3137, np.float64(0.0)), (3138, np.float64(0.11952286093343935)), (3139, np.float64(0.07905694150420947)), (3140, np.float64(0.06293860187225167)), (3141, np.float64(0.0)), (3142, np.float64(0.0)), (3143, np.float64(0.0)), (3144, np.float64(0.0472455591261534)), (3145, np.float64(0.12247448713915887)), (3146, np.float64(0.06933752452815364)), (3147, np.float64(0.05892556509887895)), (3148, np.float64(0.0)), (3149, np.float64(0.0)), (3150, np.float64(0.11180339887498948)), (3151, np.float64(0.04682929057908469)), (3152, np.float64(0.0)), (3153, np.float64(0.039528470752104736)), (3154, np.float64(0.0)), (3155, np.float64(0.036084391824351615)), (3156, np.float64(0.02245066275334686)), (3157, np.float64(0.0)), (3158, np.float64(0.0)), (3159, np.float64(0.0)), (3160, np.float64(0.02321191727213148)), (3161, np.float64(0.0)), (3162, np.float64(0.0)), (3163, np.float64(0.0)), (3164, np.float64(0.22645540682891913)), (3165, np.float64(0.0)), (3166, np.float64(0.024999999999999998)), (3167, np.float64(0.08183170883849714)), (3168, np.float64(0.0)), (3169, np.float64(0.0)), (3170, np.float64(0.0)), (3171, np.float64(0.029061909685954818)), (3172, np.float64(0.0)), (3173, np.float64(0.026352313834736494)), (3174, np.float64(0.06681531047810609)), (3175, np.float64(0.04055535528269063)), (3176, np.float64(0.0)), (3177, np.float64(0.0)), (3178, np.float64(0.0)), (3179, np.float64(0.035355339059327376)), (3180, np.float64(0.0)), (3181, np.float64(0.0)), (3182, np.float64(0.10660035817780521)), (3183, np.float64(0.0)), (3184, np.float64(0.02830692585361489)), (3185, np.float64(0.0)), (3186, np.float64(0.02551551815399144)), (3187, np.float64(0.018738292224896536)), (3188, np.float64(0.0)), (3189, np.float64(0.0)), (3190, np.float64(0.04642383454426296)), (3191, np.float64(0.026064301757134343)), (3192, np.float64(0.0)), (3193, np.float64(0.0)), (3194, np.float64(0.0)), (3195, np.float64(0.0)), (3196, np.float64(0.0)), (3197, np.float64(0.026064301757134343)), (3198, np.float64(0.0)), (3199, np.float64(0.03812464258315116)), (3200, np.float64(0.0)), (3201, np.float64(0.06577935144802718)), (3202, np.float64(0.0)), (3203, np.float64(0.0)), (3204, np.float64(0.025785531156469834)), (3205, np.float64(0.0)), (3206, np.float64(0.024282146558931603)), (3207, np.float64(0.036860489038724284)), (3208, np.float64(0.0)), (3209, np.float64(0.036084391824351615)), (3210, np.float64(0.09752368720068673)), (3211, np.float64(0.036084391824351615)), (3212, np.float64(0.0)), (3213, np.float64(0.0)), (3214, np.float64(0.0)), (3215, np.float64(0.0)), (3216, np.float64(0.0)), (3217, np.float64(0.039528470752104736)), (3218, np.float64(0.029061909685954818)), (3219, np.float64(0.0)), (3220, np.float64(0.0)), (3221, np.float64(0.0)), (3222, np.float64(0.036860489038724284)), (3223, np.float64(0.024514516892273002)), (3224, np.float64(0.0)), (3225, np.float64(0.0)), (3226, np.float64(0.044661850063156025)), (3227, np.float64(0.10206207261596575)), (3228, np.float64(0.0)), (3229, np.float64(0.0)), (3230, np.float64(0.0)), (3231, np.float64(0.028676966733820218)), (3232, np.float64(0.0)), (3233, np.float64(0.10425720702853737)), (3234, np.float64(0.08838834764831843)), (3235, np.float64(0.024282146558931603)), (3236, np.float64(0.06063390625908323)), (3237, np.float64(0.0)), (3238, np.float64(0.0)), (3239, np.float64(0.0)), (3240, np.float64(0.0)), (3241, np.float64(0.08111071056538126)), (3242, np.float64(0.0)), (3243, np.float64(0.0)), (3244, np.float64(0.05050762722761053)), (3245, np.float64(0.0)), (3246, np.float64(0.0236227795630767)), (3247, np.float64(0.0)), (3248, np.float64(0.0)), (3249, np.float64(0.029880715233359837)), (3250, np.float64(0.0)), (3251, np.float64(0.03466876226407682)), (3252, np.float64(0.0)), (3253, np.float64(0.18446619684315546)), (3254, np.float64(0.0)), (3255, np.float64(0.0)), (3256, np.float64(0.020412414523193145)), (3257, np.float64(0.035355339059327376)), (3258, np.float64(0.0)), (3259, np.float64(0.06063390625908323)), (3260, np.float64(0.0)), (3261, np.float64(0.1270001270001905)), (3262, np.float64(0.09682458365518541)), (3263, np.float64(0.031750031750047626)), (3264, np.float64(0.0)), (3265, np.float64(0.0)), (3266, np.float64(0.0)), (3267, np.float64(0.0)), (3268, np.float64(0.028676966733820218)), (3269, np.float64(0.022097086912079608)), (3270, np.float64(0.0)), (3271, np.float64(0.0)), (3272, np.float64(0.01988893210439325)), (3273, np.float64(0.0)), (3274, np.float64(0.0)), (3275, np.float64(0.06350006350009525)), (3276, np.float64(0.058123819371909635)), (3277, np.float64(0.020833333333333332)), (3278, np.float64(0.0)), (3279, np.float64(0.0)), (3280, np.float64(0.0)), (3281, np.float64(0.0)), (3282, np.float64(0.02795084971874737)), (3283, np.float64(0.053300179088902604)), (3284, np.float64(0.0)), (3285, np.float64(0.0)), (3286, np.float64(0.044194173824159216)), (3287, np.float64(0.18042195912175807)), (3288, np.float64(0.04055535528269063)), (3289, np.float64(0.0)), (3290, np.float64(0.0)), (3291, np.float64(0.0)), (3292, np.float64(0.03589790793088691)), (3293, np.float64(0.08718572905786445)), (3294, np.float64(0.0)), (3295, np.float64(0.06350006350009525)), (3296, np.float64(0.04564354645876383)), (3297, np.float64(0.029061909685954818)), (3298, np.float64(0.05050762722761053)), (3299, np.float64(0.08964214570007951)), (3300, np.float64(0.0)), (3301, np.float64(0.08111071056538126)), (3302, np.float64(0.0)), (3303, np.float64(0.0)), (3304, np.float64(0.0)), (3305, np.float64(0.05103103630798288)), (3306, np.float64(0.03768891807222045)), (3307, np.float64(0.04856429311786321)), (3308, np.float64(0.07426106572325056)), (3309, np.float64(0.0)), (3310, np.float64(0.0)), (3311, np.float64(0.03726779962499649)), (3312, np.float64(0.06350006350009525)), (3313, np.float64(0.02926028679903264)), (3314, np.float64(0.0)), (3315, np.float64(0.0)), (3316, np.float64(0.0)), (3317, np.float64(0.035355339059327376)), (3318, np.float64(0.058123819371909635)), (3319, np.float64(0.0)), (3320, np.float64(0.09682458365518541)), (3321, np.float64(0.0)), (3322, np.float64(0.0)), (3323, np.float64(0.0)), (3324, np.float64(0.02321191727213148)), (3325, np.float64(0.0)), (3326, np.float64(0.0)), (3327, np.float64(0.0)), (3328, np.float64(0.049029033784546004)), (3329, np.float64(0.016413304107465318)), (3330, np.float64(0.0)), (3331, np.float64(0.049029033784546004)), (3332, np.float64(0.0)), (3333, np.float64(0.0)), (3334, np.float64(0.07071067811865475)), (3335, np.float64(0.03340765523905304)), (3336, np.float64(0.0)), (3337, np.float64(0.02321191727213148)), (3338, np.float64(0.22941573387056174)), (3339, np.float64(0.073543550676819)), (3340, np.float64(0.0)), (3341, np.float64(0.0)), (3342, np.float64(0.0)), (3343, np.float64(0.0)), (3344, np.float64(0.0)), (3345, np.float64(0.1494035761667992)), (3346, np.float64(0.0)), (3347, np.float64(0.029880715233359837)), (3348, np.float64(0.0)), (3349, np.float64(0.0)), (3350, np.float64(0.0753778361444409)), (3351, np.float64(0.06681531047810609)), (3352, np.float64(0.062499999999999986)), (3353, np.float64(0.15811388300841897)), (3354, np.float64(0.13130643285972254)), (3355, np.float64(0.05521576303742327)), (3356, np.float64(0.02795084971874737)), (3357, np.float64(0.0)), (3358, np.float64(0.0)), (3359, np.float64(0.06293860187225167)), (3360, np.float64(0.06681531047810609)), (3361, np.float64(0.09805806756909201)), (3362, np.float64(0.0)), (3363, np.float64(0.031750031750047626)), (3364, np.float64(0.0)), (3365, np.float64(0.03857583749052298)), (3366, np.float64(0.0314970394174356)), (3367, np.float64(0.0)), (3368, np.float64(0.026064301757134343)), (3369, np.float64(0.024753688574416854)), (3370, np.float64(0.019641855032959652)), (3371, np.float64(0.0)), (3372, np.float64(0.07071067811865475)), (3373, np.float64(0.0)), (3374, np.float64(0.06681531047810609)), (3375, np.float64(0.06509445549041193)), (3376, np.float64(0.0)), (3377, np.float64(0.015445051580380386)), (3378, np.float64(0.024056261216234404)), (3379, np.float64(0.0)), (3380, np.float64(0.057863756235784464)), (3381, np.float64(0.0)), (3382, np.float64(0.0)), (3383, np.float64(0.0)), (3384, np.float64(0.029880715233359837)), (3385, np.float64(0.0)), (3386, np.float64(0.0)), (3387, np.float64(0.073543550676819)), (3388, np.float64(0.023836564731139806)), (3389, np.float64(0.0)), (3390, np.float64(0.025253813613805264)), (3391, np.float64(0.0)), (3392, np.float64(0.0)), (3393, np.float64(0.07372097807744857)), (3394, np.float64(0.031750031750047626)), (3395, np.float64(0.0)), (3396, np.float64(0.036860489038724284)), (3397, np.float64(0.024056261216234404)), (3398, np.float64(0.023414645289542346)), (3399, np.float64(0.0828236445561349)), (3400, np.float64(0.0)), (3401, np.float64(0.06565321642986127)), (3402, np.float64(0.016854996561581053)), (3403, np.float64(0.023414645289542346)), (3404, np.float64(0.0)), (3405, np.float64(0.10101525445522105)), (3406, np.float64(0.024282146558931603)), (3407, np.float64(0.06063390625908323)), (3408, np.float64(0.029462782549439476)), (3409, np.float64(0.0)), (3410, np.float64(0.0)), (3411, np.float64(0.04055535528269063)), (3412, np.float64(0.07284643967679481)), (3413, np.float64(0.0)), (3414, np.float64(0.05661385170722978)), (3415, np.float64(0.0)), (3416, np.float64(0.027277236279499045)), (3417, np.float64(0.0)), (3418, np.float64(0.07715167498104596)), (3419, np.float64(0.06933752452815364)), (3420, np.float64(0.026064301757134343)), (3421, np.float64(0.0)), (3422, np.float64(0.031249999999999993)), (3423, np.float64(0.0)), (3424, np.float64(0.0)), (3425, np.float64(0.0)), (3426, np.float64(0.11952286093343936)), (3427, np.float64(0.03466876226407682)), (3428, np.float64(0.0)), (3429, np.float64(0.0)), (3430, np.float64(0.0)), (3431, np.float64(0.05455447255899809)), (3432, np.float64(0.027277236279499045)), (3433, np.float64(0.05892556509887895)), (3434, np.float64(0.041666666666666664)), (3435, np.float64(0.0)), (3436, np.float64(0.10022296571715913)), (3437, np.float64(0.0)), (3438, np.float64(0.0)), (3439, np.float64(0.044194173824159216)), (3440, np.float64(0.0)), (3441, np.float64(0.024514516892273002)), (3442, np.float64(0.0)), (3443, np.float64(0.0)), (3444, np.float64(0.0)), (3445, np.float64(0.0)), (3446, np.float64(0.0)), (3447, np.float64(0.06350006350009525)), (3448, np.float64(0.0)), (3449, np.float64(0.02795084971874737)), (3450, np.float64(0.02551551815399144)), (3451, np.float64(0.0)), (3452, np.float64(0.022633936510629633)), (3453, np.float64(0.0)), (3454, np.float64(0.0)), (3455, np.float64(0.0)), (3456, np.float64(0.0708683386892301)), (3457, np.float64(0.0)), (3458, np.float64(0.0)), (3459, np.float64(0.022097086912079608)), (3460, np.float64(0.0)), (3461, np.float64(0.0)), (3462, np.float64(0.025785531156469834)), (3463, np.float64(0.0)), (3464, np.float64(0.0)), (3465, np.float64(0.07216878364870323)), (3466, np.float64(0.0)), (3467, np.float64(0.0)), (3468, np.float64(0.0)), (3469, np.float64(0.031750031750047626)), (3470, np.float64(0.026650089544451302)), (3471, np.float64(0.026064301757134343)), (3472, np.float64(0.025253813613805264)), (3473, np.float64(0.0)), (3474, np.float64(0.0)), (3475, np.float64(0.0)), (3476, np.float64(0.053916386601719206)), (3477, np.float64(0.0)), (3478, np.float64(0.034020690871988585)), (3479, np.float64(0.08058229640253801)), (3480, np.float64(0.0)), (3481, np.float64(0.0)), (3482, np.float64(0.0)), (3483, np.float64(0.0)), (3484, np.float64(0.0)), (3485, np.float64(0.0)), (3486, np.float64(0.0)), (3487, np.float64(0.042874646285627205)), (3488, np.float64(0.0)), (3489, np.float64(0.0)), (3490, np.float64(0.03857583749052298)), (3491, np.float64(0.05103103630798288)), (3492, np.float64(0.0472455591261534)), (3493, np.float64(0.0)), (3494, np.float64(0.08838834764831843)), (3495, np.float64(0.0)), (3496, np.float64(0.14731391274719738)), (3497, np.float64(0.0)), (3498, np.float64(0.039528470752104736)), (3499, np.float64(0.0)), (3500, np.float64(0.03768891807222045)), (3501, np.float64(0.0)), (3502, np.float64(0.021759706994462225)), (3503, np.float64(0.0)), (3504, np.float64(0.0)), (3505, np.float64(0.05590169943749474)), (3506, np.float64(0.07284643967679481)), (3507, np.float64(0.016629752630943483)), (3508, np.float64(0.04055535528269063)), (3509, np.float64(0.06154574548966637)), (3510, np.float64(0.059761430466719674)), (3511, np.float64(0.041666666666666664)), (3512, np.float64(0.02128141326896871)), (3513, np.float64(0.0)), (3514, np.float64(0.0)), (3515, np.float64(0.0)), (3516, np.float64(0.0)), (3517, np.float64(0.0)), (3518, np.float64(0.039528470752104736)), (3519, np.float64(0.0)), (3520, np.float64(0.04082482904638629)), (3521, np.float64(0.0)), (3522, np.float64(0.0)), (3523, np.float64(0.0)), (3524, np.float64(0.059761430466719674)), (3525, np.float64(0.08838834764831843)), (3526, np.float64(0.042874646285627205)), (3527, np.float64(0.0)), (3528, np.float64(0.06063390625908323)), (3529, np.float64(0.0)), (3530, np.float64(0.0)), (3531, np.float64(0.0)), (3532, np.float64(0.0)), (3533, np.float64(0.0)), (3534, np.float64(0.0)), (3535, np.float64(0.06804138174397717)), (3536, np.float64(0.0)), (3537, np.float64(0.0)), (3538, np.float64(0.0)), (3539, np.float64(0.05521576303742327)), (3540, np.float64(0.0)), (3541, np.float64(0.06063390625908323)), (3542, np.float64(0.0)), (3543, np.float64(0.04385290096535146)), (3544, np.float64(0.05103103630798288)), (3545, np.float64(0.0)), (3546, np.float64(0.03857583749052298)), (3547, np.float64(0.030772872744833184)), (3548, np.float64(0.0)), (3549, np.float64(0.0)), (3550, np.float64(0.062499999999999986)), (3551, np.float64(0.024056261216234404)), (3552, np.float64(0.0)), (3553, np.float64(0.0)), (3554, np.float64(0.0)), (3555, np.float64(0.09847982464479191)), (3556, np.float64(0.07071067811865475)), (3557, np.float64(0.0)), (3558, np.float64(0.0)), (3559, np.float64(0.0)), (3560, np.float64(0.0)), (3561, np.float64(0.041666666666666664)), (3562, np.float64(0.0)), (3563, np.float64(0.0)), (3564, np.float64(0.0)), (3565, np.float64(0.0)), (3566, np.float64(0.0)), (3567, np.float64(0.027607881518711633)), (3568, np.float64(0.0)), (3569, np.float64(0.02830692585361489)), (3570, np.float64(0.035355339059327376)), (3571, np.float64(0.029462782549439476)), (3572, np.float64(0.026650089544451302)), (3573, np.float64(0.0)), (3574, np.float64(0.0)), (3575, np.float64(0.0)), (3576, np.float64(0.041666666666666664)), (3577, np.float64(0.044194173824159216)), (3578, np.float64(0.0)), (3579, np.float64(0.0)), (3580, np.float64(0.0)), (3581, np.float64(0.04195906791483445)), (3582, np.float64(0.0)), (3583, np.float64(0.0)), (3584, np.float64(0.0)), (3585, np.float64(0.0)), (3586, np.float64(0.024753688574416854)), (3587, np.float64(0.0)), (3588, np.float64(0.07372097807744857)), (3589, np.float64(0.039528470752104736)), (3590, np.float64(0.025253813613805264)), (3591, np.float64(0.06933752452815364)), (3592, np.float64(0.029462782549439476)), (3593, np.float64(0.10660035817780521)), (3594, np.float64(0.0)), (3595, np.float64(0.0)), (3596, np.float64(0.032826608214930636)), (3597, np.float64(0.0)), (3598, np.float64(0.0)), (3599, np.float64(0.0)), (3600, np.float64(0.08838834764831843)), (3601, np.float64(0.03466876226407682)), (3602, np.float64(0.020833333333333332)), (3603, np.float64(0.057353933467640436)), (3604, np.float64(0.0)), (3605, np.float64(0.06846531968814575)), (3606, np.float64(0.022271770159368695)), (3607, np.float64(0.030316953129541614)), (3608, np.float64(0.027607881518711633)), (3609, np.float64(0.025785531156469834)), (3610, np.float64(0.0)), (3611, np.float64(0.0)), (3612, np.float64(0.10660035817780521)), (3613, np.float64(0.0)), (3614, np.float64(0.0)), (3615, np.float64(0.060436722301903514)), (3616, np.float64(0.0)), (3617, np.float64(0.030772872744833184)), (3618, np.float64(0.0808745799025788)), (3619, np.float64(0.0753778361444409)), (3620, np.float64(0.14153462926807447)), (3621, np.float64(0.0)), (3622, np.float64(0.029061909685954818)), (3623, np.float64(0.0)), (3624, np.float64(0.029061909685954818)), (3625, np.float64(0.07905694150420947)), (3626, np.float64(0.0)), (3627, np.float64(0.0)), (3628, np.float64(0.0236227795630767)), (3629, np.float64(0.0)), (3630, np.float64(0.020016019225635888)), (3631, np.float64(0.0)), (3632, np.float64(0.0)), (3633, np.float64(0.023836564731139806)), (3634, np.float64(0.0)), (3635, np.float64(0.0)), (3636, np.float64(0.05270462766947299)), (3637, np.float64(0.0)), (3638, np.float64(0.024282146558931603)), (3639, np.float64(0.03340765523905304)), (3640, np.float64(0.0)), (3641, np.float64(0.04856429311786321)), (3642, np.float64(0.03768891807222045)), (3643, np.float64(0.026352313834736494)), (3644, np.float64(0.05270462766947299)), (3645, np.float64(0.053300179088902604)), (3646, np.float64(0.024753688574416854)), (3647, np.float64(0.024753688574416854)), (3648, np.float64(0.035355339059327376)), (3649, np.float64(0.0)), (3650, np.float64(0.0)), (3651, np.float64(0.0)), (3652, np.float64(0.0)), (3653, np.float64(0.028676966733820218)), (3654, np.float64(0.0)), (3655, np.float64(0.0)), (3656, np.float64(0.0)), (3657, np.float64(0.0)), (3658, np.float64(0.0)), (3659, np.float64(0.07372097807744857)), (3660, np.float64(0.0)), (3661, np.float64(0.039528470752104736)), (3662, np.float64(0.026650089544451302)), (3663, np.float64(0.0)), (3664, np.float64(0.0)), (3665, np.float64(0.0)), (3666, np.float64(0.014153462926807445)), (3667, np.float64(0.0)), (3668, np.float64(0.034836650714580884)), (3669, np.float64(0.02795084971874737)), (3670, np.float64(0.03466876226407682)), (3671, np.float64(0.10783277320343841)), (3672, np.float64(0.0)), (3673, np.float64(0.058123819371909635)), (3674, np.float64(0.07372097807744857)), (3675, np.float64(0.062499999999999986)), (3676, np.float64(0.02192645048267573)), (3677, np.float64(0.0)), (3678, np.float64(0.0)), (3679, np.float64(0.0)), (3680, np.float64(0.0)), (3681, np.float64(0.0)), (3682, np.float64(0.0)), (3683, np.float64(0.02551551815399144)), (3684, np.float64(0.0)), (3685, np.float64(0.0)), (3686, np.float64(0.0)), (3687, np.float64(0.0)), (3688, np.float64(0.05892556509887895)), (3689, np.float64(0.0)), (3690, np.float64(0.04055535528269063)), (3691, np.float64(0.04246038878042234)), (3692, np.float64(0.021128856368212913)), (3693, np.float64(0.0828236445561349)), (3694, np.float64(0.0)), (3695, np.float64(0.0)), (3696, np.float64(0.0)), (3697, np.float64(0.0)), (3698, np.float64(0.04490132550669372)), (3699, np.float64(0.026958193300859603)), (3700, np.float64(0.0)), (3701, np.float64(0.05050762722761053)), (3702, np.float64(0.0773565934694095)), (3703, np.float64(0.023414645289542346)), (3704, np.float64(0.034020690871988585)), (3705, np.float64(0.03340765523905304)), (3706, np.float64(0.0)), (3707, np.float64(0.0)), (3708, np.float64(0.0)), (3709, np.float64(0.0)), (3710, np.float64(0.0)), (3711, np.float64(0.021596710639534)), (3712, np.float64(0.0)), (3713, np.float64(0.032826608214930636)), (3714, np.float64(0.0)), (3715, np.float64(0.02830692585361489)), (3716, np.float64(0.0)), (3717, np.float64(0.0)), (3718, np.float64(0.10206207261596575)), (3719, np.float64(0.12862393885688161)), (3720, np.float64(0.027277236279499045)), (3721, np.float64(0.031249999999999993)), (3722, np.float64(0.0)), (3723, np.float64(0.0)), (3724, np.float64(0.0)), (3725, np.float64(0.0)), (3726, np.float64(0.042874646285627205)), (3727, np.float64(0.026352313834736494)), (3728, np.float64(0.12166606584807188)), (3729, np.float64(0.09284766908852592)), (3730, np.float64(0.057863756235784464)), (3731, np.float64(0.08838834764831843)), (3732, np.float64(0.0)), (3733, np.float64(0.0)), (3734, np.float64(0.0)), (3735, np.float64(0.0)), (3736, np.float64(0.0)), (3737, np.float64(0.07808688094430302)), (3738, np.float64(0.06904309634237427)), (3739, np.float64(0.0)), (3740, np.float64(0.0)), (3741, np.float64(0.0)), (3742, np.float64(0.0)), (3743, np.float64(0.0)), (3744, np.float64(0.030316953129541614)), (3745, np.float64(0.0)), (3746, np.float64(0.0)), (3747, np.float64(0.0)), (3748, np.float64(0.0)), (3749, np.float64(0.0)), (3750, np.float64(0.0)), (3751, np.float64(0.0)), (3752, np.float64(0.0)), (3753, np.float64(0.05590169943749474)), (3754, np.float64(0.043193421279068)), (3755, np.float64(0.0)), (3756, np.float64(0.044194173824159216)), (3757, np.float64(0.0)), (3758, np.float64(0.0)), (3759, np.float64(0.029880715233359837)), (3760, np.float64(0.0236227795630767)), (3761, np.float64(0.0)), (3762, np.float64(0.029061909685954818)), (3763, np.float64(0.0)), (3764, np.float64(0.06350006350009525)), (3765, np.float64(0.0)), (3766, np.float64(0.0)), (3767, np.float64(0.0)), (3768, np.float64(0.13363062095621217)), (3769, np.float64(0.039528470752104736)), (3770, np.float64(0.06565321642986127)), (3771, np.float64(0.0)), (3772, np.float64(0.0)), (3773, np.float64(0.0)), (3774, np.float64(0.0)), (3775, np.float64(0.0)), (3776, np.float64(0.031750031750047626)), (3777, np.float64(0.0)), (3778, np.float64(0.06063390625908323)), (3779, np.float64(0.0)), (3780, np.float64(0.0)), (3781, np.float64(0.026958193300859603)), (3782, np.float64(0.0)), (3783, np.float64(0.031249999999999993)), (3784, np.float64(0.03768891807222045)), (3785, np.float64(0.0)), (3786, np.float64(0.0)), (3787, np.float64(0.0)), (3788, np.float64(0.029880715233359837)), (3789, np.float64(0.040032038451271776)), (3790, np.float64(0.0)), (3791, np.float64(0.0)), (3792, np.float64(0.0)), (3793, np.float64(0.04950737714883371)), (3794, np.float64(0.036084391824351615)), (3795, np.float64(0.01708964817561658)), (3796, np.float64(0.0)), (3797, np.float64(0.0)), (3798, np.float64(0.0)), (3799, np.float64(0.05157106231293967)), (3800, np.float64(0.0)), (3801, np.float64(0.030316953129541614)), (3802, np.float64(0.0)), (3803, np.float64(0.0799502686333539)), (3804, np.float64(0.0)), (3805, np.float64(0.02321191727213148)), (3806, np.float64(0.0)), (3807, np.float64(0.019764235376052368)), (3808, np.float64(0.015686395128453965)), (3809, np.float64(0.029061909685954818)), (3810, np.float64(0.023836564731139806)), (3811, np.float64(0.0)), (3812, np.float64(0.025253813613805264)), (3813, np.float64(0.0)), (3814, np.float64(0.029061909685954818)), (3815, np.float64(0.0)), (3816, np.float64(0.0)), (3817, np.float64(0.0)), (3818, np.float64(0.0)), (3819, np.float64(0.0)), (3820, np.float64(0.0236227795630767)), (3821, np.float64(0.030772872744833184)), (3822, np.float64(0.036084391824351615)), (3823, np.float64(0.05455447255899809)), (3824, np.float64(0.0)), (3825, np.float64(0.01833088937766916)), (3826, np.float64(0.0)), (3827, np.float64(0.0)), (3828, np.float64(0.0)), (3829, np.float64(0.022097086912079608)), (3830, np.float64(0.08574929257125441)), (3831, np.float64(0.0)), (3832, np.float64(0.06804138174397717)), (3833, np.float64(0.0)), (3834, np.float64(0.02795084971874737)), (3835, np.float64(0.036860489038724284)), (3836, np.float64(0.0)), (3837, np.float64(0.0753778361444409)), (3838, np.float64(0.039528470752104736)), (3839, np.float64(0.0)), (3840, np.float64(0.036860489038724284)), (3841, np.float64(0.024999999999999998)), (3842, np.float64(0.024282146558931603)), (3843, np.float64(0.0799502686333539)), (3844, np.float64(0.0)), (3845, np.float64(0.0)), (3846, np.float64(0.0472455591261534)), (3847, np.float64(0.0)), (3848, np.float64(0.0)), (3849, np.float64(0.029061909685954818)), (3850, np.float64(0.0)), (3851, np.float64(0.0)), (3852, np.float64(0.0944911182523068)), (3853, np.float64(0.07905694150420949)), (3854, np.float64(0.07071067811865475)), (3855, np.float64(0.06933752452815364)), (3856, np.float64(0.03768891807222045)), (3857, np.float64(0.0)), (3858, np.float64(0.030772872744833184)), (3859, np.float64(0.03857583749052298)), (3860, np.float64(0.061649620239508984)), (3861, np.float64(0.11858541225631421)), (3862, np.float64(0.0)), (3863, np.float64(0.034020690871988585)), (3864, np.float64(0.0)), (3865, np.float64(0.0)), (3866, np.float64(0.0)), (3867, np.float64(0.02321191727213148)), (3868, np.float64(0.0)), (3869, np.float64(0.0)), (3870, np.float64(0.023414645289542346)), (3871, np.float64(0.0)), (3872, np.float64(0.02795084971874737)), (3873, np.float64(0.03857583749052298)), (3874, np.float64(0.0)), (3875, np.float64(0.036084391824351615)), (3876, np.float64(0.0)), (3877, np.float64(0.04856429311786321)), (3878, np.float64(0.0)), (3879, np.float64(0.024753688574416854)), (3880, np.float64(0.0)), (3881, np.float64(0.0)), (3882, np.float64(0.03466876226407682)), (3883, np.float64(0.0)), (3884, np.float64(0.036860489038724284)), (3885, np.float64(0.031750031750047626)), (3886, np.float64(0.10660035817780521)), (3887, np.float64(0.0)), (3888, np.float64(0.09525009525014289)), (3889, np.float64(0.0)), (3890, np.float64(0.020277677641345315)), (3891, np.float64(0.059761430466719674)), (3892, np.float64(0.0)), (3893, np.float64(0.0)), (3894, np.float64(0.0)), (3895, np.float64(0.016484511834894675)), (3896, np.float64(0.07372097807744857)), (3897, np.float64(0.0)), (3898, np.float64(0.0)), (3899, np.float64(0.0)), (3900, np.float64(0.0)), (3901, np.float64(0.0)), (3902, np.float64(0.0)), (3903, np.float64(0.045267873021259265)), (3904, np.float64(0.0)), (3905, np.float64(0.05050762722761053)), (3906, np.float64(0.0)), (3907, np.float64(0.026064301757134343)), (3908, np.float64(0.0)), (3909, np.float64(0.06933752452815364)), (3910, np.float64(0.0)), (3911, np.float64(0.05821128942797496)), (3912, np.float64(0.0)), (3913, np.float64(0.0)), (3914, np.float64(0.0)), (3915, np.float64(0.0)), (3916, np.float64(0.08333333333333333)), (3917, np.float64(0.0)), (3918, np.float64(0.02551551815399144)), (3919, np.float64(0.0)), (3920, np.float64(0.0)), (3921, np.float64(0.0)), (3922, np.float64(0.0)), (3923, np.float64(0.0)), (3924, np.float64(0.029462782549439476)), (3925, np.float64(0.0)), (3926, np.float64(0.0)), (3927, np.float64(0.035355339059327376)), (3928, np.float64(0.0)), (3929, np.float64(0.03466876226407682)), (3930, np.float64(0.0)), (3931, np.float64(0.0)), (3932, np.float64(0.05270462766947299)), (3933, np.float64(0.026958193300859603)), (3934, np.float64(0.025253813613805264)), (3935, np.float64(0.0)), (3936, np.float64(0.0)), (3937, np.float64(0.030772872744833184)), (3938, np.float64(0.0)), (3939, np.float64(0.0)), (3940, np.float64(0.022097086912079608)), (3941, np.float64(0.0)), (3942, np.float64(0.0)), (3943, np.float64(0.030316953129541614)), (3944, np.float64(0.03466876226407682)), (3945, np.float64(0.019521720236075756)), (3946, np.float64(0.062070441645177596)), (3947, np.float64(0.0944911182523068)), (3948, np.float64(0.02321191727213148)), (3949, np.float64(0.049453535504684024)), (3950, np.float64(0.0)), (3951, np.float64(0.0)), (3952, np.float64(0.036860489038724284)), (3953, np.float64(0.0)), (3954, np.float64(0.0)), (3955, np.float64(0.0)), (3956, np.float64(0.0)), (3957, np.float64(0.0)), (3958, np.float64(0.01708964817561658)), (3959, np.float64(0.0)), (3960, np.float64(0.0)), (3961, np.float64(0.0)), (3962, np.float64(0.0)), (3963, np.float64(0.0)), (3964, np.float64(0.0)), (3965, np.float64(0.0)), (3966, np.float64(0.06804138174397717)), (3967, np.float64(0.0)), (3968, np.float64(0.0)), (3969, np.float64(0.03857583749052298)), (3970, np.float64(0.07905694150420947)), (3971, np.float64(0.0)), (3972, np.float64(0.0)), (3973, np.float64(0.1543033499620919)), (3974, np.float64(0.039528470752104736)), (3975, np.float64(0.0)), (3976, np.float64(0.09128709291752767)), (3977, np.float64(0.03466876226407682)), (3978, np.float64(0.0)), (3979, np.float64(0.0)), (3980, np.float64(0.07372097807744857)), (3981, np.float64(0.0)), (3982, np.float64(0.031249999999999993)), (3983, np.float64(0.0)), (3984, np.float64(0.0)), (3985, np.float64(0.0)), (3986, np.float64(0.04564354645876383)), (3987, np.float64(0.0)), (3988, np.float64(0.024999999999999998)), (3989, np.float64(0.0)), (3990, np.float64(0.049999999999999996)), (3991, np.float64(0.0)), (3992, np.float64(0.036084391824351615)), (3993, np.float64(0.0)), (3994, np.float64(0.0)), (3995, np.float64(0.023014365447458086)), (3996, np.float64(0.0)), (3997, np.float64(0.06565321642986127)), (3998, np.float64(0.044194173824159216)), (3999, np.float64(0.0)), (4000, np.float64(0.0)), (4001, np.float64(0.06384423980690614)), (4002, np.float64(0.0)), (4003, np.float64(0.0)), (4004, np.float64(0.0)), (4005, np.float64(0.0)), (4006, np.float64(0.0)), (4007, np.float64(0.0)), (4008, np.float64(0.17149858514250882)), (4009, np.float64(0.0)), (4010, np.float64(0.0)), (4011, np.float64(0.0)), (4012, np.float64(0.0)), (4013, np.float64(0.10067340828210364)), (4014, np.float64(0.0)), (4015, np.float64(0.0)), (4016, np.float64(0.036084391824351615)), (4017, np.float64(0.018233123937236816)), (4018, np.float64(0.0)), (4019, np.float64(0.0)), (4020, np.float64(0.021596710639534)), (4021, np.float64(0.0)), (4022, np.float64(0.03627381250550058)), (4023, np.float64(0.03857583749052298)), (4024, np.float64(0.0472455591261534)), (4025, np.float64(0.0)), (4026, np.float64(0.015158476564770807)), (4027, np.float64(0.0)), (4028, np.float64(0.0)), (4029, np.float64(0.0)), (4030, np.float64(0.0)), (4031, np.float64(0.0)), (4032, np.float64(0.0)), (4033, np.float64(0.0)), (4034, np.float64(0.0)), (4035, np.float64(0.06154574548966637)), (4036, np.float64(0.0)), (4037, np.float64(0.031249999999999993)), (4038, np.float64(0.0)), (4039, np.float64(0.0)), (4040, np.float64(0.0)), (4041, np.float64(0.0)), (4042, np.float64(0.04055535528269063)), (4043, np.float64(0.08183170883849714)), (4044, np.float64(0.032826608214930636)), (4045, np.float64(0.027277236279499045)), (4046, np.float64(0.103450736075296)), (4047, np.float64(0.0)), (4048, np.float64(0.0)), (4049, np.float64(0.0)), (4050, np.float64(0.0)), (4051, np.float64(0.0)), (4052, np.float64(0.0)), (4053, np.float64(0.029462782549439476)), (4054, np.float64(0.0)), (4055, np.float64(0.04055535528269063)), (4056, np.float64(0.0)), (4057, np.float64(0.0)), (4058, np.float64(0.044194173824159216)), (4059, np.float64(0.036084391824351615)), (4060, np.float64(0.0)), (4061, np.float64(0.0)), (4062, np.float64(0.0)), (4063, np.float64(0.058123819371909635)), (4064, np.float64(0.08111071056538126)), (4065, np.float64(0.049999999999999996)), (4066, np.float64(0.024056261216234404)), (4067, np.float64(0.02795084971874737)), (4068, np.float64(0.0)), (4069, np.float64(0.05103103630798288)), (4070, np.float64(0.0)), (4071, np.float64(0.018952451089472584)), (4072, np.float64(0.0)), (4073, np.float64(0.0)), (4074, np.float64(0.042874646285627205)), (4075, np.float64(0.2611164839335467)), (4076, np.float64(0.08603090020146065)), (4077, np.float64(0.0)), (4078, np.float64(0.0)), (4079, np.float64(0.0)), (4080, np.float64(0.07808688094430302)), (4081, np.float64(0.07819290527140303)), (4082, np.float64(0.04950737714883371)), (4083, np.float64(0.031249999999999993)), (4084, np.float64(0.029061909685954818)), (4085, np.float64(0.026958193300859603)), (4086, np.float64(0.0)), (4087, np.float64(0.02830692585361489)), (4088, np.float64(0.029061909685954818)), (4089, np.float64(0.032826608214930636)), (4090, np.float64(0.0)), (4091, np.float64(0.0)), (4092, np.float64(0.0)), (4093, np.float64(0.057353933467640436)), (4094, np.float64(0.026064301757134343)), (4095, np.float64(0.0)), (4096, np.float64(0.08385254915624211)), (4097, np.float64(0.06454972243679027)), (4098, np.float64(0.0)), (4099, np.float64(0.0)), (4100, np.float64(0.0236227795630767)), (4101, np.float64(0.0)), (4102, np.float64(0.036860489038724284)), (4103, np.float64(0.06681531047810609)), (4104, np.float64(0.02128141326896871)), (4105, np.float64(0.0)), (4106, np.float64(0.0)), (4107, np.float64(0.0)), (4108, np.float64(0.0)), (4109, np.float64(0.01906232129157558)), (4110, np.float64(0.0)), (4111, np.float64(0.0)), (4112, np.float64(0.0)), (4113, np.float64(0.058123819371909635)), (4114, np.float64(0.0)), (4115, np.float64(0.024753688574416854)), (4116, np.float64(0.0)), (4117, np.float64(0.03340765523905304)), (4118, np.float64(0.021759706994462225)), (4119, np.float64(0.0)), (4120, np.float64(0.0)), (4121, np.float64(0.04950737714883371)), (4122, np.float64(0.0)), (4123, np.float64(0.06063390625908323)), (4124, np.float64(0.0)), (4125, np.float64(0.0)), (4126, np.float64(0.0)), (4127, np.float64(0.01620509308880411)), (4128, np.float64(0.041666666666666664)), (4129, np.float64(0.08111071056538126)), (4130, np.float64(0.0)), (4131, np.float64(0.023414645289542346)), (4132, np.float64(0.0)), (4133, np.float64(0.07715167498104596)), (4134, np.float64(0.0)), (4135, np.float64(0.0)), (4136, np.float64(0.02192645048267573)), (4137, np.float64(0.044194173824159216)), (4138, np.float64(0.041666666666666664)), (4139, np.float64(0.062499999999999986)), (4140, np.float64(0.057353933467640436)), (4141, np.float64(0.0)), (4142, np.float64(0.0)), (4143, np.float64(0.036860489038724284)), (4144, np.float64(0.0)), (4145, np.float64(0.0)), (4146, np.float64(0.10660035817780521)), (4147, np.float64(0.041666666666666664)), (4148, np.float64(0.0)), (4149, np.float64(0.04581354163361446)), (4150, np.float64(0.06454972243679027)), (4151, np.float64(0.0)), (4152, np.float64(0.0)), (4153, np.float64(0.0)), (4154, np.float64(0.0)), (4155, np.float64(0.0)), (4156, np.float64(0.0)), (4157, np.float64(0.0)), (4158, np.float64(0.04767312946227961)), (4159, np.float64(0.018430244519362142)), (4160, np.float64(0.07905694150420947)), (4161, np.float64(0.023414645289542346)), (4162, np.float64(0.057353933467640436)), (4163, np.float64(0.0)), (4164, np.float64(0.032826608214930636)), (4165, np.float64(0.0)), (4166, np.float64(0.0)), (4167, np.float64(0.02245066275334686)), (4168, np.float64(0.0)), (4169, np.float64(0.0)), (4170, np.float64(0.026650089544451302)), (4171, np.float64(0.0)), (4172, np.float64(0.0)), (4173, np.float64(0.0)), (4174, np.float64(0.0)), (4175, np.float64(0.0)), (4176, np.float64(0.022271770159368695)), (4177, np.float64(0.0)), (4178, np.float64(0.0)), (4179, np.float64(0.02245066275334686)), (4180, np.float64(0.0)), (4181, np.float64(0.0)), (4182, np.float64(0.0)), (4183, np.float64(0.0)), (4184, np.float64(0.0)), (4185, np.float64(0.053300179088902604)), (4186, np.float64(0.0)), (4187, np.float64(0.05103103630798288)), (4188, np.float64(0.0)), (4189, np.float64(0.0)), (4190, np.float64(0.036860489038724284)), (4191, np.float64(0.0)), (4192, np.float64(0.024514516892273002)), (4193, np.float64(0.0)), (4194, np.float64(0.06681531047810609)), (4195, np.float64(0.0)), (4196, np.float64(0.036084391824351615)), (4197, np.float64(0.0)), (4198, np.float64(0.04602873089491617)), (4199, np.float64(0.06350006350009525)), (4200, np.float64(0.0)), (4201, np.float64(0.0)), (4202, np.float64(0.03340765523905304)), (4203, np.float64(0.0)), (4204, np.float64(0.0)), (4205, np.float64(0.0)), (4206, np.float64(0.0)), (4207, np.float64(0.029462782549439476)), (4208, np.float64(0.02795084971874737)), (4209, np.float64(0.0)), (4210, np.float64(0.0)), (4211, np.float64(0.0)), (4212, np.float64(0.025253813613805264)), (4213, np.float64(0.0)), (4214, np.float64(0.07372097807744857)), (4215, np.float64(0.0)), (4216, np.float64(0.0)), (4217, np.float64(0.0)), (4218, np.float64(0.03340765523905304)), (4219, np.float64(0.03706246583305506)), (4220, np.float64(0.020016019225635888)), (4221, np.float64(0.0)), (4222, np.float64(0.0)), (4223, np.float64(0.014994003597601677)), (4224, np.float64(0.0)), (4225, np.float64(0.04856429311786321)), (4226, np.float64(0.03466876226407682)), (4227, np.float64(0.0)), (4228, np.float64(0.05590169943749474)), (4229, np.float64(0.08574929257125441)), (4230, np.float64(0.0)), (4231, np.float64(0.0)), (4232, np.float64(0.0)), (4233, np.float64(0.03553345272593507)), (4234, np.float64(0.0)), (4235, np.float64(0.0)), (4236, np.float64(0.027277236279499045)), (4237, np.float64(0.04055535528269063)), (4238, np.float64(0.0)), (4239, np.float64(0.0)), (4240, np.float64(0.0)), (4241, np.float64(0.0)), (4242, np.float64(0.015939417826583455)), (4243, np.float64(0.039528470752104736)), (4244, np.float64(0.0)), (4245, np.float64(0.020979533957417223)), (4246, np.float64(0.0)), (4247, np.float64(0.021759706994462225)), (4248, np.float64(0.0)), (4249, np.float64(0.0)), (4250, np.float64(0.01419904585617662)), (4251, np.float64(0.0)), (4252, np.float64(0.03768891807222045)), (4253, np.float64(0.0)), (4254, np.float64(0.0)), (4255, np.float64(0.0)), (4256, np.float64(0.03857583749052298)), (4257, np.float64(0.0)), (4258, np.float64(0.0)), (4259, np.float64(0.08574929257125441)), (4260, np.float64(0.0)), (4261, np.float64(0.026352313834736494)), (4262, np.float64(0.0)), (4263, np.float64(0.0)), (4264, np.float64(0.0)), (4265, np.float64(0.022633936510629633)), (4266, np.float64(0.02795084971874737)), (4267, np.float64(0.0)), (4268, np.float64(0.036860489038724284)), (4269, np.float64(0.0)), (4270, np.float64(0.09682458365518541)), (4271, np.float64(0.10400628679223047)), (4272, np.float64(0.029880715233359837)), (4273, np.float64(0.03466876226407682)), (4274, np.float64(0.027607881518711633)), (4275, np.float64(0.0)), (4276, np.float64(0.04055535528269063)), (4277, np.float64(0.0)), (4278, np.float64(0.0)), (4279, np.float64(0.042874646285627205)), (4280, np.float64(0.0)), (4281, np.float64(0.05590169943749474)), (4282, np.float64(0.0)), (4283, np.float64(0.0)), (4284, np.float64(0.053916386601719206)), (4285, np.float64(0.07372097807744857)), (4286, np.float64(0.02551551815399144)), (4287, np.float64(0.0)), (4288, np.float64(0.0)), (4289, np.float64(0.0)), (4290, np.float64(0.0753778361444409)), (4291, np.float64(0.021596710639534)), (4292, np.float64(0.0)), (4293, np.float64(0.0)), (4294, np.float64(0.0)), (4295, np.float64(0.029061909685954818)), (4296, np.float64(0.062499999999999986)), (4297, np.float64(0.06933752452815364)), (4298, np.float64(0.0)), (4299, np.float64(0.0)), (4300, np.float64(0.0)), (4301, np.float64(0.0)), (4302, np.float64(0.028676966733820218)), (4303, np.float64(0.0753778361444409)), (4304, np.float64(0.04811252243246881)), (4305, np.float64(0.021437323142813602)), (4306, np.float64(0.0)), (4307, np.float64(0.01928791874526149)), (4308, np.float64(0.0)), (4309, np.float64(0.0)), (4310, np.float64(0.0)), (4311, np.float64(0.0)), (4312, np.float64(0.0)), (4313, np.float64(0.031249999999999993)), (4314, np.float64(0.041666666666666664)), (4315, np.float64(0.0)), (4316, np.float64(0.057353933467640436)), (4317, np.float64(0.0)), (4318, np.float64(0.0)), (4319, np.float64(0.03450327796711771)), (4320, np.float64(0.06681531047810609)), (4321, np.float64(0.041666666666666664)), (4322, np.float64(0.0)), (4323, np.float64(0.0)), (4324, np.float64(0.03340765523905304)), (4325, np.float64(0.025253813613805264)), (4326, np.float64(0.0)), (4327, np.float64(0.02830692585361489)), (4328, np.float64(0.03227486121839514)), (4329, np.float64(0.027607881518711633)), (4330, np.float64(0.041666666666666664)), (4331, np.float64(0.06804138174397717)), (4332, np.float64(0.039528470752104736)), (4333, np.float64(0.044194173824159216)), (4334, np.float64(0.07905694150420949)), (4335, np.float64(0.0)), (4336, np.float64(0.027277236279499045)), (4337, np.float64(0.0)), (4338, np.float64(0.036084391824351615)), (4339, np.float64(0.029462782549439476)), (4340, np.float64(0.04767312946227961)), (4341, np.float64(0.05661385170722978)), (4342, np.float64(0.0)), (4343, np.float64(0.220630652030457)), (4344, np.float64(0.0)), (4345, np.float64(0.021596710639534)), (4346, np.float64(0.0)), (4347, np.float64(0.03340765523905304)), (4348, np.float64(0.09805806756909201)), (4349, np.float64(0.0)), (4350, np.float64(0.0)), (4351, np.float64(0.0)), (4352, np.float64(0.026958193300859603)), (4353, np.float64(0.049029033784546004)), (4354, np.float64(0.07715167498104596)), (4355, np.float64(0.06933752452815364)), (4356, np.float64(0.0)), (4357, np.float64(0.06933752452815364)), (4358, np.float64(0.0)), (4359, np.float64(0.0)), (4360, np.float64(0.0)), (4361, np.float64(0.0)), (4362, np.float64(0.0)), (4363, np.float64(0.0)), (4364, np.float64(0.022271770159368695)), (4365, np.float64(0.0)), (4366, np.float64(0.0)), (4367, np.float64(0.0)), (4368, np.float64(0.0)), (4369, np.float64(0.0)), (4370, np.float64(0.0)), (4371, np.float64(0.0)), (4372, np.float64(0.0)), (4373, np.float64(0.0)), (4374, np.float64(0.05661385170722978)), (4375, np.float64(0.0)), (4376, np.float64(0.049029033784546004)), (4377, np.float64(0.0)), (4378, np.float64(0.0)), (4379, np.float64(0.0)), (4380, np.float64(0.0)), (4381, np.float64(0.024056261216234404)), (4382, np.float64(0.0)), (4383, np.float64(0.0)), (4384, np.float64(0.0)), (4385, np.float64(0.0)), (4386, np.float64(0.0)), (4387, np.float64(0.0)), (4388, np.float64(0.0)), (4389, np.float64(0.0)), (4390, np.float64(0.041666666666666664)), (4391, np.float64(0.0)), (4392, np.float64(0.024753688574416854)), (4393, np.float64(0.026064301757134343)), (4394, np.float64(0.041666666666666664)), (4395, np.float64(0.049029033784546004)), (4396, np.float64(0.062499999999999986)), (4397, np.float64(0.02321191727213148)), (4398, np.float64(0.024999999999999998)), (4399, np.float64(0.049999999999999996)), (4400, np.float64(0.0)), (4401, np.float64(0.053916386601719206)), (4402, np.float64(0.0)), (4403, np.float64(0.0)), (4404, np.float64(0.0)), (4405, np.float64(0.10206207261596575)), (4406, np.float64(0.12309149097933274)), (4407, np.float64(0.0)), (4408, np.float64(0.06565321642986127)), (4409, np.float64(0.0)), (4410, np.float64(0.0)), (4411, np.float64(0.0)), (4412, np.float64(0.08111071056538126)), (4413, np.float64(0.0)), (4414, np.float64(0.0)), (4415, np.float64(0.0)), (4416, np.float64(0.0)), (4417, np.float64(0.0)), (4418, np.float64(0.0)), (4419, np.float64(0.09805806756909201)), (4420, np.float64(0.0)), (4421, np.float64(0.0)), (4422, np.float64(0.0)), (4423, np.float64(0.0)), (4424, np.float64(0.0)), (4425, np.float64(0.07905694150420947)), (4426, np.float64(0.0)), (4427, np.float64(0.0)), (4428, np.float64(0.0)), (4429, np.float64(0.060436722301903514)), (4430, np.float64(0.0)), (4431, np.float64(0.0)), (4432, np.float64(0.09205746178983235)), (4433, np.float64(0.06933752452815364)), (4434, np.float64(0.0)), (4435, np.float64(0.05270462766947299)), (4436, np.float64(0.0)), (4437, np.float64(0.0)), (4438, np.float64(0.02830692585361489)), (4439, np.float64(0.0)), (4440, np.float64(0.028676966733820218)), (4441, np.float64(0.0)), (4442, np.float64(0.0)), (4443, np.float64(0.0)), (4444, np.float64(0.0)), (4445, np.float64(0.0)), (4446, np.float64(0.0)), (4447, np.float64(0.0)), (4448, np.float64(0.01620509308880411)), (4449, np.float64(0.022821773229381916)), (4450, np.float64(0.0)), (4451, np.float64(0.049029033784546004)), (4452, np.float64(0.031750031750047626)), (4453, np.float64(0.022633936510629633)), (4454, np.float64(0.039528470752104736)), (4455, np.float64(0.0)), (4456, np.float64(0.0)), (4457, np.float64(0.0)), (4458, np.float64(0.026650089544451302)), (4459, np.float64(0.0)), (4460, np.float64(0.0)), (4461, np.float64(0.0)), (4462, np.float64(0.0)), (4463, np.float64(0.039528470752104736)), (4464, np.float64(0.0)), (4465, np.float64(0.0)), (4466, np.float64(0.02128141326896871)), (4467, np.float64(0.0)), (4468, np.float64(0.09095085938862485)), (4469, np.float64(0.02795084971874737)), (4470, np.float64(0.0)), (4471, np.float64(0.0413802944301184)), (4472, np.float64(0.10606601717798213)), (4473, np.float64(0.0)), (4474, np.float64(0.0)), (4475, np.float64(0.062499999999999986)), (4476, np.float64(0.07071067811865475)), (4477, np.float64(0.041666666666666664)), (4478, np.float64(0.032826608214930636)), (4479, np.float64(0.036084391824351615)), (4480, np.float64(0.0)), (4481, np.float64(0.0)), (4482, np.float64(0.035355339059327376)), (4483, np.float64(0.0)), (4484, np.float64(0.0)), (4485, np.float64(0.0)), (4486, np.float64(0.036860489038724284)), (4487, np.float64(0.023836564731139806)), (4488, np.float64(0.08908708063747478)), (4489, np.float64(0.0)), (4490, np.float64(0.036084391824351615)), (4491, np.float64(0.034020690871988585)), (4492, np.float64(0.044194173824159216)), (4493, np.float64(0.034020690871988585)), (4494, np.float64(0.0)), (4495, np.float64(0.030772872744833184)), (4496, np.float64(0.041666666666666664)), (4497, np.float64(0.0)), (4498, np.float64(0.0)), (4499, np.float64(0.0)), (4500, np.float64(0.0)), (4501, np.float64(0.023414645289542346)), (4502, np.float64(0.10206207261596575)), (4503, np.float64(0.0)), (4504, np.float64(0.0)), (4505, np.float64(0.06454972243679027)), (4506, np.float64(0.04351941398892445)), (4507, np.float64(0.0)), (4508, np.float64(0.0)), (4509, np.float64(0.10400628679223047)), (4510, np.float64(0.0)), (4511, np.float64(0.0)), (4512, np.float64(0.0)), (4513, np.float64(0.0)), (4514, np.float64(0.0)), (4515, np.float64(0.0)), (4516, np.float64(0.0472455591261534)), (4517, np.float64(0.0)), (4518, np.float64(0.03187883565316691)), (4519, np.float64(0.027277236279499045)), (4520, np.float64(0.0236227795630767)), (4521, np.float64(0.0)), (4522, np.float64(0.0)), (4523, np.float64(0.026064301757134343)), (4524, np.float64(0.0)), (4525, np.float64(0.0)), (4526, np.float64(0.0)), (4527, np.float64(0.0)), (4528, np.float64(0.0)), (4529, np.float64(0.027358782758229137)), (4530, np.float64(0.0)), (4531, np.float64(0.07905694150420949)), (4532, np.float64(0.018233123937236816)), (4533, np.float64(0.0)), (4534, np.float64(0.05455447255899809)), (4535, np.float64(0.0)), (4536, np.float64(0.0)), (4537, np.float64(0.0)), (4538, np.float64(0.07426106572325056)), (4539, np.float64(0.0)), (4540, np.float64(0.0)), (4541, np.float64(0.0)), (4542, np.float64(0.04055535528269063)), (4543, np.float64(0.0)), (4544, np.float64(0.0)), (4545, np.float64(0.0)), (4546, np.float64(0.0)), (4547, np.float64(0.0)), (4548, np.float64(0.0)), (4549, np.float64(0.026064301757134343)), (4550, np.float64(0.0)), (4551, np.float64(0.0)), (4552, np.float64(0.04490132550669372)), (4553, np.float64(0.0)), (4554, np.float64(0.0)), (4555, np.float64(0.044194173824159216)), (4556, np.float64(0.0)), (4557, np.float64(0.041666666666666664)), (4558, np.float64(0.05521576303742327)), (4559, np.float64(0.020016019225635888)), (4560, np.float64(0.030772872744833184)), (4561, np.float64(0.036084391824351615)), (4562, np.float64(0.0)), (4563, np.float64(0.0)), (4564, np.float64(0.04564354645876383)), (4565, np.float64(0.016004609991611997)), (4566, np.float64(0.03340765523905304)), (4567, np.float64(0.02551551815399144)), (4568, np.float64(0.08838834764831843)), (4569, np.float64(0.062499999999999986)), (4570, np.float64(0.032826608214930636)), (4571, np.float64(0.0)), (4572, np.float64(0.0)), (4573, np.float64(0.0)), (4574, np.float64(0.0)), (4575, np.float64(0.0)), (4576, np.float64(0.0)), (4577, np.float64(0.0)), (4578, np.float64(0.0)), (4579, np.float64(0.03227486121839514)), (4580, np.float64(0.0)), (4581, np.float64(0.0)), (4582, np.float64(0.03834824944236852)), (4583, np.float64(0.0)), (4584, np.float64(0.0)), (4585, np.float64(0.0)), (4586, np.float64(0.0)), (4587, np.float64(0.0472455591261534)), (4588, np.float64(0.0)), (4589, np.float64(0.0)), (4590, np.float64(0.0)), (4591, np.float64(0.0)), (4592, np.float64(0.021128856368212913)), (4593, np.float64(0.07216878364870323)), (4594, np.float64(0.0)), (4595, np.float64(0.0)), (4596, np.float64(0.0)), (4597, np.float64(0.0)), (4598, np.float64(0.03466876226407682)), (4599, np.float64(0.0)), (4600, np.float64(0.043193421279068)), (4601, np.float64(0.0)), (4602, np.float64(0.05892556509887895)), (4603, np.float64(0.0)), (4604, np.float64(0.0)), (4605, np.float64(0.0)), (4606, np.float64(0.0)), (4607, np.float64(0.0)), (4608, np.float64(0.0)), (4609, np.float64(0.0)), (4610, np.float64(0.0)), (4611, np.float64(0.0)), (4612, np.float64(0.0)), (4613, np.float64(0.0)), (4614, np.float64(0.0)), (4615, np.float64(0.0)), (4616, np.float64(0.0)), (4617, np.float64(0.0)), (4618, np.float64(0.0)), (4619, np.float64(0.0)), (4620, np.float64(0.0)), (4621, np.float64(0.0)), (4622, np.float64(0.0)), (4623, np.float64(0.10606601717798213)), (4624, np.float64(0.02795084971874737)), (4625, np.float64(0.0)), (4626, np.float64(0.029462782549439476)), (4627, np.float64(0.02192645048267573)), (4628, np.float64(0.0)), (4629, np.float64(0.0)), (4630, np.float64(0.03726779962499649)), (4631, np.float64(0.0)), (4632, np.float64(0.0)), (4633, np.float64(0.029061909685954818)), (4634, np.float64(0.0)), (4635, np.float64(0.0)), (4636, np.float64(0.062499999999999986)), (4637, np.float64(0.04564354645876383)), (4638, np.float64(0.03857583749052298)), (4639, np.float64(0.0)), (4640, np.float64(0.0)), (4641, np.float64(0.17677669529663687)), (4642, np.float64(0.0)), (4643, np.float64(0.0)), (4644, np.float64(0.026958193300859603)), (4645, np.float64(0.0)), (4646, np.float64(0.0)), (4647, np.float64(0.06904309634237427)), (4648, np.float64(0.0)), (4649, np.float64(0.0)), (4650, np.float64(0.0)), (4651, np.float64(0.0)), (4652, np.float64(0.0)), (4653, np.float64(0.0)), (4654, np.float64(0.0)), (4655, np.float64(0.0)), (4656, np.float64(0.021128856368212913)), (4657, np.float64(0.05892556509887895)), (4658, np.float64(0.0)), (4659, np.float64(0.034020690871988585)), (4660, np.float64(0.0)), (4661, np.float64(0.03466876226407682)), (4662, np.float64(0.022633936510629633)), (4663, np.float64(0.034020690871988585)), (4664, np.float64(0.0)), (4665, np.float64(0.0)), (4666, np.float64(0.0)), (4667, np.float64(0.059761430466719674)), (4668, np.float64(0.0)), (4669, np.float64(0.031249999999999993)), (4670, np.float64(0.0)), (4671, np.float64(0.0)), (4672, np.float64(0.024999999999999998)), (4673, np.float64(0.06454972243679027)), (4674, np.float64(0.0)), (4675, np.float64(0.0)), (4676, np.float64(0.0)), (4677, np.float64(0.0)), (4678, np.float64(0.05175491695067656)), (4679, np.float64(0.0)), (4680, np.float64(0.0)), (4681, np.float64(0.039528470752104736)), (4682, np.float64(0.049453535504684024)), (4683, np.float64(0.09682458365518541)), (4684, np.float64(0.0)), (4685, np.float64(0.0)), (4686, np.float64(0.0)), (4687, np.float64(0.03857583749052298)), (4688, np.float64(0.039528470752104736)), (4689, np.float64(0.0)), (4690, np.float64(0.0)), (4691, np.float64(0.057353933467640436)), (4692, np.float64(0.04351941398892445)), (4693, np.float64(0.032826608214930636)), (4694, np.float64(0.07216878364870322)), (4695, np.float64(0.044194173824159216)), (4696, np.float64(0.0)), (4697, np.float64(0.15309310892394862)), (4698, np.float64(0.0)), (4699, np.float64(0.0)), (4700, np.float64(0.0)), (4701, np.float64(0.0)), (4702, np.float64(0.0)), (4703, np.float64(0.0)), (4704, np.float64(0.03466876226407682)), (4705, np.float64(0.0)), (4706, np.float64(0.0)), (4707, np.float64(0.0)), (4708, np.float64(0.0)), (4709, np.float64(0.0)), (4710, np.float64(0.05455447255899809)), (4711, np.float64(0.08219949365267865)), (4712, np.float64(0.0)), (4713, np.float64(0.0)), (4714, np.float64(0.022271770159368695)), (4715, np.float64(0.0)), (4716, np.float64(0.0)), (4717, np.float64(0.0)), (4718, np.float64(0.0)), (4719, np.float64(0.0)), (4720, np.float64(0.062499999999999986)), (4721, np.float64(0.0)), (4722, np.float64(0.02321191727213148)), (4723, np.float64(0.0)), (4724, np.float64(0.0)), (4725, np.float64(0.0)), (4726, np.float64(0.0)), (4727, np.float64(0.0)), (4728, np.float64(0.0)), (4729, np.float64(0.0)), (4730, np.float64(0.024999999999999998)), (4731, np.float64(0.0)), (4732, np.float64(0.023414645289542346)), (4733, np.float64(0.03768891807222045)), (4734, np.float64(0.013139708280690917)), (4735, np.float64(0.0)), (4736, np.float64(0.0472455591261534)), (4737, np.float64(0.04564354645876383)), (4738, np.float64(0.04564354645876383)), (4739, np.float64(0.02795084971874737)), (4740, np.float64(0.04811252243246881)), (4741, np.float64(0.0)), (4742, np.float64(0.0)), (4743, np.float64(0.0)), (4744, np.float64(0.0)), (4745, np.float64(0.0)), (4746, np.float64(0.0)), (4747, np.float64(0.0)), (4748, np.float64(0.0)), (4749, np.float64(0.0)), (4750, np.float64(0.0)), (4751, np.float64(0.02321191727213148)), (4752, np.float64(0.0)), (4753, np.float64(0.0)), (4754, np.float64(0.031249999999999993)), (4755, np.float64(0.0)), (4756, np.float64(0.03768891807222045)), (4757, np.float64(0.0)), (4758, np.float64(0.044194173824159216)), (4759, np.float64(0.0)), (4760, np.float64(0.0)), (4761, np.float64(0.0)), (4762, np.float64(0.0)), (4763, np.float64(0.0)), (4764, np.float64(0.0)), (4765, np.float64(0.0)), (4766, np.float64(0.018738292224896536)), (4767, np.float64(0.0)), (4768, np.float64(0.0)), (4769, np.float64(0.0)), (4770, np.float64(0.09231861823449955)), (4771, np.float64(0.0)), (4772, np.float64(0.026064301757134343)), (4773, np.float64(0.0)), (4774, np.float64(0.0)), (4775, np.float64(0.09231861823449955)), (4776, np.float64(0.0)), (4777, np.float64(0.0)), (4778, np.float64(0.0)), (4779, np.float64(0.0)), (4780, np.float64(0.0)), (4781, np.float64(0.09525009525014289)), (4782, np.float64(0.0)), (4783, np.float64(0.07715167498104596)), (4784, np.float64(0.0)), (4785, np.float64(0.0)), (4786, np.float64(0.020277677641345315)), (4787, np.float64(0.0)), (4788, np.float64(0.0)), (4789, np.float64(0.022097086912079608)), (4790, np.float64(0.031750031750047626)), (4791, np.float64(0.06154574548966637)), (4792, np.float64(0.0)), (4793, np.float64(0.0)), (4794, np.float64(0.0)), (4795, np.float64(0.07654655446197431)), (4796, np.float64(0.08574929257125441)), (4797, np.float64(0.0)), (4798, np.float64(0.0)), (4799, np.float64(0.0)), (4800, np.float64(0.017589938618257295)), (4801, np.float64(0.04195906791483445)), (4802, np.float64(0.0)), (4803, np.float64(0.024514516892273002)), (4804, np.float64(0.0)), (4805, np.float64(0.0))]\n"
     ]
    }
   ],
   "source": [
    "movie_index = new_df[new_df['title'] == 'Spectre'].index[0]\n",
    "print(movie_index)\n",
    "distances = similarity[movie_index]\n",
    "print(distances)\n",
    "print(list(enumerate(distances)))\n",
    "\n",
    "# movies_list = sorted(list(enumerate(distances)),reverse=True,key = lambda x:x[1])[1:6]\n",
    "\n",
    "# print(movies_list)\n",
    "\n",
    "#for i in movies_list:\n",
    "#       print(new_df.iloc[i[0]].title)"
   ]
  },
  {
   "cell_type": "code",
   "execution_count": 61,
   "id": "9321084e",
   "metadata": {
    "execution": {
     "iopub.execute_input": "2023-10-18T17:04:29.093514Z",
     "iopub.status.busy": "2023-10-18T17:04:29.093160Z",
     "iopub.status.idle": "2023-10-18T17:04:29.098561Z",
     "shell.execute_reply": "2023-10-18T17:04:29.097454Z"
    },
    "papermill": {
     "duration": 0.025597,
     "end_time": "2023-10-18T17:04:29.100467",
     "exception": false,
     "start_time": "2023-10-18T17:04:29.074870",
     "status": "completed"
    },
    "tags": []
   },
   "outputs": [],
   "source": [
    "# def recommend(movie):\n",
    "#     movie_index = new_df[new_df['title'] == movie].index[0]\n",
    "#     distances = similarity[movie_index]\n",
    "#     movies_list = sorted(list(enumerate(distances)),reverse=True,key=lambda x:x[1])[1:6]\n",
    "      \n",
    "#     for i in movies_list:\n",
    "#         print(new_df.iloc[i[0]].title)"
   ]
  },
  {
   "cell_type": "markdown",
   "id": "8b6229ec",
   "metadata": {},
   "source": [
    "above code will give error if similar movies are not presnt       \n",
    "so the below code will handel that error using try and except block"
   ]
  },
  {
   "cell_type": "code",
   "execution_count": 62,
   "id": "8f5ca6e4",
   "metadata": {},
   "outputs": [],
   "source": [
    "def recommend(movie):\n",
    "    try:\n",
    "        movie_index = new_df[new_df['title']== movie].index[0]\n",
    "        distances = similarity[movie_index]\n",
    "        movies_list = sorted(list(enumerate(distances)), reverse=True, key=lambda x: x[1])[1:6]\n",
    "        \n",
    "        for i in movies_list:\n",
    "            print(new_df.iloc[i[0]].title)\n",
    "                    \n",
    "    except IndexError:\n",
    "        print(movie , 'not found')"
   ]
  },
  {
   "cell_type": "code",
   "execution_count": 63,
   "id": "a8e60de3",
   "metadata": {
    "execution": {
     "iopub.execute_input": "2023-10-18T17:04:29.132817Z",
     "iopub.status.busy": "2023-10-18T17:04:29.132151Z",
     "iopub.status.idle": "2023-10-18T17:04:29.140626Z",
     "shell.execute_reply": "2023-10-18T17:04:29.139635Z"
    },
    "papermill": {
     "duration": 0.026623,
     "end_time": "2023-10-18T17:04:29.142470",
     "exception": false,
     "start_time": "2023-10-18T17:04:29.115847",
     "status": "completed"
    },
    "tags": []
   },
   "outputs": [
    {
     "data": {
      "text/plain": [
       "0        True\n",
       "1       False\n",
       "2       False\n",
       "3       False\n",
       "4       False\n",
       "        ...  \n",
       "4804    False\n",
       "4805    False\n",
       "4806    False\n",
       "4807    False\n",
       "4808    False\n",
       "Name: title, Length: 4806, dtype: bool"
      ]
     },
     "execution_count": 63,
     "metadata": {},
     "output_type": "execute_result"
    }
   ],
   "source": [
    "new_df['title'] == 'Avatar'"
   ]
  },
  {
   "cell_type": "code",
   "execution_count": 64,
   "id": "eab5df09",
   "metadata": {
    "execution": {
     "iopub.execute_input": "2023-10-18T17:04:29.174717Z",
     "iopub.status.busy": "2023-10-18T17:04:29.174072Z",
     "iopub.status.idle": "2023-10-18T17:04:29.183862Z",
     "shell.execute_reply": "2023-10-18T17:04:29.183092Z"
    },
    "papermill": {
     "duration": 0.027624,
     "end_time": "2023-10-18T17:04:29.185610",
     "exception": false,
     "start_time": "2023-10-18T17:04:29.157986",
     "status": "completed"
    },
    "tags": []
   },
   "outputs": [
    {
     "data": {
      "text/html": [
       "<div>\n",
       "<style scoped>\n",
       "    .dataframe tbody tr th:only-of-type {\n",
       "        vertical-align: middle;\n",
       "    }\n",
       "\n",
       "    .dataframe tbody tr th {\n",
       "        vertical-align: top;\n",
       "    }\n",
       "\n",
       "    .dataframe thead th {\n",
       "        text-align: right;\n",
       "    }\n",
       "</style>\n",
       "<table border=\"1\" class=\"dataframe\">\n",
       "  <thead>\n",
       "    <tr style=\"text-align: right;\">\n",
       "      <th></th>\n",
       "      <th>id</th>\n",
       "      <th>title</th>\n",
       "      <th>tags</th>\n",
       "    </tr>\n",
       "  </thead>\n",
       "  <tbody>\n",
       "    <tr>\n",
       "      <th>0</th>\n",
       "      <td>19995</td>\n",
       "      <td>Avatar</td>\n",
       "      <td>in the 22nd century, a parapleg marin is dispa...</td>\n",
       "    </tr>\n",
       "  </tbody>\n",
       "</table>\n",
       "</div>"
      ],
      "text/plain": [
       "      id   title                                               tags\n",
       "0  19995  Avatar  in the 22nd century, a parapleg marin is dispa..."
      ]
     },
     "execution_count": 64,
     "metadata": {},
     "output_type": "execute_result"
    }
   ],
   "source": [
    "new_df[new_df['title'] == 'Avatar']"
   ]
  },
  {
   "cell_type": "code",
   "execution_count": 65,
   "id": "f26e716f",
   "metadata": {
    "execution": {
     "iopub.execute_input": "2023-10-18T17:04:29.301706Z",
     "iopub.status.busy": "2023-10-18T17:04:29.301119Z",
     "iopub.status.idle": "2023-10-18T17:04:29.310702Z",
     "shell.execute_reply": "2023-10-18T17:04:29.309483Z"
    },
    "papermill": {
     "duration": 0.027426,
     "end_time": "2023-10-18T17:04:29.312511",
     "exception": false,
     "start_time": "2023-10-18T17:04:29.285085",
     "status": "completed"
    },
    "tags": []
   },
   "outputs": [
    {
     "name": "stdout",
     "output_type": "stream",
     "text": [
      "Aliens vs Predator: Requiem\n",
      "Aliens\n",
      "Falcon Rising\n",
      "Independence Day\n",
      "Titan A.E.\n"
     ]
    }
   ],
   "source": [
    "recommend('Avatar')"
   ]
  },
  {
   "cell_type": "code",
   "execution_count": 66,
   "id": "4baf0925",
   "metadata": {
    "execution": {
     "iopub.execute_input": "2023-10-18T17:04:29.345281Z",
     "iopub.status.busy": "2023-10-18T17:04:29.344679Z",
     "iopub.status.idle": "2023-10-18T17:04:29.354520Z",
     "shell.execute_reply": "2023-10-18T17:04:29.353267Z"
    },
    "papermill": {
     "duration": 0.028349,
     "end_time": "2023-10-18T17:04:29.356492",
     "exception": false,
     "start_time": "2023-10-18T17:04:29.328143",
     "status": "completed"
    },
    "tags": []
   },
   "outputs": [
    {
     "name": "stdout",
     "output_type": "stream",
     "text": [
      "Batman\n",
      "Batman & Robin\n",
      "Batman Begins\n",
      "Batman Returns\n",
      "The R.M.\n"
     ]
    }
   ],
   "source": [
    "recommend('Batman')"
   ]
  },
  {
   "cell_type": "code",
   "execution_count": 67,
   "id": "53770045",
   "metadata": {},
   "outputs": [
    {
     "name": "stdout",
     "output_type": "stream",
     "text": [
      "Iron Man 3\n",
      "Iron Man 2\n",
      "Avengers: Age of Ultron\n",
      "The Avengers\n",
      "Captain America: Civil War\n"
     ]
    }
   ],
   "source": [
    "recommend('Iron Man')"
   ]
  },
  {
   "cell_type": "code",
   "execution_count": 68,
   "id": "dc480a95",
   "metadata": {},
   "outputs": [
    {
     "name": "stdout",
     "output_type": "stream",
     "text": [
      "Spider-Man 2\n",
      "Spider-Man\n",
      "The Amazing Spider-Man 2\n",
      "The Amazing Spider-Man\n",
      "Arachnophobia\n"
     ]
    }
   ],
   "source": [
    "recommend('Spider-Man 3')"
   ]
  }
 ],
 "metadata": {
  "kernelspec": {
   "display_name": "Python 3",
   "language": "python",
   "name": "python3"
  },
  "language_info": {
   "codemirror_mode": {
    "name": "ipython",
    "version": 3
   },
   "file_extension": ".py",
   "mimetype": "text/x-python",
   "name": "python",
   "nbconvert_exporter": "python",
   "pygments_lexer": "ipython3",
   "version": "3.13.5"
  },
  "papermill": {
   "default_parameters": {},
   "duration": 27.736423,
   "end_time": "2023-10-18T17:04:30.075460",
   "environment_variables": {},
   "exception": null,
   "input_path": "__notebook__.ipynb",
   "output_path": "__notebook__.ipynb",
   "parameters": {},
   "start_time": "2023-10-18T17:04:02.339037",
   "version": "2.4.0"
  }
 },
 "nbformat": 4,
 "nbformat_minor": 5
}
